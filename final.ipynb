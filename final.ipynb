{
 "cells": [
  {
   "cell_type": "code",
   "execution_count": 1,
   "metadata": {},
   "outputs": [
    {
     "name": "stdout",
     "output_type": "stream",
     "text": [
      "Kernel: /usr/bin/python3\n"
     ]
    }
   ],
   "source": [
    "# check kernel environment\n",
    "import sys\n",
    "print(\"Kernel: {}\".format(sys.executable))\n",
    "\n",
    "# Core data analysis packages\n",
    "import pandas as pd\n",
    "import numpy as np\n",
    "\n",
    "# For our EDA charts\n",
    "import matplotlib.pyplot as plt\n",
    "import matplotlib.ticker as ticker\n",
    "import seaborn as sns\n",
    "\n",
    "# Compressed Sparse Row matrix\n",
    "from scipy.sparse import csr_matrix \n",
    "\n",
    "# use K-Nearest Neighbors to find cosine distance amongst artists\n",
    "from sklearn.neighbors import NearestNeighbors\n",
    "\n",
    "# evaluate a variety of recommender system models in the TuriCreate package\n",
    "import turicreate as tc\n",
    "\n",
    "# fuzzy string matching to allow for differing spelling of artist names\n",
    "from fuzzywuzzy import fuzz, process\n",
    "\n",
    "# set output to three decimals\n",
    "pd.set_option('display.float_format',lambda x: '%.2f' %x)\n",
    "\n",
    "# set seed for reproducibility of random number initializations\n",
    "seed = np.random.RandomState(seed=42)"
   ]
  },
  {
   "cell_type": "code",
   "execution_count": 2,
   "metadata": {},
   "outputs": [],
   "source": [
    "# datasets\n",
    "plays = pd.read_csv('user_artists.dat',sep='\\t')\n",
    "artists = pd.read_csv('artists.dat',sep='\\t',usecols=['id','name'])\n",
    "tags = pd.read_csv('tags.dat', sep='\\t',encoding='latin-1')\n",
    "uta = pd.read_csv('user_taggedartists.dat', sep='\\t')\n",
    "utat = pd.read_csv('user_taggedartists-timestamps.dat', sep=\"\\t\")\n",
    "friends = pd.read_csv('user_friends.dat', sep='\\t')"
   ]
  },
  {
   "cell_type": "code",
   "execution_count": 3,
   "metadata": {},
   "outputs": [],
   "source": [
    "# create a function to provide various statistics on our data files\n",
    "def print_info(df_list, df_name):\n",
    "    \n",
    "    # assertion to ensure our two lists are equal in length\n",
    "    assert len(df_list) == len(df_name)\n",
    "\n",
    "    for i in range(len(df_list)):\n",
    "        print(df_name[i],'\\n')\n",
    "        print(\"Shape: {}\\n\".format(df_list[i].shape))\n",
    "        print(\"Info:\")\n",
    "        print(df_list[i].info(),'\\n')\n",
    "        print(\"Unique:\\n{}\\n\".format(df_list[i].nunique()))     \n",
    "        \n",
    "        # This returns True if no duplicates are dropped \n",
    "        print(\"No duplicates: {}\\n\".format(len(df_list[i])==len(df_list[i].drop_duplicates())))"
   ]
  },
  {
   "cell_type": "code",
   "execution_count": 4,
   "metadata": {},
   "outputs": [
    {
     "name": "stdout",
     "output_type": "stream",
     "text": [
      "**Plays** \n",
      "\n",
      "Shape: (92834, 3)\n",
      "\n",
      "Info:\n",
      "<class 'pandas.core.frame.DataFrame'>\n",
      "RangeIndex: 92834 entries, 0 to 92833\n",
      "Data columns (total 3 columns):\n",
      "userID      92834 non-null int64\n",
      "artistID    92834 non-null int64\n",
      "weight      92834 non-null int64\n",
      "dtypes: int64(3)\n",
      "memory usage: 2.1 MB\n",
      "None \n",
      "\n",
      "Unique:\n",
      "userID       1892\n",
      "artistID    17632\n",
      "weight       5436\n",
      "dtype: int64\n",
      "\n",
      "No duplicates: True\n",
      "\n",
      "**Artists** \n",
      "\n",
      "Shape: (17632, 2)\n",
      "\n",
      "Info:\n",
      "<class 'pandas.core.frame.DataFrame'>\n",
      "RangeIndex: 17632 entries, 0 to 17631\n",
      "Data columns (total 2 columns):\n",
      "id      17632 non-null int64\n",
      "name    17632 non-null object\n",
      "dtypes: int64(1), object(1)\n",
      "memory usage: 275.6+ KB\n",
      "None \n",
      "\n",
      "Unique:\n",
      "id      17632\n",
      "name    17632\n",
      "dtype: int64\n",
      "\n",
      "No duplicates: True\n",
      "\n",
      "**Tags** \n",
      "\n",
      "Shape: (11946, 2)\n",
      "\n",
      "Info:\n",
      "<class 'pandas.core.frame.DataFrame'>\n",
      "RangeIndex: 11946 entries, 0 to 11945\n",
      "Data columns (total 2 columns):\n",
      "tagID       11946 non-null int64\n",
      "tagValue    11946 non-null object\n",
      "dtypes: int64(1), object(1)\n",
      "memory usage: 186.8+ KB\n",
      "None \n",
      "\n",
      "Unique:\n",
      "tagID       11946\n",
      "tagValue    11946\n",
      "dtype: int64\n",
      "\n",
      "No duplicates: True\n",
      "\n",
      "**User Tagged Artists (Date)** \n",
      "\n",
      "Shape: (186479, 6)\n",
      "\n",
      "Info:\n",
      "<class 'pandas.core.frame.DataFrame'>\n",
      "RangeIndex: 186479 entries, 0 to 186478\n",
      "Data columns (total 6 columns):\n",
      "userID      186479 non-null int64\n",
      "artistID    186479 non-null int64\n",
      "tagID       186479 non-null int64\n",
      "day         186479 non-null int64\n",
      "month       186479 non-null int64\n",
      "year        186479 non-null int64\n",
      "dtypes: int64(6)\n",
      "memory usage: 8.5 MB\n",
      "None \n",
      "\n",
      "Unique:\n",
      "userID       1892\n",
      "artistID    12523\n",
      "tagID        9749\n",
      "day             4\n",
      "month          12\n",
      "year           10\n",
      "dtype: int64\n",
      "\n",
      "No duplicates: True\n",
      "\n",
      "**User Tagged Artists (Timestamp)** \n",
      "\n",
      "Shape: (186479, 4)\n",
      "\n",
      "Info:\n",
      "<class 'pandas.core.frame.DataFrame'>\n",
      "RangeIndex: 186479 entries, 0 to 186478\n",
      "Data columns (total 4 columns):\n",
      "userID       186479 non-null int64\n",
      "artistID     186479 non-null int64\n",
      "tagID        186479 non-null int64\n",
      "timestamp    186479 non-null int64\n",
      "dtypes: int64(4)\n",
      "memory usage: 5.7 MB\n",
      "None \n",
      "\n",
      "Unique:\n",
      "userID        1892\n",
      "artistID     12523\n",
      "tagID         9749\n",
      "timestamp     3549\n",
      "dtype: int64\n",
      "\n",
      "No duplicates: True\n",
      "\n",
      "**Friends** \n",
      "\n",
      "Shape: (25434, 2)\n",
      "\n",
      "Info:\n",
      "<class 'pandas.core.frame.DataFrame'>\n",
      "RangeIndex: 25434 entries, 0 to 25433\n",
      "Data columns (total 2 columns):\n",
      "userID      25434 non-null int64\n",
      "friendID    25434 non-null int64\n",
      "dtypes: int64(2)\n",
      "memory usage: 397.5 KB\n",
      "None \n",
      "\n",
      "Unique:\n",
      "userID      1892\n",
      "friendID    1892\n",
      "dtype: int64\n",
      "\n",
      "No duplicates: True\n",
      "\n"
     ]
    }
   ],
   "source": [
    "df_list = [plays, artists, tags, uta, utat, friends]\n",
    "df_name = ['**Plays**',\n",
    "           '**Artists**',\n",
    "           '**Tags**',\n",
    "           '**User Tagged Artists (Date)**',\n",
    "           '**User Tagged Artists (Timestamp)**',\n",
    "           '**Friends**']\n",
    "\n",
    "print_info(df_list,df_name)"
   ]
  },
  {
   "cell_type": "code",
   "execution_count": 5,
   "metadata": {},
   "outputs": [
    {
     "data": {
      "text/html": [
       "<div>\n",
       "<style scoped>\n",
       "    .dataframe tbody tr th:only-of-type {\n",
       "        vertical-align: middle;\n",
       "    }\n",
       "\n",
       "    .dataframe tbody tr th {\n",
       "        vertical-align: top;\n",
       "    }\n",
       "\n",
       "    .dataframe thead th {\n",
       "        text-align: right;\n",
       "    }\n",
       "</style>\n",
       "<table border=\"1\" class=\"dataframe\">\n",
       "  <thead>\n",
       "    <tr style=\"text-align: right;\">\n",
       "      <th></th>\n",
       "      <th>id</th>\n",
       "      <th>name</th>\n",
       "      <th>userID</th>\n",
       "      <th>artistID</th>\n",
       "      <th>userArtistPlays</th>\n",
       "    </tr>\n",
       "  </thead>\n",
       "  <tbody>\n",
       "    <tr>\n",
       "      <th>0</th>\n",
       "      <td>1</td>\n",
       "      <td>MALICE MIZER</td>\n",
       "      <td>34</td>\n",
       "      <td>1</td>\n",
       "      <td>212</td>\n",
       "    </tr>\n",
       "    <tr>\n",
       "      <th>1</th>\n",
       "      <td>1</td>\n",
       "      <td>MALICE MIZER</td>\n",
       "      <td>274</td>\n",
       "      <td>1</td>\n",
       "      <td>483</td>\n",
       "    </tr>\n",
       "    <tr>\n",
       "      <th>2</th>\n",
       "      <td>1</td>\n",
       "      <td>MALICE MIZER</td>\n",
       "      <td>785</td>\n",
       "      <td>1</td>\n",
       "      <td>76</td>\n",
       "    </tr>\n",
       "    <tr>\n",
       "      <th>3</th>\n",
       "      <td>2</td>\n",
       "      <td>Diary of Dreams</td>\n",
       "      <td>135</td>\n",
       "      <td>2</td>\n",
       "      <td>1021</td>\n",
       "    </tr>\n",
       "    <tr>\n",
       "      <th>4</th>\n",
       "      <td>2</td>\n",
       "      <td>Diary of Dreams</td>\n",
       "      <td>257</td>\n",
       "      <td>2</td>\n",
       "      <td>152</td>\n",
       "    </tr>\n",
       "  </tbody>\n",
       "</table>\n",
       "</div>"
      ],
      "text/plain": [
       "   id             name  userID  artistID  userArtistPlays\n",
       "0   1     MALICE MIZER      34         1              212\n",
       "1   1     MALICE MIZER     274         1              483\n",
       "2   1     MALICE MIZER     785         1               76\n",
       "3   2  Diary of Dreams     135         2             1021\n",
       "4   2  Diary of Dreams     257         2              152"
      ]
     },
     "execution_count": 5,
     "metadata": {},
     "output_type": "execute_result"
    }
   ],
   "source": [
    "ap = pd.merge(artists, \n",
    "                plays, \n",
    "                how='inner',\n",
    "                left_on='id',\n",
    "                right_on='artistID')\n",
    "\n",
    "ap = ap.rename(columns={\"weight\":\"userArtistPlays\"})\n",
    "\n",
    "ap.head()"
   ]
  },
  {
   "cell_type": "code",
   "execution_count": 6,
   "metadata": {},
   "outputs": [],
   "source": [
    "artist_rank = (ap.groupby(['name']).agg({'userID':'count','userArtistPlays':'sum'}).\n",
    "    rename(columns={\"userID\":'totalUniqueUsers',\"userArtistPlays\":\"totalArtistPlays\"}).\n",
    "              sort_values(['totalArtistPlays'],ascending=False))\n",
    "artist_rank['avgUserPlays'] = artist_rank['totalArtistPlays']/artist_rank['totalUniqueUsers']\n",
    "user_rank = (ap.groupby(['userID']).agg({'name':'count','userArtistPlays':'sum'}).\n",
    "    rename(columns={\"name\":'totalUniqueArtists',\"userArtistPlays\":\"totalUserPlays\"}).\n",
    "            sort_values(['totalUserPlays'],ascending=False))"
   ]
  },
  {
   "cell_type": "code",
   "execution_count": 7,
   "metadata": {},
   "outputs": [
    {
     "data": {
      "text/html": [
       "<div>\n",
       "<style scoped>\n",
       "    .dataframe tbody tr th:only-of-type {\n",
       "        vertical-align: middle;\n",
       "    }\n",
       "\n",
       "    .dataframe tbody tr th {\n",
       "        vertical-align: top;\n",
       "    }\n",
       "\n",
       "    .dataframe thead th {\n",
       "        text-align: right;\n",
       "    }\n",
       "</style>\n",
       "<table border=\"1\" class=\"dataframe\">\n",
       "  <thead>\n",
       "    <tr style=\"text-align: right;\">\n",
       "      <th></th>\n",
       "      <th>totalUniqueUsers</th>\n",
       "      <th>totalArtistPlays</th>\n",
       "      <th>avgUserPlays</th>\n",
       "    </tr>\n",
       "    <tr>\n",
       "      <th>name</th>\n",
       "      <th></th>\n",
       "      <th></th>\n",
       "      <th></th>\n",
       "    </tr>\n",
       "  </thead>\n",
       "  <tbody>\n",
       "    <tr>\n",
       "      <th>Britney Spears</th>\n",
       "      <td>522</td>\n",
       "      <td>2393140</td>\n",
       "      <td>4584.56</td>\n",
       "    </tr>\n",
       "    <tr>\n",
       "      <th>Depeche Mode</th>\n",
       "      <td>282</td>\n",
       "      <td>1301308</td>\n",
       "      <td>4614.57</td>\n",
       "    </tr>\n",
       "    <tr>\n",
       "      <th>Lady Gaga</th>\n",
       "      <td>611</td>\n",
       "      <td>1291387</td>\n",
       "      <td>2113.56</td>\n",
       "    </tr>\n",
       "    <tr>\n",
       "      <th>Christina Aguilera</th>\n",
       "      <td>407</td>\n",
       "      <td>1058405</td>\n",
       "      <td>2600.50</td>\n",
       "    </tr>\n",
       "    <tr>\n",
       "      <th>Paramore</th>\n",
       "      <td>399</td>\n",
       "      <td>963449</td>\n",
       "      <td>2414.66</td>\n",
       "    </tr>\n",
       "  </tbody>\n",
       "</table>\n",
       "</div>"
      ],
      "text/plain": [
       "                    totalUniqueUsers  totalArtistPlays  avgUserPlays\n",
       "name                                                                \n",
       "Britney Spears                   522           2393140       4584.56\n",
       "Depeche Mode                     282           1301308       4614.57\n",
       "Lady Gaga                        611           1291387       2113.56\n",
       "Christina Aguilera               407           1058405       2600.50\n",
       "Paramore                         399            963449       2414.66"
      ]
     },
     "execution_count": 7,
     "metadata": {},
     "output_type": "execute_result"
    }
   ],
   "source": [
    "artist_rank.head()"
   ]
  },
  {
   "cell_type": "code",
   "execution_count": 8,
   "metadata": {},
   "outputs": [],
   "source": [
    "ap2 = ap.join(artist_rank,on='name',how='inner')\n",
    "ap3 = ap2.join(user_rank,on='userID',how='inner').sort_values(['userArtistPlays'],ascending=False)\n",
    "\n",
    "# confirm no duplicated rows\n",
    "assert ap3[ap3.duplicated(['userID','name'])].empty"
   ]
  },
  {
   "cell_type": "code",
   "execution_count": 9,
   "metadata": {},
   "outputs": [
    {
     "data": {
      "text/html": [
       "<div>\n",
       "<style scoped>\n",
       "    .dataframe tbody tr th:only-of-type {\n",
       "        vertical-align: middle;\n",
       "    }\n",
       "\n",
       "    .dataframe tbody tr th {\n",
       "        vertical-align: top;\n",
       "    }\n",
       "\n",
       "    .dataframe thead th {\n",
       "        text-align: right;\n",
       "    }\n",
       "</style>\n",
       "<table border=\"1\" class=\"dataframe\">\n",
       "  <thead>\n",
       "    <tr style=\"text-align: right;\">\n",
       "      <th></th>\n",
       "      <th>id</th>\n",
       "      <th>name</th>\n",
       "      <th>userID</th>\n",
       "      <th>artistID</th>\n",
       "      <th>userArtistPlays</th>\n",
       "      <th>totalUniqueUsers</th>\n",
       "      <th>totalArtistPlays</th>\n",
       "      <th>avgUserPlays</th>\n",
       "      <th>totalUniqueArtists</th>\n",
       "      <th>totalUserPlays</th>\n",
       "    </tr>\n",
       "  </thead>\n",
       "  <tbody>\n",
       "    <tr>\n",
       "      <th>2800</th>\n",
       "      <td>72</td>\n",
       "      <td>Depeche Mode</td>\n",
       "      <td>1642</td>\n",
       "      <td>72</td>\n",
       "      <td>352698</td>\n",
       "      <td>282</td>\n",
       "      <td>1301308</td>\n",
       "      <td>4614.57</td>\n",
       "      <td>50</td>\n",
       "      <td>388251</td>\n",
       "    </tr>\n",
       "    <tr>\n",
       "      <th>35843</th>\n",
       "      <td>792</td>\n",
       "      <td>Thalía</td>\n",
       "      <td>2071</td>\n",
       "      <td>792</td>\n",
       "      <td>324663</td>\n",
       "      <td>26</td>\n",
       "      <td>350035</td>\n",
       "      <td>13462.88</td>\n",
       "      <td>50</td>\n",
       "      <td>338400</td>\n",
       "    </tr>\n",
       "    <tr>\n",
       "      <th>27302</th>\n",
       "      <td>511</td>\n",
       "      <td>U2</td>\n",
       "      <td>1094</td>\n",
       "      <td>511</td>\n",
       "      <td>320725</td>\n",
       "      <td>185</td>\n",
       "      <td>493024</td>\n",
       "      <td>2664.99</td>\n",
       "      <td>50</td>\n",
       "      <td>379125</td>\n",
       "    </tr>\n",
       "    <tr>\n",
       "      <th>8152</th>\n",
       "      <td>203</td>\n",
       "      <td>Blur</td>\n",
       "      <td>1905</td>\n",
       "      <td>203</td>\n",
       "      <td>257978</td>\n",
       "      <td>114</td>\n",
       "      <td>318221</td>\n",
       "      <td>2791.41</td>\n",
       "      <td>50</td>\n",
       "      <td>276295</td>\n",
       "    </tr>\n",
       "    <tr>\n",
       "      <th>26670</th>\n",
       "      <td>498</td>\n",
       "      <td>Paramore</td>\n",
       "      <td>1664</td>\n",
       "      <td>498</td>\n",
       "      <td>227829</td>\n",
       "      <td>399</td>\n",
       "      <td>963449</td>\n",
       "      <td>2414.66</td>\n",
       "      <td>50</td>\n",
       "      <td>251560</td>\n",
       "    </tr>\n",
       "  </tbody>\n",
       "</table>\n",
       "</div>"
      ],
      "text/plain": [
       "        id          name  userID  artistID  userArtistPlays  totalUniqueUsers  \\\n",
       "2800    72  Depeche Mode    1642        72           352698               282   \n",
       "35843  792        Thalía    2071       792           324663                26   \n",
       "27302  511            U2    1094       511           320725               185   \n",
       "8152   203          Blur    1905       203           257978               114   \n",
       "26670  498      Paramore    1664       498           227829               399   \n",
       "\n",
       "       totalArtistPlays  avgUserPlays  totalUniqueArtists  totalUserPlays  \n",
       "2800            1301308       4614.57                  50          388251  \n",
       "35843            350035      13462.88                  50          338400  \n",
       "27302            493024       2664.99                  50          379125  \n",
       "8152             318221       2791.41                  50          276295  \n",
       "26670            963449       2414.66                  50          251560  "
      ]
     },
     "execution_count": 9,
     "metadata": {},
     "output_type": "execute_result"
    }
   ],
   "source": [
    "ap3.head()"
   ]
  },
  {
   "cell_type": "code",
   "execution_count": 10,
   "metadata": {},
   "outputs": [
    {
     "name": "stdout",
     "output_type": "stream",
     "text": [
      "69,183,975\n"
     ]
    }
   ],
   "source": [
    "print(\"{:,}\".format(ap3['userArtistPlays'].sum()))"
   ]
  },
  {
   "cell_type": "code",
   "execution_count": 11,
   "metadata": {},
   "outputs": [],
   "source": [
    "# our standard bar chart in a function below\n",
    "\n",
    "def bar_chart_int(x,y,x_label,y_label,title,caption,total_val):\n",
    "    fig, ax = plt.subplots()\n",
    "    fig.set_size_inches(16, 5)\n",
    "    ax = sns.barplot(x[:20], y[:20], palette=\"PuRd\")\n",
    "    ax.set_xlabel(x_label,fontweight='bold')\n",
    "    ax.set_ylabel(y_label,fontweight='bold')\n",
    "    ax.set_title(title,fontweight='bold')\n",
    "    ax.get_yaxis().set_major_formatter(ticker.FuncFormatter(lambda x, p: '{:,}'.format(int(x))))\n",
    "\n",
    "    # our bar label placement\n",
    "    for p in ax.patches:\n",
    "        height = p.get_height()\n",
    "        pct = 100*(height/total_val)\n",
    "        ax.text(p.get_x()+p.get_width()/2.,\n",
    "                height + 3,\n",
    "                '{:1.1f}%'.format(pct),\n",
    "                ha=\"center\",verticalalignment='bottom',color='black') \n",
    "\n",
    "    # our caption statement\n",
    "    ax.text(19, max(y[:20])*0.95, caption, style='italic',fontsize=12,horizontalalignment='right')\n",
    "\n",
    "    plt.xticks(rotation=90)\n",
    "    plt.show()   "
   ]
  },
  {
   "cell_type": "code",
   "execution_count": 12,
   "metadata": {},
   "outputs": [
    {
     "data": {
      "image/png": "[encoded data removed]",
      "text/plain": [
       "<Figure size 1152x360 with 1 Axes>"
      ]
     },
     "metadata": {},
     "output_type": "display_data"
    }
   ],
   "source": [
    "c1 = artist_rank\n",
    "x = c1.index\n",
    "y = c1.totalArtistPlays\n",
    "x_label = 'Artist Name'\n",
    "y_label = 'Total Artist Plays'\n",
    "title = 'Total Plays by Artist'\n",
    "caption = 'Percentages are of total plays'\n",
    "total_val = c1.totalArtistPlays.sum()\n",
    "\n",
    "bar_chart_int(x,y,x_label,y_label,title,caption,total_val)"
   ]
  },
  {
   "cell_type": "code",
   "execution_count": 13,
   "metadata": {},
   "outputs": [
    {
     "data": {
      "text/html": [
       "<div>\n",
       "<style scoped>\n",
       "    .dataframe tbody tr th:only-of-type {\n",
       "        vertical-align: middle;\n",
       "    }\n",
       "\n",
       "    .dataframe tbody tr th {\n",
       "        vertical-align: top;\n",
       "    }\n",
       "\n",
       "    .dataframe thead th {\n",
       "        text-align: right;\n",
       "    }\n",
       "</style>\n",
       "<table border=\"1\" class=\"dataframe\">\n",
       "  <thead>\n",
       "    <tr style=\"text-align: right;\">\n",
       "      <th></th>\n",
       "      <th>totalUniqueUsers</th>\n",
       "      <th>totalArtistPlays</th>\n",
       "      <th>avgUserPlays</th>\n",
       "    </tr>\n",
       "    <tr>\n",
       "      <th>name</th>\n",
       "      <th></th>\n",
       "      <th></th>\n",
       "      <th></th>\n",
       "    </tr>\n",
       "  </thead>\n",
       "  <tbody>\n",
       "    <tr>\n",
       "      <th>Lady Gaga</th>\n",
       "      <td>611</td>\n",
       "      <td>1291387</td>\n",
       "      <td>2113.56</td>\n",
       "    </tr>\n",
       "    <tr>\n",
       "      <th>Britney Spears</th>\n",
       "      <td>522</td>\n",
       "      <td>2393140</td>\n",
       "      <td>4584.56</td>\n",
       "    </tr>\n",
       "    <tr>\n",
       "      <th>Rihanna</th>\n",
       "      <td>484</td>\n",
       "      <td>905423</td>\n",
       "      <td>1870.71</td>\n",
       "    </tr>\n",
       "    <tr>\n",
       "      <th>The Beatles</th>\n",
       "      <td>480</td>\n",
       "      <td>662116</td>\n",
       "      <td>1379.41</td>\n",
       "    </tr>\n",
       "    <tr>\n",
       "      <th>Katy Perry</th>\n",
       "      <td>473</td>\n",
       "      <td>532545</td>\n",
       "      <td>1125.89</td>\n",
       "    </tr>\n",
       "  </tbody>\n",
       "</table>\n",
       "</div>"
      ],
      "text/plain": [
       "                totalUniqueUsers  totalArtistPlays  avgUserPlays\n",
       "name                                                            \n",
       "Lady Gaga                    611           1291387       2113.56\n",
       "Britney Spears               522           2393140       4584.56\n",
       "Rihanna                      484            905423       1870.71\n",
       "The Beatles                  480            662116       1379.41\n",
       "Katy Perry                   473            532545       1125.89"
      ]
     },
     "execution_count": 13,
     "metadata": {},
     "output_type": "execute_result"
    }
   ],
   "source": [
    "artist_rank.sort_values(['totalUniqueUsers'],ascending=False).head()"
   ]
  },
  {
   "cell_type": "code",
   "execution_count": 14,
   "metadata": {},
   "outputs": [
    {
     "data": {
      "text/plain": [
       "611"
      ]
     },
     "execution_count": 14,
     "metadata": {},
     "output_type": "execute_result"
    }
   ],
   "source": [
    "len(ap3['userArtistPlays'][ap3['name']=='Lady Gaga'])"
   ]
  },
  {
   "cell_type": "code",
   "execution_count": 15,
   "metadata": {},
   "outputs": [
    {
     "data": {
      "image/png": "[encoded data removed]",
      "text/plain": [
       "<Figure size 1152x360 with 1 Axes>"
      ]
     },
     "metadata": {},
     "output_type": "display_data"
    }
   ],
   "source": [
    "# Lady Gaga has been played by 32.3% of the users in the sample\n",
    "c2 = artist_rank.sort_values(['totalUniqueUsers'],ascending=False)\n",
    "x = c2.index\n",
    "y = c2.totalUniqueUsers\n",
    "x_label = 'Artist Name'\n",
    "y_label = 'Unique Users Played'\n",
    "title = 'Unique Users per Artist'\n",
    "caption = 'Percentages are of total unique users'\n",
    "total_val = ap3.userID.nunique()\n",
    "\n",
    "bar_chart_int(x,y,x_label,y_label,title,caption,total_val)"
   ]
  },
  {
   "cell_type": "code",
   "execution_count": 16,
   "metadata": {},
   "outputs": [
    {
     "data": {
      "image/png": "[encoded data removed]",
      "text/plain": [
       "<Figure size 1080x720 with 1 Axes>"
      ]
     },
     "metadata": {},
     "output_type": "display_data"
    }
   ],
   "source": [
    "top_artists = artist_rank.sort_values(['totalArtistPlays'],ascending=False).index[:12]\n",
    "\n",
    "x = artist_rank.totalUniqueUsers\n",
    "y = artist_rank.totalArtistPlays\n",
    "labels = artist_rank.index\n",
    "\n",
    "fig, ax = plt.subplots(figsize=(15,10))\n",
    "sns.regplot(x,y)\n",
    "ax.set_title('Artist Popularity: Play Count vs Unique Users',fontweight='bold')\n",
    "ax.yaxis.set_major_formatter(ticker.FuncFormatter(lambda y, _: '{:,.0f}'.format(y)))\n",
    "ax.set_xlabel('Total Unique Users',fontweight='bold')\n",
    "ax.set_ylabel('Total Artist Plays',fontweight='bold')\n",
    "\n",
    "for i, t in enumerate(labels):\n",
    "    if t in top_artists:\n",
    "        ax.annotate(t,(x[i],y[i]))"
   ]
  },
  {
   "cell_type": "code",
   "execution_count": 17,
   "metadata": {},
   "outputs": [
    {
     "data": {
      "image/png": "[encoded data removed]",
      "text/plain": [
       "<Figure size 1152x360 with 1 Axes>"
      ]
     },
     "metadata": {},
     "output_type": "display_data"
    }
   ],
   "source": [
    "c3 = user_rank.sort_values(['totalUserPlays'],ascending=False)\n",
    "c3['userID'] = c3.index\n",
    "c3.userID = c3.userID.apply(lambda x: '#'+str(x))\n",
    "\n",
    "x = c3.userID\n",
    "y = c3.totalUserPlays\n",
    "x_label = 'User'\n",
    "y_label = 'Plays per User'\n",
    "title = 'Total Plays per User'\n",
    "caption = 'Percentages are of total plays'\n",
    "total_val = ap3.userArtistPlays.sum()\n",
    "\n",
    "bar_chart_int(x,y,x_label,y_label,title,caption,total_val)"
   ]
  },
  {
   "cell_type": "code",
   "execution_count": 18,
   "metadata": {},
   "outputs": [
    {
     "data": {
      "text/html": [
       "<div>\n",
       "<style scoped>\n",
       "    .dataframe tbody tr th:only-of-type {\n",
       "        vertical-align: middle;\n",
       "    }\n",
       "\n",
       "    .dataframe tbody tr th {\n",
       "        vertical-align: top;\n",
       "    }\n",
       "\n",
       "    .dataframe thead th {\n",
       "        text-align: right;\n",
       "    }\n",
       "</style>\n",
       "<table border=\"1\" class=\"dataframe\">\n",
       "  <thead>\n",
       "    <tr style=\"text-align: right;\">\n",
       "      <th></th>\n",
       "      <th>totalUniqueUsers</th>\n",
       "      <th>totalArtistPlays</th>\n",
       "      <th>avgUserPlays</th>\n",
       "    </tr>\n",
       "    <tr>\n",
       "      <th>name</th>\n",
       "      <th></th>\n",
       "      <th></th>\n",
       "      <th></th>\n",
       "    </tr>\n",
       "  </thead>\n",
       "  <tbody>\n",
       "    <tr>\n",
       "      <th>Viking Quest</th>\n",
       "      <td>1</td>\n",
       "      <td>35323</td>\n",
       "      <td>35323.00</td>\n",
       "    </tr>\n",
       "    <tr>\n",
       "      <th>Tyler Adam</th>\n",
       "      <td>1</td>\n",
       "      <td>30614</td>\n",
       "      <td>30614.00</td>\n",
       "    </tr>\n",
       "    <tr>\n",
       "      <th>Rytmus</th>\n",
       "      <td>1</td>\n",
       "      <td>23462</td>\n",
       "      <td>23462.00</td>\n",
       "    </tr>\n",
       "    <tr>\n",
       "      <th>Johnny Hallyday</th>\n",
       "      <td>2</td>\n",
       "      <td>32995</td>\n",
       "      <td>16497.50</td>\n",
       "    </tr>\n",
       "    <tr>\n",
       "      <th>Dicky Dixon</th>\n",
       "      <td>1</td>\n",
       "      <td>15345</td>\n",
       "      <td>15345.00</td>\n",
       "    </tr>\n",
       "  </tbody>\n",
       "</table>\n",
       "</div>"
      ],
      "text/plain": [
       "                 totalUniqueUsers  totalArtistPlays  avgUserPlays\n",
       "name                                                             \n",
       "Viking Quest                    1             35323      35323.00\n",
       "Tyler Adam                      1             30614      30614.00\n",
       "Rytmus                          1             23462      23462.00\n",
       "Johnny Hallyday                 2             32995      16497.50\n",
       "Dicky Dixon                     1             15345      15345.00"
      ]
     },
     "execution_count": 18,
     "metadata": {},
     "output_type": "execute_result"
    }
   ],
   "source": [
    "artist_rank.sort_values(['avgUserPlays'],ascending=False).head()"
   ]
  },
  {
   "cell_type": "code",
   "execution_count": 19,
   "metadata": {},
   "outputs": [
    {
     "data": {
      "text/html": [
       "<div>\n",
       "<style scoped>\n",
       "    .dataframe tbody tr th:only-of-type {\n",
       "        vertical-align: middle;\n",
       "    }\n",
       "\n",
       "    .dataframe tbody tr th {\n",
       "        vertical-align: top;\n",
       "    }\n",
       "\n",
       "    .dataframe thead th {\n",
       "        text-align: right;\n",
       "    }\n",
       "</style>\n",
       "<table border=\"1\" class=\"dataframe\">\n",
       "  <thead>\n",
       "    <tr style=\"text-align: right;\">\n",
       "      <th></th>\n",
       "      <th>id</th>\n",
       "      <th>name</th>\n",
       "      <th>userID</th>\n",
       "      <th>artistID</th>\n",
       "      <th>userArtistPlays</th>\n",
       "      <th>totalUniqueUsers</th>\n",
       "      <th>totalArtistPlays</th>\n",
       "      <th>avgUserPlays</th>\n",
       "      <th>totalUniqueArtists</th>\n",
       "      <th>totalUserPlays</th>\n",
       "    </tr>\n",
       "  </thead>\n",
       "  <tbody>\n",
       "    <tr>\n",
       "      <th>80046</th>\n",
       "      <td>8388</td>\n",
       "      <td>Viking Quest</td>\n",
       "      <td>596</td>\n",
       "      <td>8388</td>\n",
       "      <td>35323</td>\n",
       "      <td>1</td>\n",
       "      <td>35323</td>\n",
       "      <td>35323.00</td>\n",
       "      <td>50</td>\n",
       "      <td>101469</td>\n",
       "    </tr>\n",
       "  </tbody>\n",
       "</table>\n",
       "</div>"
      ],
      "text/plain": [
       "         id          name  userID  artistID  userArtistPlays  \\\n",
       "80046  8388  Viking Quest     596      8388            35323   \n",
       "\n",
       "       totalUniqueUsers  totalArtistPlays  avgUserPlays  totalUniqueArtists  \\\n",
       "80046                 1             35323      35323.00                  50   \n",
       "\n",
       "       totalUserPlays  \n",
       "80046          101469  "
      ]
     },
     "execution_count": 19,
     "metadata": {},
     "output_type": "execute_result"
    }
   ],
   "source": [
    "ap3[ap3['name']=='Viking Quest']"
   ]
  },
  {
   "cell_type": "code",
   "execution_count": 20,
   "metadata": {},
   "outputs": [
    {
     "data": {
      "image/png": "[encoded data removed]",
      "text/plain": [
       "<Figure size 1152x360 with 1 Axes>"
      ]
     },
     "metadata": {},
     "output_type": "display_data"
    }
   ],
   "source": [
    "c4 = artist_rank.sort_values(['avgUserPlays'],ascending=False)\n",
    "\n",
    "x = c4.index\n",
    "y = c4.avgUserPlays\n",
    "x_label = 'Artist Name'\n",
    "y_label = 'Average Plays per User'\n",
    "title = 'Top Plays per User'\n",
    "caption = 'Percentages are of percent of total plays'\n",
    "total_val = ap3.userArtistPlays.sum()\n",
    "\n",
    "bar_chart_int(x,y,x_label,y_label,title,caption,total_val)"
   ]
  },
  {
   "cell_type": "code",
   "execution_count": 21,
   "metadata": {},
   "outputs": [
    {
     "data": {
      "image/png": "[encoded data removed]",
      "text/plain": [
       "<Figure size 1152x360 with 1 Axes>"
      ]
     },
     "metadata": {},
     "output_type": "display_data"
    }
   ],
   "source": [
    "c5 = artist_rank[artist_rank['totalUniqueUsers']>100].sort_values(['avgUserPlays'],ascending=False)\n",
    "\n",
    "x = c5.index\n",
    "y = c5.avgUserPlays\n",
    "x_label = 'Artist Name'\n",
    "y_label = 'Average Plays per User'\n",
    "title = 'Top Plays per User'\n",
    "caption = 'Percentages are of percent of total plays'\n",
    "total_val = ap3.userArtistPlays.sum()\n",
    "\n",
    "bar_chart_int(x,y,x_label,y_label,title,caption,total_val)"
   ]
  },
  {
   "cell_type": "code",
   "execution_count": 22,
   "metadata": {},
   "outputs": [],
   "source": [
    "# fit data into a sparse matrix of artist name (row) vs user (column)\n",
    "# in terms of number of plays by artist/user\n",
    "def data_to_sparse(data,index,columns,values):\n",
    "    pivot = data.pivot(index=index,columns=columns,values=values).fillna(0)\n",
    "    sparse = csr_matrix(pivot.values)\n",
    "    print(sparse.shape)\n",
    "    return pivot,sparse\n",
    "\n",
    "# User K Nearest Neighbors to determine cosine distance amongst artists\n",
    "def fit_knn(sparse):\n",
    "    knn = NearestNeighbors(metric='cosine')\n",
    "    knn.fit(sparse)\n",
    "    print(knn)\n",
    "    return knn"
   ]
  },
  {
   "cell_type": "code",
   "execution_count": 23,
   "metadata": {},
   "outputs": [
    {
     "name": "stdout",
     "output_type": "stream",
     "text": [
      "(17632, 1892)\n"
     ]
    }
   ],
   "source": [
    "pivot_ap3,sparse_ap3 = data_to_sparse(ap3,index='name',columns='userID',values='userArtistPlays')"
   ]
  },
  {
   "cell_type": "code",
   "execution_count": 24,
   "metadata": {},
   "outputs": [
    {
     "name": "stdout",
     "output_type": "stream",
     "text": [
      "NearestNeighbors(algorithm='auto', leaf_size=30, metric='cosine',\n",
      "                 metric_params=None, n_jobs=None, n_neighbors=5, p=2,\n",
      "                 radius=1.0)\n"
     ]
    }
   ],
   "source": [
    "knn = fit_knn(sparse_ap3)"
   ]
  },
  {
   "cell_type": "code",
   "execution_count": 25,
   "metadata": {},
   "outputs": [
    {
     "data": {
      "text/html": [
       "<div>\n",
       "<style scoped>\n",
       "    .dataframe tbody tr th:only-of-type {\n",
       "        vertical-align: middle;\n",
       "    }\n",
       "\n",
       "    .dataframe tbody tr th {\n",
       "        vertical-align: top;\n",
       "    }\n",
       "\n",
       "    .dataframe thead th {\n",
       "        text-align: right;\n",
       "    }\n",
       "</style>\n",
       "<table border=\"1\" class=\"dataframe\">\n",
       "  <thead>\n",
       "    <tr style=\"text-align: right;\">\n",
       "      <th>userID</th>\n",
       "      <th>2</th>\n",
       "      <th>3</th>\n",
       "      <th>4</th>\n",
       "      <th>5</th>\n",
       "      <th>6</th>\n",
       "      <th>7</th>\n",
       "      <th>8</th>\n",
       "      <th>9</th>\n",
       "      <th>10</th>\n",
       "      <th>11</th>\n",
       "      <th>...</th>\n",
       "      <th>2090</th>\n",
       "      <th>2091</th>\n",
       "      <th>2092</th>\n",
       "      <th>2093</th>\n",
       "      <th>2094</th>\n",
       "      <th>2095</th>\n",
       "      <th>2096</th>\n",
       "      <th>2097</th>\n",
       "      <th>2099</th>\n",
       "      <th>2100</th>\n",
       "    </tr>\n",
       "    <tr>\n",
       "      <th>name</th>\n",
       "      <th></th>\n",
       "      <th></th>\n",
       "      <th></th>\n",
       "      <th></th>\n",
       "      <th></th>\n",
       "      <th></th>\n",
       "      <th></th>\n",
       "      <th></th>\n",
       "      <th></th>\n",
       "      <th></th>\n",
       "      <th></th>\n",
       "      <th></th>\n",
       "      <th></th>\n",
       "      <th></th>\n",
       "      <th></th>\n",
       "      <th></th>\n",
       "      <th></th>\n",
       "      <th></th>\n",
       "      <th></th>\n",
       "      <th></th>\n",
       "      <th></th>\n",
       "    </tr>\n",
       "  </thead>\n",
       "  <tbody>\n",
       "    <tr>\n",
       "      <th>!!!</th>\n",
       "      <td>0.00</td>\n",
       "      <td>0.00</td>\n",
       "      <td>0.00</td>\n",
       "      <td>0.00</td>\n",
       "      <td>0.00</td>\n",
       "      <td>0.00</td>\n",
       "      <td>0.00</td>\n",
       "      <td>0.00</td>\n",
       "      <td>0.00</td>\n",
       "      <td>0.00</td>\n",
       "      <td>...</td>\n",
       "      <td>0.00</td>\n",
       "      <td>0.00</td>\n",
       "      <td>0.00</td>\n",
       "      <td>0.00</td>\n",
       "      <td>0.00</td>\n",
       "      <td>0.00</td>\n",
       "      <td>0.00</td>\n",
       "      <td>0.00</td>\n",
       "      <td>0.00</td>\n",
       "      <td>0.00</td>\n",
       "    </tr>\n",
       "    <tr>\n",
       "      <th>!DISTAIN</th>\n",
       "      <td>0.00</td>\n",
       "      <td>0.00</td>\n",
       "      <td>0.00</td>\n",
       "      <td>0.00</td>\n",
       "      <td>0.00</td>\n",
       "      <td>0.00</td>\n",
       "      <td>0.00</td>\n",
       "      <td>0.00</td>\n",
       "      <td>0.00</td>\n",
       "      <td>0.00</td>\n",
       "      <td>...</td>\n",
       "      <td>0.00</td>\n",
       "      <td>0.00</td>\n",
       "      <td>0.00</td>\n",
       "      <td>0.00</td>\n",
       "      <td>0.00</td>\n",
       "      <td>0.00</td>\n",
       "      <td>0.00</td>\n",
       "      <td>0.00</td>\n",
       "      <td>0.00</td>\n",
       "      <td>0.00</td>\n",
       "    </tr>\n",
       "    <tr>\n",
       "      <th>!deladap</th>\n",
       "      <td>0.00</td>\n",
       "      <td>0.00</td>\n",
       "      <td>0.00</td>\n",
       "      <td>0.00</td>\n",
       "      <td>0.00</td>\n",
       "      <td>0.00</td>\n",
       "      <td>0.00</td>\n",
       "      <td>0.00</td>\n",
       "      <td>0.00</td>\n",
       "      <td>0.00</td>\n",
       "      <td>...</td>\n",
       "      <td>0.00</td>\n",
       "      <td>0.00</td>\n",
       "      <td>0.00</td>\n",
       "      <td>0.00</td>\n",
       "      <td>0.00</td>\n",
       "      <td>0.00</td>\n",
       "      <td>0.00</td>\n",
       "      <td>0.00</td>\n",
       "      <td>0.00</td>\n",
       "      <td>0.00</td>\n",
       "    </tr>\n",
       "    <tr>\n",
       "      <th>#####</th>\n",
       "      <td>0.00</td>\n",
       "      <td>0.00</td>\n",
       "      <td>0.00</td>\n",
       "      <td>0.00</td>\n",
       "      <td>0.00</td>\n",
       "      <td>0.00</td>\n",
       "      <td>0.00</td>\n",
       "      <td>0.00</td>\n",
       "      <td>0.00</td>\n",
       "      <td>0.00</td>\n",
       "      <td>...</td>\n",
       "      <td>0.00</td>\n",
       "      <td>0.00</td>\n",
       "      <td>0.00</td>\n",
       "      <td>0.00</td>\n",
       "      <td>0.00</td>\n",
       "      <td>0.00</td>\n",
       "      <td>0.00</td>\n",
       "      <td>0.00</td>\n",
       "      <td>0.00</td>\n",
       "      <td>0.00</td>\n",
       "    </tr>\n",
       "    <tr>\n",
       "      <th>#2 Orchestra</th>\n",
       "      <td>0.00</td>\n",
       "      <td>0.00</td>\n",
       "      <td>0.00</td>\n",
       "      <td>0.00</td>\n",
       "      <td>0.00</td>\n",
       "      <td>0.00</td>\n",
       "      <td>0.00</td>\n",
       "      <td>0.00</td>\n",
       "      <td>0.00</td>\n",
       "      <td>0.00</td>\n",
       "      <td>...</td>\n",
       "      <td>0.00</td>\n",
       "      <td>0.00</td>\n",
       "      <td>0.00</td>\n",
       "      <td>0.00</td>\n",
       "      <td>0.00</td>\n",
       "      <td>0.00</td>\n",
       "      <td>0.00</td>\n",
       "      <td>0.00</td>\n",
       "      <td>0.00</td>\n",
       "      <td>0.00</td>\n",
       "    </tr>\n",
       "  </tbody>\n",
       "</table>\n",
       "<p>5 rows × 1892 columns</p>\n",
       "</div>"
      ],
      "text/plain": [
       "userID        2     3     4     5     6     7     8     9     10    11    ...  \\\n",
       "name                                                                      ...   \n",
       "!!!           0.00  0.00  0.00  0.00  0.00  0.00  0.00  0.00  0.00  0.00  ...   \n",
       "!DISTAIN      0.00  0.00  0.00  0.00  0.00  0.00  0.00  0.00  0.00  0.00  ...   \n",
       "!deladap      0.00  0.00  0.00  0.00  0.00  0.00  0.00  0.00  0.00  0.00  ...   \n",
       "#####         0.00  0.00  0.00  0.00  0.00  0.00  0.00  0.00  0.00  0.00  ...   \n",
       "#2 Orchestra  0.00  0.00  0.00  0.00  0.00  0.00  0.00  0.00  0.00  0.00  ...   \n",
       "\n",
       "userID        2090  2091  2092  2093  2094  2095  2096  2097  2099  2100  \n",
       "name                                                                      \n",
       "!!!           0.00  0.00  0.00  0.00  0.00  0.00  0.00  0.00  0.00  0.00  \n",
       "!DISTAIN      0.00  0.00  0.00  0.00  0.00  0.00  0.00  0.00  0.00  0.00  \n",
       "!deladap      0.00  0.00  0.00  0.00  0.00  0.00  0.00  0.00  0.00  0.00  \n",
       "#####         0.00  0.00  0.00  0.00  0.00  0.00  0.00  0.00  0.00  0.00  \n",
       "#2 Orchestra  0.00  0.00  0.00  0.00  0.00  0.00  0.00  0.00  0.00  0.00  \n",
       "\n",
       "[5 rows x 1892 columns]"
      ]
     },
     "execution_count": 25,
     "metadata": {},
     "output_type": "execute_result"
    }
   ],
   "source": [
    "pivot_ap3.head()"
   ]
  },
  {
   "cell_type": "code",
   "execution_count": 26,
   "metadata": {},
   "outputs": [],
   "source": [
    "def idx_recommend(data,idx,model,k):\n",
    "    distances, indices = (model.kneighbors(data.\n",
    "                                     iloc[idx,:].\n",
    "                                     values.reshape(1,-1),\n",
    "                                     n_neighbors=k+1))\n",
    "\n",
    "    for i in range(0,len(distances.flatten())):\n",
    "        if i == 0:\n",
    "            print(('Recommendations for {}:\\n'.\n",
    "                  format(data.index[idx])))\n",
    "        else:\n",
    "            print(('{}: {} ({:.3f})'.\n",
    "                  format(i,\n",
    "                         data.index[indices.flatten()[i]],\n",
    "                         distances.flatten()[i])))\n",
    "    return ''"
   ]
  },
  {
   "cell_type": "code",
   "execution_count": 27,
   "metadata": {},
   "outputs": [
    {
     "name": "stdout",
     "output_type": "stream",
     "text": [
      "Recommendations for VINILOVERSUS:\n",
      "\n",
      "1: Don Davis (0.000)\n",
      "2: Taking Back Sunday (0.792)\n",
      "3: Ana Johnsson (0.856)\n",
      "4: Lacuna Coil (0.864)\n",
      "5: Breaking Benjamin (0.867)\n",
      "6: Trapt (0.868)\n",
      "7: Incubus (0.869)\n",
      "8: Aerosmith (0.882)\n",
      "9: Smile Empty Soul (0.895)\n",
      "10: Paul Potts (0.910)\n"
     ]
    },
    {
     "data": {
      "text/plain": [
       "''"
      ]
     },
     "execution_count": 27,
     "metadata": {},
     "output_type": "execute_result"
    }
   ],
   "source": [
    "# we query a random artist\n",
    "query_index = seed.choice(pivot_ap3.shape[0])\n",
    "idx_recommend(pivot_ap3,query_index,knn,10)"
   ]
  },
  {
   "cell_type": "code",
   "execution_count": 28,
   "metadata": {},
   "outputs": [
    {
     "name": "stdout",
     "output_type": "stream",
     "text": [
      "Recommendations for Katy Perry:\n",
      "\n",
      "1: The Matrix (0.409)\n",
      "2: Henry Blank (0.414)\n",
      "3: www.za4.bblog.mn (0.414)\n",
      "4: Gratitude (0.414)\n",
      "5: Kate Perry & Guru Josh Project (0.414)\n",
      "6: MMLN (0.414)\n",
      "7: Twitter: @BiruelBlogSU (0.414)\n",
      "8: Hallway Blast (0.414)\n",
      "9: GRAMMY (0.414)\n",
      "10: DJplaceboing (0.414)\n"
     ]
    },
    {
     "data": {
      "text/plain": [
       "''"
      ]
     },
     "execution_count": 28,
     "metadata": {},
     "output_type": "execute_result"
    }
   ],
   "source": [
    "# lookup index number for select artists\n",
    "query_index = pivot_ap3.index.get_loc('Katy Perry')\n",
    "idx_recommend(pivot_ap3,query_index,knn,10)"
   ]
  },
  {
   "cell_type": "code",
   "execution_count": 29,
   "metadata": {},
   "outputs": [
    {
     "name": "stdout",
     "output_type": "stream",
     "text": [
      "Recommendations for Oasis:\n",
      "\n",
      "1: Fuel (0.349)\n",
      "2: The Perishers (0.355)\n",
      "3: Vertical Horizon (0.386)\n",
      "4: The Wreckers (0.406)\n",
      "5: The Vines (0.471)\n",
      "6: Calogero (0.534)\n",
      "7: Hednoize (0.534)\n",
      "8: Grégory Lemarchal (0.570)\n",
      "9: The Shins (0.598)\n",
      "10: Matchbox Twenty (0.620)\n"
     ]
    },
    {
     "data": {
      "text/plain": [
       "''"
      ]
     },
     "execution_count": 29,
     "metadata": {},
     "output_type": "execute_result"
    }
   ],
   "source": [
    "query_index = pivot_ap3.index.get_loc('Oasis')\n",
    "idx_recommend(pivot_ap3,query_index,knn,10)"
   ]
  },
  {
   "cell_type": "code",
   "execution_count": 30,
   "metadata": {},
   "outputs": [],
   "source": [
    "# this will help us to locate partial matches of our query\n",
    "def fuzzy_match(query_subject,data):\n",
    "    ratio_tuples = []\n",
    "    \n",
    "    # each artist name is the subject in the data index\n",
    "    # each artist in the data is compared against our query subject to determine percentage match\n",
    "    # there may be ways to optimize this process by not looping through all artists\n",
    "    for subject in data.index:\n",
    "        ratio = fuzz.ratio(subject.lower(),query_subject.lower())\n",
    "        current_query_idx = data.index.tolist().index(subject)\n",
    "        ratio_tuples.append((subject, ratio,current_query_idx))\n",
    "        \n",
    "    # our findings are then sorted based on match rating, and top two are kept\n",
    "    ratio_tuples = sorted(ratio_tuples, key=lambda tup: tup[1],reverse=True)[:2]\n",
    "    \n",
    "    print('Top matches: {}\\n'.format([(x[0],x[1]) for x in ratio_tuples]))  \n",
    "    \n",
    "    match = ratio_tuples[0][0]\n",
    "    \n",
    "    return match, ratio_tuples\n",
    "\n",
    "def artist_recommend(query_artist, data, model,k):\n",
    "    \n",
    "    # determine artist matches using fuzzy matching\n",
    "    \n",
    "    match, ratio_tuples = fuzzy_match(query_artist,data)\n",
    "    \n",
    "    # look up artist by query index\n",
    "    idx_recommend(data, ratio_tuples[0][2],model,k)   \n",
    "    return ''"
   ]
  },
  {
   "cell_type": "code",
   "execution_count": 31,
   "metadata": {},
   "outputs": [
    {
     "name": "stdout",
     "output_type": "stream",
     "text": [
      "Top matches: [('Britney Spears', 100), ('Britney Spears⊼', 97)]\n",
      "\n",
      "Recommendations for Britney Spears:\n",
      "\n",
      "1: Lindsay Lohan (0.504)\n",
      "2: RuPaul (0.567)\n",
      "3: Sarah Michelle Gellar (0.568)\n",
      "4: mclusky (0.568)\n",
      "5: Анастасия Приходько (0.568)\n",
      "6: †‡† (0.570)\n",
      "7: Nadia Oh (0.570)\n",
      "8: Rachel Stevens (0.571)\n",
      "9: L'Âme Immortelle (0.596)\n",
      "10: Hilary Duff (0.622)\n"
     ]
    },
    {
     "data": {
      "text/plain": [
       "''"
      ]
     },
     "execution_count": 31,
     "metadata": {},
     "output_type": "execute_result"
    }
   ],
   "source": [
    "artist_recommend('britney spears',pivot_ap3,knn,10)"
   ]
  },
  {
   "cell_type": "code",
   "execution_count": 32,
   "metadata": {},
   "outputs": [
    {
     "name": "stdout",
     "output_type": "stream",
     "text": [
      "Top matches: [('Nirvana', 100), ('Nina', 73)]\n",
      "\n",
      "Recommendations for Nirvana:\n",
      "\n",
      "1: Nullset (0.130)\n",
      "2: SoundGarden | www.CdsCompletos.net (0.130)\n",
      "3: Humberto Gessinger Trio (0.130)\n",
      "4: Green River (0.130)\n",
      "5: Infectious Grooves (0.130)\n",
      "6: 4 Non Blondes (0.135)\n",
      "7: Puddle of Mudd (0.144)\n",
      "8: Meat Puppets (0.152)\n",
      "9: Institute (0.302)\n",
      "10: Living Colour (0.309)\n"
     ]
    },
    {
     "data": {
      "text/plain": [
       "''"
      ]
     },
     "execution_count": 32,
     "metadata": {},
     "output_type": "execute_result"
    }
   ],
   "source": [
    "artist_recommend('nirvana',pivot_ap3,knn,10)"
   ]
  },
  {
   "cell_type": "code",
   "execution_count": 33,
   "metadata": {},
   "outputs": [
    {
     "name": "stdout",
     "output_type": "stream",
     "text": [
      "Top matches: [('Red Hot Chili Peppers', 78), ('The Chills', 64)]\n",
      "\n",
      "Recommendations for Red Hot Chili Peppers:\n",
      "\n",
      "1: The Offspring (0.568)\n",
      "2: Kreator (0.630)\n",
      "3: Bloodhound Gang (0.660)\n",
      "4: 5'nizza (0.689)\n",
      "5: Steppenwolf (0.691)\n",
      "6: Beatallica (0.692)\n",
      "7: Ногу Свело! (0.692)\n",
      "8: Mercyful Fate (0.692)\n",
      "9: John Frusciante (0.692)\n",
      "10: Ленинград (0.692)\n"
     ]
    },
    {
     "data": {
      "text/plain": [
       "''"
      ]
     },
     "execution_count": 33,
     "metadata": {},
     "output_type": "execute_result"
    }
   ],
   "source": [
    "artist_recommend('red hot chillis',pivot_ap3,knn,10)"
   ]
  },
  {
   "cell_type": "code",
   "execution_count": 34,
   "metadata": {},
   "outputs": [
    {
     "name": "stdout",
     "output_type": "stream",
     "text": [
      "MINIMUM VALUES\n",
      "totalUserPlays from 3 to 1001\n",
      "totalUniqueArtists from 1 to 10\n",
      "totalArtistPlays from 1 to 10007\n",
      "totalUniqueUsers from 1 to 10\n",
      "\n",
      "FILTER IMPACT\n",
      "FILTERED Users: 1790 Artists: 871\n",
      "ORIGINAL Users: 1892 Artists: 17632\n",
      "FILTERED % ORIGINAL Users: 94.6% Artists: 4.9%\n"
     ]
    },
    {
     "data": {
      "text/html": [
       "<div>\n",
       "<style scoped>\n",
       "    .dataframe tbody tr th:only-of-type {\n",
       "        vertical-align: middle;\n",
       "    }\n",
       "\n",
       "    .dataframe tbody tr th {\n",
       "        vertical-align: top;\n",
       "    }\n",
       "\n",
       "    .dataframe thead th {\n",
       "        text-align: right;\n",
       "    }\n",
       "</style>\n",
       "<table border=\"1\" class=\"dataframe\">\n",
       "  <thead>\n",
       "    <tr style=\"text-align: right;\">\n",
       "      <th></th>\n",
       "      <th>totalUserPlays</th>\n",
       "      <th>totalUniqueArtists</th>\n",
       "      <th>totalArtistPlays</th>\n",
       "      <th>totalUniqueUsers</th>\n",
       "    </tr>\n",
       "  </thead>\n",
       "  <tbody>\n",
       "    <tr>\n",
       "      <th>count</th>\n",
       "      <td>52298.00</td>\n",
       "      <td>52298.00</td>\n",
       "      <td>52298.00</td>\n",
       "      <td>52298.00</td>\n",
       "    </tr>\n",
       "    <tr>\n",
       "      <th>mean</th>\n",
       "      <td>41467.40</td>\n",
       "      <td>49.87</td>\n",
       "      <td>192603.24</td>\n",
       "      <td>144.96</td>\n",
       "    </tr>\n",
       "    <tr>\n",
       "      <th>std</th>\n",
       "      <td>50438.77</td>\n",
       "      <td>1.70</td>\n",
       "      <td>336597.43</td>\n",
       "      <td>135.10</td>\n",
       "    </tr>\n",
       "    <tr>\n",
       "      <th>min</th>\n",
       "      <td>1001.00</td>\n",
       "      <td>10.00</td>\n",
       "      <td>10007.00</td>\n",
       "      <td>10.00</td>\n",
       "    </tr>\n",
       "    <tr>\n",
       "      <th>25%</th>\n",
       "      <td>13094.00</td>\n",
       "      <td>50.00</td>\n",
       "      <td>27175.00</td>\n",
       "      <td>45.00</td>\n",
       "    </tr>\n",
       "    <tr>\n",
       "      <th>50%</th>\n",
       "      <td>25511.00</td>\n",
       "      <td>50.00</td>\n",
       "      <td>64596.00</td>\n",
       "      <td>89.00</td>\n",
       "    </tr>\n",
       "    <tr>\n",
       "      <th>75%</th>\n",
       "      <td>48311.00</td>\n",
       "      <td>50.00</td>\n",
       "      <td>188634.00</td>\n",
       "      <td>208.00</td>\n",
       "    </tr>\n",
       "    <tr>\n",
       "      <th>max</th>\n",
       "      <td>480039.00</td>\n",
       "      <td>50.00</td>\n",
       "      <td>2393140.00</td>\n",
       "      <td>611.00</td>\n",
       "    </tr>\n",
       "  </tbody>\n",
       "</table>\n",
       "</div>"
      ],
      "text/plain": [
       "       totalUserPlays  totalUniqueArtists  totalArtistPlays  totalUniqueUsers\n",
       "count        52298.00            52298.00          52298.00          52298.00\n",
       "mean         41467.40               49.87         192603.24            144.96\n",
       "std          50438.77                1.70         336597.43            135.10\n",
       "min           1001.00               10.00          10007.00             10.00\n",
       "25%          13094.00               50.00          27175.00             45.00\n",
       "50%          25511.00               50.00          64596.00             89.00\n",
       "75%          48311.00               50.00         188634.00            208.00\n",
       "max         480039.00               50.00        2393140.00            611.00"
      ]
     },
     "execution_count": 34,
     "metadata": {},
     "output_type": "execute_result"
    }
   ],
   "source": [
    "minPlaysPerUser = 1000 # minimum aggregate play count per user\n",
    "minUniqueArtistPlays = 10 # minimum different artists that need values per user to be counted\n",
    "minArtistPlays = 10000 # minimum times an artist must be played\n",
    "minListeners = 10 # minimum unique listeners of artist to be played\n",
    "\n",
    "def apply_threshold(data,\n",
    "                    minPlaysPerUser,\n",
    "                    minUniqueArtistPlays,\n",
    "                    minArtistPlays,\n",
    "                    minListeners):\n",
    "    \n",
    "    filtered = (data[(data['totalUserPlays']>=minPlaysPerUser) & \n",
    "               (data['totalUniqueArtists']>=minUniqueArtistPlays) & \n",
    "               (data['totalArtistPlays']>=minArtistPlays) & \n",
    "               (data['totalUniqueUsers']>=minListeners)])\n",
    "\n",
    "    # confirm our min thresholds have been applied\n",
    "    print('MINIMUM VALUES')\n",
    "    print('totalUserPlays from {} to {}'.format(min(data.totalUserPlays),min(filtered.totalUserPlays)))\n",
    "    print('totalUniqueArtists from {} to {}'.format(min(data.totalUniqueArtists),min(filtered.totalUniqueArtists)))\n",
    "    print('totalArtistPlays from {} to {}'.format(min(data.totalArtistPlays),min(filtered.totalArtistPlays)))\n",
    "    print('totalUniqueUsers from {} to {}'.format(min(data.totalUniqueUsers),min(filtered.totalUniqueUsers)))\n",
    "\n",
    "    print('\\nFILTER IMPACT')\n",
    "    print(\"FILTERED Users: {} Artists: {}\".format(len(filtered['userID'].unique()),\n",
    "                                                           len(filtered['name'].unique())))\n",
    "    print(\"ORIGINAL Users: {} Artists: {}\".format(len(data['userID'].unique()),\n",
    "                                                           len(data['name'].unique())))\n",
    "    print(\"FILTERED % ORIGINAL Users: {:.1f}% Artists: {:.1f}%\".format(100*(len(filtered['userID'].unique())/len(data['userID'].unique())),\n",
    "                                                           100*(len(filtered['name'].unique())/len(data['name'].unique()))))\n",
    "    return filtered\n",
    "\n",
    "ap4 = apply_threshold(ap3,minPlaysPerUser,minUniqueArtistPlays,minArtistPlays,minListeners)\n",
    "\n",
    "ap4[['totalUserPlays','totalUniqueArtists','totalArtistPlays','totalUniqueUsers']].describe()"
   ]
  },
  {
   "cell_type": "code",
   "execution_count": 35,
   "metadata": {},
   "outputs": [
    {
     "name": "stdout",
     "output_type": "stream",
     "text": [
      "(871, 1790)\n",
      "NearestNeighbors(algorithm='auto', leaf_size=30, metric='cosine',\n",
      "                 metric_params=None, n_jobs=None, n_neighbors=5, p=2,\n",
      "                 radius=1.0)\n"
     ]
    }
   ],
   "source": [
    "pivot_ap4,sparse_ap4 = data_to_sparse(ap4,index='name',columns='userID',values='userArtistPlays')\n",
    "knn = fit_knn(sparse_ap4)"
   ]
  },
  {
   "cell_type": "code",
   "execution_count": 36,
   "metadata": {},
   "outputs": [
    {
     "name": "stdout",
     "output_type": "stream",
     "text": [
      "Top matches: [('Red Hot Chili Peppers', 78), ('Hot Chip', 61)]\n",
      "\n",
      "Recommendations for Red Hot Chili Peppers:\n",
      "\n",
      "1: The Offspring (0.568)\n",
      "2: Kreator (0.630)\n",
      "3: John Frusciante (0.692)\n",
      "4: Ennio Morricone (0.694)\n",
      "5: In Extremo (0.696)\n",
      "6: Riverside (0.697)\n",
      "7: Katie Melua (0.701)\n",
      "8: Ben Folds (0.702)\n",
      "9: Bush (0.718)\n",
      "10: Mylène Farmer (0.721)\n"
     ]
    },
    {
     "data": {
      "text/plain": [
       "''"
      ]
     },
     "execution_count": 36,
     "metadata": {},
     "output_type": "execute_result"
    }
   ],
   "source": [
    "artist_recommend('red hot chillis',pivot_ap4,knn,10)"
   ]
  },
  {
   "cell_type": "code",
   "execution_count": 37,
   "metadata": {},
   "outputs": [
    {
     "data": {
      "text/plain": [
       "count    52298.00\n",
       "mean       992.30\n",
       "std       4885.03\n",
       "min          1.00\n",
       "25%        139.00\n",
       "50%        323.00\n",
       "75%        771.00\n",
       "max     352698.00\n",
       "Name: userArtistPlays, dtype: float64"
      ]
     },
     "execution_count": 37,
     "metadata": {},
     "output_type": "execute_result"
    }
   ],
   "source": [
    "ap4['userArtistPlays'].describe()"
   ]
  },
  {
   "cell_type": "code",
   "execution_count": 38,
   "metadata": {},
   "outputs": [
    {
     "name": "stdout",
     "output_type": "stream",
     "text": [
      "Bucket thresholds: [6, 4621, 9237, 13853, 18469]\n",
      "For instance, if value is 7, then the rank would be 2.\n"
     ]
    }
   ],
   "source": [
    "# convert our play counts into ratings buckets\n",
    "# a rating of 2 requires more than one play\n",
    "# a rating of at least 1 is given for >=1 play (else 0)\n",
    "\n",
    "b = ap4['userArtistPlays']\n",
    "buckets = np.linspace(b.quantile(.005),b.quantile(.995),5)\n",
    "print(\"Bucket thresholds: {}\".format([int(b) for b in buckets]))\n",
    "print(\"For instance, if value is {}, then the rank would be {}.\".\n",
    "      format(int(buckets[0]+1),len(buckets[:1])+1))\n",
    "\n",
    "def bucketize(x):\n",
    "    cur_bucket = 0\n",
    "    for i in range(0,5):\n",
    "        cur_bucket += 1\n",
    "        if x <= buckets[i]:\n",
    "            break\n",
    "    return cur_bucket"
   ]
  },
  {
   "cell_type": "code",
   "execution_count": 39,
   "metadata": {},
   "outputs": [
    {
     "name": "stderr",
     "output_type": "stream",
     "text": [
      "/usr/lib/python3/dist-packages/ipykernel_launcher.py:2: SettingWithCopyWarning: \n",
      "A value is trying to be set on a copy of a slice from a DataFrame.\n",
      "Try using .loc[row_indexer,col_indexer] = value instead\n",
      "\n",
      "See the caveats in the documentation: http://pandas.pydata.org/pandas-docs/stable/user_guide/indexing.html#returning-a-view-versus-a-copy\n",
      "  \n"
     ]
    }
   ],
   "source": [
    "ap5 = ap4\n",
    "ap5['rank'] = ap5['userArtistPlays'].apply(bucketize)"
   ]
  },
  {
   "cell_type": "code",
   "execution_count": 40,
   "metadata": {},
   "outputs": [
    {
     "data": {
      "text/html": [
       "<div>\n",
       "<style scoped>\n",
       "    .dataframe tbody tr th:only-of-type {\n",
       "        vertical-align: middle;\n",
       "    }\n",
       "\n",
       "    .dataframe tbody tr th {\n",
       "        vertical-align: top;\n",
       "    }\n",
       "\n",
       "    .dataframe thead th {\n",
       "        text-align: right;\n",
       "    }\n",
       "</style>\n",
       "<table border=\"1\" class=\"dataframe\">\n",
       "  <thead>\n",
       "    <tr style=\"text-align: right;\">\n",
       "      <th>rank</th>\n",
       "      <th>1</th>\n",
       "      <th>2</th>\n",
       "      <th>3</th>\n",
       "      <th>4</th>\n",
       "      <th>5</th>\n",
       "    </tr>\n",
       "  </thead>\n",
       "  <tbody>\n",
       "    <tr>\n",
       "      <th>count</th>\n",
       "      <td>304.00</td>\n",
       "      <td>50493.00</td>\n",
       "      <td>872.00</td>\n",
       "      <td>254.00</td>\n",
       "      <td>375.00</td>\n",
       "    </tr>\n",
       "    <tr>\n",
       "      <th>mean</th>\n",
       "      <td>3.49</td>\n",
       "      <td>585.26</td>\n",
       "      <td>6230.25</td>\n",
       "      <td>11294.57</td>\n",
       "      <td>37443.69</td>\n",
       "    </tr>\n",
       "    <tr>\n",
       "      <th>std</th>\n",
       "      <td>1.73</td>\n",
       "      <td>737.34</td>\n",
       "      <td>1246.27</td>\n",
       "      <td>1272.97</td>\n",
       "      <td>42039.23</td>\n",
       "    </tr>\n",
       "    <tr>\n",
       "      <th>min</th>\n",
       "      <td>1.00</td>\n",
       "      <td>7.00</td>\n",
       "      <td>4627.00</td>\n",
       "      <td>9275.00</td>\n",
       "      <td>13860.00</td>\n",
       "    </tr>\n",
       "    <tr>\n",
       "      <th>25%</th>\n",
       "      <td>2.00</td>\n",
       "      <td>137.00</td>\n",
       "      <td>5186.00</td>\n",
       "      <td>10205.50</td>\n",
       "      <td>17133.50</td>\n",
       "    </tr>\n",
       "    <tr>\n",
       "      <th>50%</th>\n",
       "      <td>4.00</td>\n",
       "      <td>311.00</td>\n",
       "      <td>5889.50</td>\n",
       "      <td>11114.50</td>\n",
       "      <td>23830.00</td>\n",
       "    </tr>\n",
       "    <tr>\n",
       "      <th>75%</th>\n",
       "      <td>5.00</td>\n",
       "      <td>710.00</td>\n",
       "      <td>7138.75</td>\n",
       "      <td>12318.00</td>\n",
       "      <td>37931.50</td>\n",
       "    </tr>\n",
       "    <tr>\n",
       "      <th>max</th>\n",
       "      <td>6.00</td>\n",
       "      <td>4621.00</td>\n",
       "      <td>9199.00</td>\n",
       "      <td>13831.00</td>\n",
       "      <td>352698.00</td>\n",
       "    </tr>\n",
       "  </tbody>\n",
       "</table>\n",
       "</div>"
      ],
      "text/plain": [
       "rank       1        2       3        4         5\n",
       "count 304.00 50493.00  872.00   254.00    375.00\n",
       "mean    3.49   585.26 6230.25 11294.57  37443.69\n",
       "std     1.73   737.34 1246.27  1272.97  42039.23\n",
       "min     1.00     7.00 4627.00  9275.00  13860.00\n",
       "25%     2.00   137.00 5186.00 10205.50  17133.50\n",
       "50%     4.00   311.00 5889.50 11114.50  23830.00\n",
       "75%     5.00   710.00 7138.75 12318.00  37931.50\n",
       "max     6.00  4621.00 9199.00 13831.00 352698.00"
      ]
     },
     "execution_count": 40,
     "metadata": {},
     "output_type": "execute_result"
    }
   ],
   "source": [
    "ap5.groupby(['rank'])['userArtistPlays'].describe().T"
   ]
  },
  {
   "cell_type": "code",
   "execution_count": 41,
   "metadata": {},
   "outputs": [
    {
     "name": "stdout",
     "output_type": "stream",
     "text": [
      "(871, 1790)\n",
      "NearestNeighbors(algorithm='auto', leaf_size=30, metric='cosine',\n",
      "                 metric_params=None, n_jobs=None, n_neighbors=5, p=2,\n",
      "                 radius=1.0)\n"
     ]
    }
   ],
   "source": [
    "pivot_ap5,sparse_ap5 = data_to_sparse(ap5,index='name',columns='userID',values='rank')\n",
    "knn = fit_knn(sparse_ap5)"
   ]
  },
  {
   "cell_type": "code",
   "execution_count": 42,
   "metadata": {},
   "outputs": [
    {
     "name": "stdout",
     "output_type": "stream",
     "text": [
      "Top matches: [('Red Hot Chili Peppers', 78), ('Hot Chip', 61)]\n",
      "\n",
      "Recommendations for Red Hot Chili Peppers:\n",
      "\n",
      "1: Nirvana (0.650)\n",
      "2: Oasis (0.672)\n",
      "3: Foo Fighters (0.685)\n",
      "4: The Beatles (0.692)\n",
      "5: Muse (0.706)\n",
      "6: U2 (0.720)\n",
      "7: Radiohead (0.721)\n",
      "8: Aerosmith (0.722)\n",
      "9: System of a Down (0.723)\n",
      "10: Green Day (0.724)\n"
     ]
    },
    {
     "data": {
      "text/plain": [
       "''"
      ]
     },
     "execution_count": 42,
     "metadata": {},
     "output_type": "execute_result"
    }
   ],
   "source": [
    "artist_recommend('red hot chillis',pivot_ap5,knn,10)"
   ]
  },
  {
   "cell_type": "code",
   "execution_count": 43,
   "metadata": {},
   "outputs": [
    {
     "name": "stderr",
     "output_type": "stream",
     "text": [
      "/usr/lib/python3/dist-packages/ipykernel_launcher.py:2: SettingWithCopyWarning: \n",
      "A value is trying to be set on a copy of a slice from a DataFrame.\n",
      "Try using .loc[row_indexer,col_indexer] = value instead\n",
      "\n",
      "See the caveats in the documentation: http://pandas.pydata.org/pandas-docs/stable/user_guide/indexing.html#returning-a-view-versus-a-copy\n",
      "  \n"
     ]
    }
   ],
   "source": [
    "ap6 = ap4\n",
    "ap6['everPlayed'] = ap6['userArtistPlays'].apply(np.sign) # np.sign converts all positive values to one."
   ]
  },
  {
   "cell_type": "code",
   "execution_count": 44,
   "metadata": {},
   "outputs": [
    {
     "name": "stdout",
     "output_type": "stream",
     "text": [
      "(871, 1790)\n",
      "NearestNeighbors(algorithm='auto', leaf_size=30, metric='cosine',\n",
      "                 metric_params=None, n_jobs=None, n_neighbors=5, p=2,\n",
      "                 radius=1.0)\n"
     ]
    }
   ],
   "source": [
    "pivot_ap6,sparse_ap6 = data_to_sparse(ap6,index='name',columns='userID',values='everPlayed')\n",
    "knn = fit_knn(sparse_ap6)"
   ]
  },
  {
   "cell_type": "code",
   "execution_count": 45,
   "metadata": {},
   "outputs": [
    {
     "name": "stdout",
     "output_type": "stream",
     "text": [
      "Top matches: [('Red Hot Chili Peppers', 78), ('Hot Chip', 61)]\n",
      "\n",
      "Recommendations for Red Hot Chili Peppers:\n",
      "\n",
      "1: Nirvana (0.649)\n",
      "2: Oasis (0.677)\n",
      "3: The Beatles (0.687)\n",
      "4: Foo Fighters (0.688)\n",
      "5: Muse (0.713)\n",
      "6: Radiohead (0.717)\n",
      "7: U2 (0.717)\n",
      "8: Aerosmith (0.723)\n",
      "9: Green Day (0.723)\n",
      "10: System of a Down (0.726)\n"
     ]
    },
    {
     "data": {
      "text/plain": [
       "''"
      ]
     },
     "execution_count": 45,
     "metadata": {},
     "output_type": "execute_result"
    }
   ],
   "source": [
    "artist_recommend('red hot chillis',pivot_ap6,knn,10)"
   ]
  },
  {
   "cell_type": "code",
   "execution_count": 46,
   "metadata": {},
   "outputs": [
    {
     "name": "stdout",
     "output_type": "stream",
     "text": [
      "Top matches: [('Britney Spears', 100), ('Jordin Sparks', 67)]\n",
      "\n",
      "Recommendations for Britney Spears:\n",
      "\n",
      "1: Rihanna (0.168)\n",
      "2: Christina Aguilera (0.213)\n",
      "3: Lady Gaga (0.224)\n",
      "4: Katy Perry (0.229)\n",
      "5: Beyoncé (0.250)\n",
      "6: Ke$ha (0.299)\n",
      "7: Shakira (0.337)\n",
      "8: Miley Cyrus (0.338)\n",
      "9: Madonna (0.338)\n",
      "10: Avril Lavigne (0.359)\n",
      "\n",
      "\n",
      "\n",
      "Top matches: [('Snoop Dogg', 100), ('No Doubt', 56)]\n",
      "\n",
      "Recommendations for Snoop Dogg:\n",
      "\n",
      "1: Ice Cube (0.496)\n",
      "2: 2Pac (0.522)\n",
      "3: DMX (0.605)\n",
      "4: D12 (0.655)\n",
      "5: Nas (0.658)\n",
      "6: Jay-Z (0.661)\n",
      "7: Busta Rhymes (0.671)\n",
      "8: Mobb Deep (0.697)\n",
      "9: 50 Cent (0.701)\n",
      "10: Cypress Hill (0.743)\n",
      "\n",
      "\n",
      "\n",
      "Top matches: [('Eminem', 100), ('The Maine', 67)]\n",
      "\n",
      "Recommendations for Eminem:\n",
      "\n",
      "1: Ke$ha (0.630)\n",
      "2: Rihanna (0.649)\n",
      "3: Katy Perry (0.651)\n",
      "4: B.o.B (0.667)\n",
      "5: Britney Spears (0.669)\n",
      "6: Lady Gaga (0.669)\n",
      "7: Black Eyed Peas (0.674)\n",
      "8: P!nk (0.684)\n",
      "9: Miley Cyrus (0.686)\n",
      "10: Christina Aguilera (0.695)\n",
      "\n",
      "\n",
      "\n",
      "Top matches: [('The Beatles', 78), ('Beastie Boys', 63)]\n",
      "\n",
      "Recommendations for The Beatles:\n",
      "\n",
      "1: Radiohead (0.551)\n",
      "2: Pink Floyd (0.556)\n",
      "3: Led Zeppelin (0.591)\n",
      "4: Arctic Monkeys (0.595)\n",
      "5: The Rolling Stones (0.608)\n",
      "6: The Strokes (0.614)\n",
      "7: Oasis (0.616)\n",
      "8: Muse (0.626)\n",
      "9: David Bowie (0.628)\n",
      "10: Bob Dylan (0.637)\n",
      "\n",
      "\n",
      "\n",
      "Top matches: [('David Bowie', 78), ('And One', 57)]\n",
      "\n",
      "Recommendations for David Bowie:\n",
      "\n",
      "1: The Beatles (0.628)\n",
      "2: The Cure (0.636)\n",
      "3: Depeche Mode (0.652)\n",
      "4: Joy Division (0.671)\n",
      "5: The Smiths (0.677)\n",
      "6: Duran Duran (0.684)\n",
      "7: New Order (0.693)\n",
      "8: Roxy Music (0.699)\n",
      "9: Pink Floyd (0.700)\n",
      "10: Queen (0.710)\n",
      "\n",
      "\n",
      "\n",
      "Top matches: [('Tiësto', 83), ('The Strokes', 59)]\n",
      "\n",
      "Recommendations for Tiësto:\n",
      "\n",
      "1: Armin van Buuren (0.671)\n",
      "2: David Guetta (0.802)\n",
      "3: ATB (0.803)\n",
      "4: deadmau5 (0.805)\n",
      "5: Basshunter (0.814)\n",
      "6: Laura Pausini (0.855)\n",
      "7: Black Eyed Peas (0.858)\n",
      "8: Flo Rida (0.859)\n",
      "9: Madonna (0.865)\n",
      "10: OneRepublic (0.865)\n",
      "\n",
      "\n",
      "\n",
      "Top matches: [('Basshunter', 100), ('Deerhunter', 60)]\n",
      "\n",
      "Recommendations for Basshunter:\n",
      "\n",
      "1: Cascada (0.807)\n",
      "2: Tiësto (0.814)\n",
      "3: 3OH!3 (0.844)\n",
      "4: Justin Bieber (0.848)\n",
      "5: Pitbull (0.849)\n",
      "6: Lady Gaga (0.852)\n",
      "7: Avril Lavigne (0.853)\n",
      "8: Akon (0.856)\n",
      "9: OneRepublic (0.858)\n",
      "10: Katy Perry (0.862)\n",
      "\n",
      "\n",
      "\n",
      "Top matches: [('Akon', 100), ('Korn', 75)]\n",
      "\n",
      "Recommendations for Akon:\n",
      "\n",
      "1: Jay Sean (0.683)\n",
      "2: Chris Brown (0.688)\n",
      "3: Ne-Yo (0.704)\n",
      "4: Usher (0.749)\n",
      "5: T.I. (0.752)\n",
      "6: Rihanna (0.782)\n",
      "7: Pitbull (0.791)\n",
      "8: Black Eyed Peas (0.794)\n",
      "9: 50 Cent (0.797)\n",
      "10: Ice Cube (0.805)\n",
      "\n",
      "\n",
      "\n",
      "Top matches: [('Ace of Base', 100), ('Band of Horses', 56)]\n",
      "\n",
      "Recommendations for Ace of Base:\n",
      "\n",
      "1: Madonna (0.828)\n",
      "2: Blondie (0.845)\n",
      "3: Elton John (0.865)\n",
      "4: Pet Shop Boys (0.866)\n",
      "5: George Michael (0.868)\n",
      "6: Billy Joel (0.870)\n",
      "7: Westlife (0.870)\n",
      "8: ABBA (0.875)\n",
      "9: Alphaville (0.880)\n",
      "10: *NSYNC (0.884)\n",
      "\n",
      "\n",
      "\n",
      "Top matches: [('Garth Brooks', 100), ('The Kooks', 67)]\n",
      "\n",
      "Recommendations for Garth Brooks:\n",
      "\n",
      "1: George Strait (0.333)\n",
      "2: Keith Urban (0.455)\n",
      "3: Brad Paisley (0.461)\n",
      "4: Miranda Lambert (0.582)\n",
      "5: Rascal Flatts (0.595)\n",
      "6: Dolly Parton (0.636)\n",
      "7: Josh Groban (0.716)\n",
      "8: Shania Twain (0.727)\n",
      "9: Hanson (0.727)\n",
      "10: Billy Joel (0.811)\n",
      "\n",
      "\n",
      "\n"
     ]
    }
   ],
   "source": [
    "# lets try out some different artists\n",
    "artist_list = [\n",
    "               'Britney Spears',\n",
    "               'Snoop Dogg',\n",
    "               'Eminem',\n",
    "               'Beatles',\n",
    "               'D Bowie',\n",
    "               'Tiesto',\n",
    "               'Basshunter',\n",
    "               'Akon',\n",
    "               'Ace of Base',\n",
    "               'Garth Brooks',\n",
    "              ]\n",
    "\n",
    "for artist in artist_list:\n",
    "    print(artist_recommend(artist,pivot_ap6,knn,10))\n",
    "    print('\\n')"
   ]
  },
  {
   "cell_type": "code",
   "execution_count": 47,
   "metadata": {},
   "outputs": [],
   "source": [
    "# convert our pandas dataframe into a turicreate SFrame\n",
    "sf = tc.SFrame(ap6)"
   ]
  },
  {
   "cell_type": "code",
   "execution_count": 48,
   "metadata": {},
   "outputs": [
    {
     "data": {
      "text/html": [
       "<div style=\"max-height:1000px;max-width:1500px;overflow:auto;\"><table frame=\"box\" rules=\"cols\">\n",
       "    <tr>\n",
       "        <th style=\"padding-left: 1em; padding-right: 1em; text-align: center\">id</th>\n",
       "        <th style=\"padding-left: 1em; padding-right: 1em; text-align: center\">name</th>\n",
       "        <th style=\"padding-left: 1em; padding-right: 1em; text-align: center\">userID</th>\n",
       "        <th style=\"padding-left: 1em; padding-right: 1em; text-align: center\">artistID</th>\n",
       "        <th style=\"padding-left: 1em; padding-right: 1em; text-align: center\">userArtistPlays</th>\n",
       "        <th style=\"padding-left: 1em; padding-right: 1em; text-align: center\">totalUniqueUsers</th>\n",
       "        <th style=\"padding-left: 1em; padding-right: 1em; text-align: center\">totalArtistPlays</th>\n",
       "    </tr>\n",
       "    <tr>\n",
       "        <td style=\"padding-left: 1em; padding-right: 1em; text-align: center; vertical-align: top\">72</td>\n",
       "        <td style=\"padding-left: 1em; padding-right: 1em; text-align: center; vertical-align: top\">Depeche Mode</td>\n",
       "        <td style=\"padding-left: 1em; padding-right: 1em; text-align: center; vertical-align: top\">1642</td>\n",
       "        <td style=\"padding-left: 1em; padding-right: 1em; text-align: center; vertical-align: top\">72</td>\n",
       "        <td style=\"padding-left: 1em; padding-right: 1em; text-align: center; vertical-align: top\">352698</td>\n",
       "        <td style=\"padding-left: 1em; padding-right: 1em; text-align: center; vertical-align: top\">282</td>\n",
       "        <td style=\"padding-left: 1em; padding-right: 1em; text-align: center; vertical-align: top\">1301308</td>\n",
       "    </tr>\n",
       "    <tr>\n",
       "        <td style=\"padding-left: 1em; padding-right: 1em; text-align: center; vertical-align: top\">792</td>\n",
       "        <td style=\"padding-left: 1em; padding-right: 1em; text-align: center; vertical-align: top\">Thalía</td>\n",
       "        <td style=\"padding-left: 1em; padding-right: 1em; text-align: center; vertical-align: top\">2071</td>\n",
       "        <td style=\"padding-left: 1em; padding-right: 1em; text-align: center; vertical-align: top\">792</td>\n",
       "        <td style=\"padding-left: 1em; padding-right: 1em; text-align: center; vertical-align: top\">324663</td>\n",
       "        <td style=\"padding-left: 1em; padding-right: 1em; text-align: center; vertical-align: top\">26</td>\n",
       "        <td style=\"padding-left: 1em; padding-right: 1em; text-align: center; vertical-align: top\">350035</td>\n",
       "    </tr>\n",
       "    <tr>\n",
       "        <td style=\"padding-left: 1em; padding-right: 1em; text-align: center; vertical-align: top\">511</td>\n",
       "        <td style=\"padding-left: 1em; padding-right: 1em; text-align: center; vertical-align: top\">U2</td>\n",
       "        <td style=\"padding-left: 1em; padding-right: 1em; text-align: center; vertical-align: top\">1094</td>\n",
       "        <td style=\"padding-left: 1em; padding-right: 1em; text-align: center; vertical-align: top\">511</td>\n",
       "        <td style=\"padding-left: 1em; padding-right: 1em; text-align: center; vertical-align: top\">320725</td>\n",
       "        <td style=\"padding-left: 1em; padding-right: 1em; text-align: center; vertical-align: top\">185</td>\n",
       "        <td style=\"padding-left: 1em; padding-right: 1em; text-align: center; vertical-align: top\">493024</td>\n",
       "    </tr>\n",
       "    <tr>\n",
       "        <td style=\"padding-left: 1em; padding-right: 1em; text-align: center; vertical-align: top\">203</td>\n",
       "        <td style=\"padding-left: 1em; padding-right: 1em; text-align: center; vertical-align: top\">Blur</td>\n",
       "        <td style=\"padding-left: 1em; padding-right: 1em; text-align: center; vertical-align: top\">1905</td>\n",
       "        <td style=\"padding-left: 1em; padding-right: 1em; text-align: center; vertical-align: top\">203</td>\n",
       "        <td style=\"padding-left: 1em; padding-right: 1em; text-align: center; vertical-align: top\">257978</td>\n",
       "        <td style=\"padding-left: 1em; padding-right: 1em; text-align: center; vertical-align: top\">114</td>\n",
       "        <td style=\"padding-left: 1em; padding-right: 1em; text-align: center; vertical-align: top\">318221</td>\n",
       "    </tr>\n",
       "    <tr>\n",
       "        <td style=\"padding-left: 1em; padding-right: 1em; text-align: center; vertical-align: top\">498</td>\n",
       "        <td style=\"padding-left: 1em; padding-right: 1em; text-align: center; vertical-align: top\">Paramore</td>\n",
       "        <td style=\"padding-left: 1em; padding-right: 1em; text-align: center; vertical-align: top\">1664</td>\n",
       "        <td style=\"padding-left: 1em; padding-right: 1em; text-align: center; vertical-align: top\">498</td>\n",
       "        <td style=\"padding-left: 1em; padding-right: 1em; text-align: center; vertical-align: top\">227829</td>\n",
       "        <td style=\"padding-left: 1em; padding-right: 1em; text-align: center; vertical-align: top\">399</td>\n",
       "        <td style=\"padding-left: 1em; padding-right: 1em; text-align: center; vertical-align: top\">963449</td>\n",
       "    </tr>\n",
       "    <tr>\n",
       "        <td style=\"padding-left: 1em; padding-right: 1em; text-align: center; vertical-align: top\">378</td>\n",
       "        <td style=\"padding-left: 1em; padding-right: 1em; text-align: center; vertical-align: top\">Evanescence</td>\n",
       "        <td style=\"padding-left: 1em; padding-right: 1em; text-align: center; vertical-align: top\">1146</td>\n",
       "        <td style=\"padding-left: 1em; padding-right: 1em; text-align: center; vertical-align: top\">378</td>\n",
       "        <td style=\"padding-left: 1em; padding-right: 1em; text-align: center; vertical-align: top\">203165</td>\n",
       "        <td style=\"padding-left: 1em; padding-right: 1em; text-align: center; vertical-align: top\">226</td>\n",
       "        <td style=\"padding-left: 1em; padding-right: 1em; text-align: center; vertical-align: top\">513476</td>\n",
       "    </tr>\n",
       "    <tr>\n",
       "        <td style=\"padding-left: 1em; padding-right: 1em; text-align: center; vertical-align: top\">292</td>\n",
       "        <td style=\"padding-left: 1em; padding-right: 1em; text-align: center; vertical-align: top\">Christina Aguilera</td>\n",
       "        <td style=\"padding-left: 1em; padding-right: 1em; text-align: center; vertical-align: top\">514</td>\n",
       "        <td style=\"padding-left: 1em; padding-right: 1em; text-align: center; vertical-align: top\">292</td>\n",
       "        <td style=\"padding-left: 1em; padding-right: 1em; text-align: center; vertical-align: top\">176133</td>\n",
       "        <td style=\"padding-left: 1em; padding-right: 1em; text-align: center; vertical-align: top\">407</td>\n",
       "        <td style=\"padding-left: 1em; padding-right: 1em; text-align: center; vertical-align: top\">1058405</td>\n",
       "    </tr>\n",
       "    <tr>\n",
       "        <td style=\"padding-left: 1em; padding-right: 1em; text-align: center; vertical-align: top\">701</td>\n",
       "        <td style=\"padding-left: 1em; padding-right: 1em; text-align: center; vertical-align: top\">Shakira</td>\n",
       "        <td style=\"padding-left: 1em; padding-right: 1em; text-align: center; vertical-align: top\">1983</td>\n",
       "        <td style=\"padding-left: 1em; padding-right: 1em; text-align: center; vertical-align: top\">701</td>\n",
       "        <td style=\"padding-left: 1em; padding-right: 1em; text-align: center; vertical-align: top\">172496</td>\n",
       "        <td style=\"padding-left: 1em; padding-right: 1em; text-align: center; vertical-align: top\">319</td>\n",
       "        <td style=\"padding-left: 1em; padding-right: 1em; text-align: center; vertical-align: top\">688529</td>\n",
       "    </tr>\n",
       "    <tr>\n",
       "        <td style=\"padding-left: 1em; padding-right: 1em; text-align: center; vertical-align: top\">701</td>\n",
       "        <td style=\"padding-left: 1em; padding-right: 1em; text-align: center; vertical-align: top\">Shakira</td>\n",
       "        <td style=\"padding-left: 1em; padding-right: 1em; text-align: center; vertical-align: top\">757</td>\n",
       "        <td style=\"padding-left: 1em; padding-right: 1em; text-align: center; vertical-align: top\">701</td>\n",
       "        <td style=\"padding-left: 1em; padding-right: 1em; text-align: center; vertical-align: top\">169596</td>\n",
       "        <td style=\"padding-left: 1em; padding-right: 1em; text-align: center; vertical-align: top\">319</td>\n",
       "        <td style=\"padding-left: 1em; padding-right: 1em; text-align: center; vertical-align: top\">688529</td>\n",
       "    </tr>\n",
       "    <tr>\n",
       "        <td style=\"padding-left: 1em; padding-right: 1em; text-align: center; vertical-align: top\">679</td>\n",
       "        <td style=\"padding-left: 1em; padding-right: 1em; text-align: center; vertical-align: top\">Glee Cast</td>\n",
       "        <td style=\"padding-left: 1em; padding-right: 1em; text-align: center; vertical-align: top\">1086</td>\n",
       "        <td style=\"padding-left: 1em; padding-right: 1em; text-align: center; vertical-align: top\">679</td>\n",
       "        <td style=\"padding-left: 1em; padding-right: 1em; text-align: center; vertical-align: top\">165902</td>\n",
       "        <td style=\"padding-left: 1em; padding-right: 1em; text-align: center; vertical-align: top\">249</td>\n",
       "        <td style=\"padding-left: 1em; padding-right: 1em; text-align: center; vertical-align: top\">506453</td>\n",
       "    </tr>\n",
       "</table>\n",
       "<table frame=\"box\" rules=\"cols\">\n",
       "    <tr>\n",
       "        <th style=\"padding-left: 1em; padding-right: 1em; text-align: center\">avgUserPlays</th>\n",
       "        <th style=\"padding-left: 1em; padding-right: 1em; text-align: center\">totalUniqueArtists</th>\n",
       "        <th style=\"padding-left: 1em; padding-right: 1em; text-align: center\">totalUserPlays</th>\n",
       "        <th style=\"padding-left: 1em; padding-right: 1em; text-align: center\">rank</th>\n",
       "        <th style=\"padding-left: 1em; padding-right: 1em; text-align: center\">everPlayed</th>\n",
       "    </tr>\n",
       "    <tr>\n",
       "        <td style=\"padding-left: 1em; padding-right: 1em; text-align: center; vertical-align: top\">4614.567375886525</td>\n",
       "        <td style=\"padding-left: 1em; padding-right: 1em; text-align: center; vertical-align: top\">50</td>\n",
       "        <td style=\"padding-left: 1em; padding-right: 1em; text-align: center; vertical-align: top\">388251</td>\n",
       "        <td style=\"padding-left: 1em; padding-right: 1em; text-align: center; vertical-align: top\">5</td>\n",
       "        <td style=\"padding-left: 1em; padding-right: 1em; text-align: center; vertical-align: top\">1</td>\n",
       "    </tr>\n",
       "    <tr>\n",
       "        <td style=\"padding-left: 1em; padding-right: 1em; text-align: center; vertical-align: top\">13462.884615384615</td>\n",
       "        <td style=\"padding-left: 1em; padding-right: 1em; text-align: center; vertical-align: top\">50</td>\n",
       "        <td style=\"padding-left: 1em; padding-right: 1em; text-align: center; vertical-align: top\">338400</td>\n",
       "        <td style=\"padding-left: 1em; padding-right: 1em; text-align: center; vertical-align: top\">5</td>\n",
       "        <td style=\"padding-left: 1em; padding-right: 1em; text-align: center; vertical-align: top\">1</td>\n",
       "    </tr>\n",
       "    <tr>\n",
       "        <td style=\"padding-left: 1em; padding-right: 1em; text-align: center; vertical-align: top\">2664.9945945945947</td>\n",
       "        <td style=\"padding-left: 1em; padding-right: 1em; text-align: center; vertical-align: top\">50</td>\n",
       "        <td style=\"padding-left: 1em; padding-right: 1em; text-align: center; vertical-align: top\">379125</td>\n",
       "        <td style=\"padding-left: 1em; padding-right: 1em; text-align: center; vertical-align: top\">5</td>\n",
       "        <td style=\"padding-left: 1em; padding-right: 1em; text-align: center; vertical-align: top\">1</td>\n",
       "    </tr>\n",
       "    <tr>\n",
       "        <td style=\"padding-left: 1em; padding-right: 1em; text-align: center; vertical-align: top\">2791.4122807017543</td>\n",
       "        <td style=\"padding-left: 1em; padding-right: 1em; text-align: center; vertical-align: top\">50</td>\n",
       "        <td style=\"padding-left: 1em; padding-right: 1em; text-align: center; vertical-align: top\">276295</td>\n",
       "        <td style=\"padding-left: 1em; padding-right: 1em; text-align: center; vertical-align: top\">5</td>\n",
       "        <td style=\"padding-left: 1em; padding-right: 1em; text-align: center; vertical-align: top\">1</td>\n",
       "    </tr>\n",
       "    <tr>\n",
       "        <td style=\"padding-left: 1em; padding-right: 1em; text-align: center; vertical-align: top\">2414.659147869674</td>\n",
       "        <td style=\"padding-left: 1em; padding-right: 1em; text-align: center; vertical-align: top\">50</td>\n",
       "        <td style=\"padding-left: 1em; padding-right: 1em; text-align: center; vertical-align: top\">251560</td>\n",
       "        <td style=\"padding-left: 1em; padding-right: 1em; text-align: center; vertical-align: top\">5</td>\n",
       "        <td style=\"padding-left: 1em; padding-right: 1em; text-align: center; vertical-align: top\">1</td>\n",
       "    </tr>\n",
       "    <tr>\n",
       "        <td style=\"padding-left: 1em; padding-right: 1em; text-align: center; vertical-align: top\">2272.0176991150443</td>\n",
       "        <td style=\"padding-left: 1em; padding-right: 1em; text-align: center; vertical-align: top\">50</td>\n",
       "        <td style=\"padding-left: 1em; padding-right: 1em; text-align: center; vertical-align: top\">308167</td>\n",
       "        <td style=\"padding-left: 1em; padding-right: 1em; text-align: center; vertical-align: top\">5</td>\n",
       "        <td style=\"padding-left: 1em; padding-right: 1em; text-align: center; vertical-align: top\">1</td>\n",
       "    </tr>\n",
       "    <tr>\n",
       "        <td style=\"padding-left: 1em; padding-right: 1em; text-align: center; vertical-align: top\">2600.5036855036856</td>\n",
       "        <td style=\"padding-left: 1em; padding-right: 1em; text-align: center; vertical-align: top\">50</td>\n",
       "        <td style=\"padding-left: 1em; padding-right: 1em; text-align: center; vertical-align: top\">329782</td>\n",
       "        <td style=\"padding-left: 1em; padding-right: 1em; text-align: center; vertical-align: top\">5</td>\n",
       "        <td style=\"padding-left: 1em; padding-right: 1em; text-align: center; vertical-align: top\">1</td>\n",
       "    </tr>\n",
       "    <tr>\n",
       "        <td style=\"padding-left: 1em; padding-right: 1em; text-align: center; vertical-align: top\">2158.398119122257</td>\n",
       "        <td style=\"padding-left: 1em; padding-right: 1em; text-align: center; vertical-align: top\">50</td>\n",
       "        <td style=\"padding-left: 1em; padding-right: 1em; text-align: center; vertical-align: top\">179449</td>\n",
       "        <td style=\"padding-left: 1em; padding-right: 1em; text-align: center; vertical-align: top\">5</td>\n",
       "        <td style=\"padding-left: 1em; padding-right: 1em; text-align: center; vertical-align: top\">1</td>\n",
       "    </tr>\n",
       "    <tr>\n",
       "        <td style=\"padding-left: 1em; padding-right: 1em; text-align: center; vertical-align: top\">2158.398119122257</td>\n",
       "        <td style=\"padding-left: 1em; padding-right: 1em; text-align: center; vertical-align: top\">50</td>\n",
       "        <td style=\"padding-left: 1em; padding-right: 1em; text-align: center; vertical-align: top\">480039</td>\n",
       "        <td style=\"padding-left: 1em; padding-right: 1em; text-align: center; vertical-align: top\">5</td>\n",
       "        <td style=\"padding-left: 1em; padding-right: 1em; text-align: center; vertical-align: top\">1</td>\n",
       "    </tr>\n",
       "    <tr>\n",
       "        <td style=\"padding-left: 1em; padding-right: 1em; text-align: center; vertical-align: top\">2033.9477911646586</td>\n",
       "        <td style=\"padding-left: 1em; padding-right: 1em; text-align: center; vertical-align: top\">50</td>\n",
       "        <td style=\"padding-left: 1em; padding-right: 1em; text-align: center; vertical-align: top\">235137</td>\n",
       "        <td style=\"padding-left: 1em; padding-right: 1em; text-align: center; vertical-align: top\">5</td>\n",
       "        <td style=\"padding-left: 1em; padding-right: 1em; text-align: center; vertical-align: top\">1</td>\n",
       "    </tr>\n",
       "</table>\n",
       "[10 rows x 12 columns]<br/>\n",
       "</div>"
      ],
      "text/plain": [
       "Columns:\n",
       "\tid\tint\n",
       "\tname\tstr\n",
       "\tuserID\tint\n",
       "\tartistID\tint\n",
       "\tuserArtistPlays\tint\n",
       "\ttotalUniqueUsers\tint\n",
       "\ttotalArtistPlays\tint\n",
       "\tavgUserPlays\tfloat\n",
       "\ttotalUniqueArtists\tint\n",
       "\ttotalUserPlays\tint\n",
       "\trank\tint\n",
       "\teverPlayed\tint\n",
       "\n",
       "Rows: 10\n",
       "\n",
       "Data:\n",
       "+-----+--------------------+--------+----------+-----------------+------------------+\n",
       "|  id |        name        | userID | artistID | userArtistPlays | totalUniqueUsers |\n",
       "+-----+--------------------+--------+----------+-----------------+------------------+\n",
       "|  72 |    Depeche Mode    |  1642  |    72    |      352698     |       282        |\n",
       "| 792 |       Thalía       |  2071  |   792    |      324663     |        26        |\n",
       "| 511 |         U2         |  1094  |   511    |      320725     |       185        |\n",
       "| 203 |        Blur        |  1905  |   203    |      257978     |       114        |\n",
       "| 498 |      Paramore      |  1664  |   498    |      227829     |       399        |\n",
       "| 378 |    Evanescence     |  1146  |   378    |      203165     |       226        |\n",
       "| 292 | Christina Aguilera |  514   |   292    |      176133     |       407        |\n",
       "| 701 |      Shakira       |  1983  |   701    |      172496     |       319        |\n",
       "| 701 |      Shakira       |  757   |   701    |      169596     |       319        |\n",
       "| 679 |     Glee Cast      |  1086  |   679    |      165902     |       249        |\n",
       "+-----+--------------------+--------+----------+-----------------+------------------+\n",
       "+------------------+--------------------+--------------------+----------------+\n",
       "| totalArtistPlays |    avgUserPlays    | totalUniqueArtists | totalUserPlays |\n",
       "+------------------+--------------------+--------------------+----------------+\n",
       "|     1301308      | 4614.567375886525  |         50         |     388251     |\n",
       "|      350035      | 13462.884615384615 |         50         |     338400     |\n",
       "|      493024      | 2664.9945945945947 |         50         |     379125     |\n",
       "|      318221      | 2791.4122807017543 |         50         |     276295     |\n",
       "|      963449      | 2414.659147869674  |         50         |     251560     |\n",
       "|      513476      | 2272.0176991150443 |         50         |     308167     |\n",
       "|     1058405      | 2600.5036855036856 |         50         |     329782     |\n",
       "|      688529      | 2158.398119122257  |         50         |     179449     |\n",
       "|      688529      | 2158.398119122257  |         50         |     480039     |\n",
       "|      506453      | 2033.9477911646586 |         50         |     235137     |\n",
       "+------------------+--------------------+--------------------+----------------+\n",
       "+------+------------+\n",
       "| rank | everPlayed |\n",
       "+------+------------+\n",
       "|  5   |     1      |\n",
       "|  5   |     1      |\n",
       "|  5   |     1      |\n",
       "|  5   |     1      |\n",
       "|  5   |     1      |\n",
       "|  5   |     1      |\n",
       "|  5   |     1      |\n",
       "|  5   |     1      |\n",
       "|  5   |     1      |\n",
       "|  5   |     1      |\n",
       "+------+------------+\n",
       "[10 rows x 12 columns]"
      ]
     },
     "execution_count": 48,
     "metadata": {},
     "output_type": "execute_result"
    }
   ],
   "source": [
    "sf.head()"
   ]
  },
  {
   "cell_type": "code",
   "execution_count": 49,
   "metadata": {},
   "outputs": [],
   "source": [
    "# split data into train and test sets\n",
    "train, test = tc.recommender.util.random_split_by_user(sf,\n",
    "                                                       user_id='userID',\n",
    "                                                       item_id='name')"
   ]
  },
  {
   "cell_type": "code",
   "execution_count": 50,
   "metadata": {},
   "outputs": [],
   "source": [
    "# we will test seven different model variations enabled with turicreate\n",
    "def train_models(train_data, test_data,user_id,item_id,target):\n",
    "\n",
    "    # popularity, no target\n",
    "    m1 = tc.popularity_recommender.create(train_data,\n",
    "                                          user_id=user_id,\n",
    "                                          item_id=item_id,\n",
    "                                          verbose=False\n",
    "                                          )\n",
    "    # similarity, no target\n",
    "    m2 = tc.item_similarity_recommender.create(train_data,\n",
    "                                               user_id=user_id,\n",
    "                                               item_id=item_id,\n",
    "                                               verbose=False,\n",
    "                                               similarity_type='jaccard'\n",
    "                                               )\n",
    "    # ranking factorize, no target\n",
    "    m3 = tc.ranking_factorization_recommender.create(train_data,\n",
    "                                                     user_id=user_id,\n",
    "                                                     item_id=item_id,\n",
    "                                                     verbose=False\n",
    "                                                     )\n",
    "    # popularity with target\n",
    "    m4 = tc.popularity_recommender.create(train_data,\n",
    "                                          user_id=user_id,\n",
    "                                          item_id=item_id,\n",
    "                                          target=target,\n",
    "                                          verbose=False\n",
    "                                          )\n",
    "\n",
    "    # ranking factorize with target\n",
    "    m5 = tc.ranking_factorization_recommender.create(train_data,\n",
    "                                                     user_id=user_id,\n",
    "                                                     item_id=item_id,\n",
    "                                                     target=target,\n",
    "                                                     verbose=False\n",
    "                                                     )\n",
    "    # factorization with target\n",
    "    m6 = tc.factorization_recommender.create(train_data,\n",
    "                                             user_id=user_id,\n",
    "                                             item_id=item_id,\n",
    "                                             target=target,\n",
    "                                             verbose=False\n",
    "                                                       )\n",
    "    # default with target\n",
    "    m7 = tc.recommender.create(train_data,\n",
    "                               user_id=user_id,\n",
    "                               item_id=item_id,\n",
    "                               target=target,\n",
    "                               verbose=False      \n",
    "                              )\n",
    "    \n",
    "    model_list = m1, m2, m3, m4, m5, m6, m7\n",
    "    \n",
    "    name_list = ['1. Popularity (Implicit, No Target)',\n",
    "                 '2. Item Similarity (Implicit, No Target)',\n",
    "                 '3. Ranking Factorization (Implicit, No Target)',\n",
    "                 '4. Popularity (Explicit, With Target)',\n",
    "                 '5. Ranking Factorization (Explicit, With Target)',\n",
    "                 '6. Factorization (With Target)',\n",
    "                 '7. Default (Explicit, With Target)']\n",
    "\n",
    "    results = tc.recommender.util.compare_models(test_data,\n",
    "                                                models=[m for m in model_list],\n",
    "                                                model_names=[n for n in name_list],\n",
    "                                                metric='auto')\n",
    "\n",
    "    return model_list, name_list, results"
   ]
  },
  {
   "cell_type": "code",
   "execution_count": 51,
   "metadata": {},
   "outputs": [
    {
     "data": {
      "text/html": [
       "<pre>Preparing data set.</pre>"
      ],
      "text/plain": [
       "Preparing data set."
      ]
     },
     "metadata": {},
     "output_type": "display_data"
    },
    {
     "data": {
      "text/html": [
       "<pre>    Data has 46421 observations with 1789 users and 871 items.</pre>"
      ],
      "text/plain": [
       "    Data has 46421 observations with 1789 users and 871 items."
      ]
     },
     "metadata": {},
     "output_type": "display_data"
    },
    {
     "data": {
      "text/html": [
       "<pre>    Data prepared in: 0.106622s</pre>"
      ],
      "text/plain": [
       "    Data prepared in: 0.106622s"
      ]
     },
     "metadata": {},
     "output_type": "display_data"
    },
    {
     "data": {
      "text/html": [
       "<pre>Training ranking_factorization_recommender for recommendations.</pre>"
      ],
      "text/plain": [
       "Training ranking_factorization_recommender for recommendations."
      ]
     },
     "metadata": {},
     "output_type": "display_data"
    },
    {
     "data": {
      "text/html": [
       "<pre>+--------------------------------+--------------------------------------------------+----------+</pre>"
      ],
      "text/plain": [
       "+--------------------------------+--------------------------------------------------+----------+"
      ]
     },
     "metadata": {},
     "output_type": "display_data"
    },
    {
     "data": {
      "text/html": [
       "<pre>| Parameter                      | Description                                      | Value    |</pre>"
      ],
      "text/plain": [
       "| Parameter                      | Description                                      | Value    |"
      ]
     },
     "metadata": {},
     "output_type": "display_data"
    },
    {
     "data": {
      "text/html": [
       "<pre>+--------------------------------+--------------------------------------------------+----------+</pre>"
      ],
      "text/plain": [
       "+--------------------------------+--------------------------------------------------+----------+"
      ]
     },
     "metadata": {},
     "output_type": "display_data"
    },
    {
     "data": {
      "text/html": [
       "<pre>| num_factors                    | Factor Dimension                                 | 32       |</pre>"
      ],
      "text/plain": [
       "| num_factors                    | Factor Dimension                                 | 32       |"
      ]
     },
     "metadata": {},
     "output_type": "display_data"
    },
    {
     "data": {
      "text/html": [
       "<pre>| regularization                 | L2 Regularization on Factors                     | 1e-09    |</pre>"
      ],
      "text/plain": [
       "| regularization                 | L2 Regularization on Factors                     | 1e-09    |"
      ]
     },
     "metadata": {},
     "output_type": "display_data"
    },
    {
     "data": {
      "text/html": [
       "<pre>| solver                         | Solver used for training                         | adagrad  |</pre>"
      ],
      "text/plain": [
       "| solver                         | Solver used for training                         | adagrad  |"
      ]
     },
     "metadata": {},
     "output_type": "display_data"
    },
    {
     "data": {
      "text/html": [
       "<pre>| linear_regularization          | L2 Regularization on Linear Coefficients         | 1e-09    |</pre>"
      ],
      "text/plain": [
       "| linear_regularization          | L2 Regularization on Linear Coefficients         | 1e-09    |"
      ]
     },
     "metadata": {},
     "output_type": "display_data"
    },
    {
     "data": {
      "text/html": [
       "<pre>| ranking_regularization         | Rank-based Regularization Weight                 | 0.25     |</pre>"
      ],
      "text/plain": [
       "| ranking_regularization         | Rank-based Regularization Weight                 | 0.25     |"
      ]
     },
     "metadata": {},
     "output_type": "display_data"
    },
    {
     "data": {
      "text/html": [
       "<pre>| max_iterations                 | Maximum Number of Iterations                     | 25       |</pre>"
      ],
      "text/plain": [
       "| max_iterations                 | Maximum Number of Iterations                     | 25       |"
      ]
     },
     "metadata": {},
     "output_type": "display_data"
    },
    {
     "data": {
      "text/html": [
       "<pre>+--------------------------------+--------------------------------------------------+----------+</pre>"
      ],
      "text/plain": [
       "+--------------------------------+--------------------------------------------------+----------+"
      ]
     },
     "metadata": {},
     "output_type": "display_data"
    },
    {
     "data": {
      "text/html": [
       "<pre>  Optimizing model using SGD; tuning step size.</pre>"
      ],
      "text/plain": [
       "  Optimizing model using SGD; tuning step size."
      ]
     },
     "metadata": {},
     "output_type": "display_data"
    },
    {
     "data": {
      "text/html": [
       "<pre>  Using 10000 / 46421 points for tuning the step size.</pre>"
      ],
      "text/plain": [
       "  Using 10000 / 46421 points for tuning the step size."
      ]
     },
     "metadata": {},
     "output_type": "display_data"
    },
    {
     "data": {
      "text/html": [
       "<pre>+---------+-------------------+------------------------------------------+</pre>"
      ],
      "text/plain": [
       "+---------+-------------------+------------------------------------------+"
      ]
     },
     "metadata": {},
     "output_type": "display_data"
    },
    {
     "data": {
      "text/html": [
       "<pre>| Attempt | Initial Step Size | Estimated Objective Value                |</pre>"
      ],
      "text/plain": [
       "| Attempt | Initial Step Size | Estimated Objective Value                |"
      ]
     },
     "metadata": {},
     "output_type": "display_data"
    },
    {
     "data": {
      "text/html": [
       "<pre>+---------+-------------------+------------------------------------------+</pre>"
      ],
      "text/plain": [
       "+---------+-------------------+------------------------------------------+"
      ]
     },
     "metadata": {},
     "output_type": "display_data"
    },
    {
     "data": {
      "text/html": [
       "<pre>| 0       | 4.54545           | Not Viable                               |</pre>"
      ],
      "text/plain": [
       "| 0       | 4.54545           | Not Viable                               |"
      ]
     },
     "metadata": {},
     "output_type": "display_data"
    },
    {
     "data": {
      "text/html": [
       "<pre>| 1       | 1.13636           | Not Viable                               |</pre>"
      ],
      "text/plain": [
       "| 1       | 1.13636           | Not Viable                               |"
      ]
     },
     "metadata": {},
     "output_type": "display_data"
    },
    {
     "data": {
      "text/html": [
       "<pre>| 2       | 0.284091          | Not Viable                               |</pre>"
      ],
      "text/plain": [
       "| 2       | 0.284091          | Not Viable                               |"
      ]
     },
     "metadata": {},
     "output_type": "display_data"
    },
    {
     "data": {
      "text/html": [
       "<pre>| 3       | 0.0710227         | Not Viable                               |</pre>"
      ],
      "text/plain": [
       "| 3       | 0.0710227         | Not Viable                               |"
      ]
     },
     "metadata": {},
     "output_type": "display_data"
    },
    {
     "data": {
      "text/html": [
       "<pre>| 4       | 0.0177557         | No Decrease (0.517547 >= 0.250138)       |</pre>"
      ],
      "text/plain": [
       "| 4       | 0.0177557         | No Decrease (0.517547 >= 0.250138)       |"
      ]
     },
     "metadata": {},
     "output_type": "display_data"
    },
    {
     "data": {
      "text/html": [
       "<pre>| 5       | 0.00443892        | 0.226643                                 |</pre>"
      ],
      "text/plain": [
       "| 5       | 0.00443892        | 0.226643                                 |"
      ]
     },
     "metadata": {},
     "output_type": "display_data"
    },
    {
     "data": {
      "text/html": [
       "<pre>| 6       | 0.00221946        | 0.234658                                 |</pre>"
      ],
      "text/plain": [
       "| 6       | 0.00221946        | 0.234658                                 |"
      ]
     },
     "metadata": {},
     "output_type": "display_data"
    },
    {
     "data": {
      "text/html": [
       "<pre>| 7       | 0.00110973        | 0.24598                                  |</pre>"
      ],
      "text/plain": [
       "| 7       | 0.00110973        | 0.24598                                  |"
      ]
     },
     "metadata": {},
     "output_type": "display_data"
    },
    {
     "data": {
      "text/html": [
       "<pre>| 8       | 0.000554865       | 0.244606                                 |</pre>"
      ],
      "text/plain": [
       "| 8       | 0.000554865       | 0.244606                                 |"
      ]
     },
     "metadata": {},
     "output_type": "display_data"
    },
    {
     "data": {
      "text/html": [
       "<pre>+---------+-------------------+------------------------------------------+</pre>"
      ],
      "text/plain": [
       "+---------+-------------------+------------------------------------------+"
      ]
     },
     "metadata": {},
     "output_type": "display_data"
    },
    {
     "data": {
      "text/html": [
       "<pre>| Final   | 0.00443892        | 0.226643                                 |</pre>"
      ],
      "text/plain": [
       "| Final   | 0.00443892        | 0.226643                                 |"
      ]
     },
     "metadata": {},
     "output_type": "display_data"
    },
    {
     "data": {
      "text/html": [
       "<pre>+---------+-------------------+------------------------------------------+</pre>"
      ],
      "text/plain": [
       "+---------+-------------------+------------------------------------------+"
      ]
     },
     "metadata": {},
     "output_type": "display_data"
    },
    {
     "data": {
      "text/html": [
       "<pre>Starting Optimization.</pre>"
      ],
      "text/plain": [
       "Starting Optimization."
      ]
     },
     "metadata": {},
     "output_type": "display_data"
    },
    {
     "data": {
      "text/html": [
       "<pre>+---------+--------------+-------------------+-----------------------+-------------+</pre>"
      ],
      "text/plain": [
       "+---------+--------------+-------------------+-----------------------+-------------+"
      ]
     },
     "metadata": {},
     "output_type": "display_data"
    },
    {
     "data": {
      "text/html": [
       "<pre>| Iter.   | Elapsed Time | Approx. Objective | Approx. Training RMSE | Step Size   |</pre>"
      ],
      "text/plain": [
       "| Iter.   | Elapsed Time | Approx. Objective | Approx. Training RMSE | Step Size   |"
      ]
     },
     "metadata": {},
     "output_type": "display_data"
    },
    {
     "data": {
      "text/html": [
       "<pre>+---------+--------------+-------------------+-----------------------+-------------+</pre>"
      ],
      "text/plain": [
       "+---------+--------------+-------------------+-----------------------+-------------+"
      ]
     },
     "metadata": {},
     "output_type": "display_data"
    },
    {
     "data": {
      "text/html": [
       "<pre>| Initial | 57us         | 0.250143          | 0.000954902           |             |</pre>"
      ],
      "text/plain": [
       "| Initial | 57us         | 0.250143          | 0.000954902           |             |"
      ]
     },
     "metadata": {},
     "output_type": "display_data"
    },
    {
     "data": {
      "text/html": [
       "<pre>+---------+--------------+-------------------+-----------------------+-------------+</pre>"
      ],
      "text/plain": [
       "+---------+--------------+-------------------+-----------------------+-------------+"
      ]
     },
     "metadata": {},
     "output_type": "display_data"
    },
    {
     "data": {
      "text/html": [
       "<pre>| 1       | 205.635ms    | 0.265484          | 0.156669              | 0.00443892  |</pre>"
      ],
      "text/plain": [
       "| 1       | 205.635ms    | 0.265484          | 0.156669              | 0.00443892  |"
      ]
     },
     "metadata": {},
     "output_type": "display_data"
    },
    {
     "data": {
      "text/html": [
       "<pre>| 2       | 378.759ms    | 0.220263          | 0.0976025             | 0.00443892  |</pre>"
      ],
      "text/plain": [
       "| 2       | 378.759ms    | 0.220263          | 0.0976025             | 0.00443892  |"
      ]
     },
     "metadata": {},
     "output_type": "display_data"
    },
    {
     "data": {
      "text/html": [
       "<pre>| 3       | 549.681ms    | 0.221636          | 0.118271              | 0.00443892  |</pre>"
      ],
      "text/plain": [
       "| 3       | 549.681ms    | 0.221636          | 0.118271              | 0.00443892  |"
      ]
     },
     "metadata": {},
     "output_type": "display_data"
    },
    {
     "data": {
      "text/html": [
       "<pre>| 4       | 723.761ms    | 0.215222          | 0.112388              | 0.00443892  |</pre>"
      ],
      "text/plain": [
       "| 4       | 723.761ms    | 0.215222          | 0.112388              | 0.00443892  |"
      ]
     },
     "metadata": {},
     "output_type": "display_data"
    },
    {
     "data": {
      "text/html": [
       "<pre>| 5       | 894.692ms    | 0.211969          | 0.112399              | 0.00443892  |</pre>"
      ],
      "text/plain": [
       "| 5       | 894.692ms    | 0.211969          | 0.112399              | 0.00443892  |"
      ]
     },
     "metadata": {},
     "output_type": "display_data"
    },
    {
     "data": {
      "text/html": [
       "<pre>| 10      | 1.72s        | 0.208912          | 0.123369              | 0.00443892  |</pre>"
      ],
      "text/plain": [
       "| 10      | 1.72s        | 0.208912          | 0.123369              | 0.00443892  |"
      ]
     },
     "metadata": {},
     "output_type": "display_data"
    },
    {
     "data": {
      "text/html": [
       "<pre>| 25      | 4.18s        | 0.206441          | 0.141095              | 0.00443892  |</pre>"
      ],
      "text/plain": [
       "| 25      | 4.18s        | 0.206441          | 0.141095              | 0.00443892  |"
      ]
     },
     "metadata": {},
     "output_type": "display_data"
    },
    {
     "data": {
      "text/html": [
       "<pre>+---------+--------------+-------------------+-----------------------+-------------+</pre>"
      ],
      "text/plain": [
       "+---------+--------------+-------------------+-----------------------+-------------+"
      ]
     },
     "metadata": {},
     "output_type": "display_data"
    },
    {
     "data": {
      "text/html": [
       "<pre>Optimization Complete: Maximum number of passes through the data reached.</pre>"
      ],
      "text/plain": [
       "Optimization Complete: Maximum number of passes through the data reached."
      ]
     },
     "metadata": {},
     "output_type": "display_data"
    },
    {
     "data": {
      "text/html": [
       "<pre>Computing final objective value and training RMSE.</pre>"
      ],
      "text/plain": [
       "Computing final objective value and training RMSE."
      ]
     },
     "metadata": {},
     "output_type": "display_data"
    },
    {
     "data": {
      "text/html": [
       "<pre>       Final objective value: 0.206307</pre>"
      ],
      "text/plain": [
       "       Final objective value: 0.206307"
      ]
     },
     "metadata": {},
     "output_type": "display_data"
    },
    {
     "data": {
      "text/html": [
       "<pre>       Final training RMSE: 0.141199</pre>"
      ],
      "text/plain": [
       "       Final training RMSE: 0.141199"
      ]
     },
     "metadata": {},
     "output_type": "display_data"
    },
    {
     "name": "stdout",
     "output_type": "stream",
     "text": [
      "PROGRESS: Evaluate model 1. Popularity (Implicit, No Target)\n",
      "\n",
      "Precision and recall summary statistics by cutoff\n"
     ]
    },
    {
     "name": "stderr",
     "output_type": "stream",
     "text": [
      "/usr/local/lib/python3.6/dist-packages/turicreate/aggregate.py:92: UserWarning: Passing parameter(s) to COUNT is deprecated. This functionality will be removed in the next major release. Any passed parameters are ignored.\n",
      "  + 'the next major release. Any passed parameters are ignored.')\n",
      "WARNING:root:Model trained without a target. Skipping RMSE computation.\n",
      "WARNING:root:Model trained without a target. Skipping RMSE computation.\n"
     ]
    },
    {
     "name": "stdout",
     "output_type": "stream",
     "text": [
      "+--------+---------------------+----------------------+\n",
      "| cutoff |    mean_precision   |     mean_recall      |\n",
      "+--------+---------------------+----------------------+\n",
      "|   1    |  0.1062951496388029 | 0.014868510688944125 |\n",
      "|   2    | 0.09907120743034056 |  0.028895233306998   |\n",
      "|   3    | 0.10973512211902307 | 0.04975871508379249  |\n",
      "|   4    | 0.09520123839009288 | 0.056363611162372804 |\n",
      "|   5    | 0.08648090815273482 | 0.06435184182862198  |\n",
      "|   6    | 0.07980736154110764 | 0.07124491435636948  |\n",
      "|   7    | 0.07504054253280264 |  0.0783654340155888  |\n",
      "|   8    | 0.07391640866873066 |  0.0869070500649448  |\n",
      "|   9    | 0.07338607957803003 | 0.09609770747541645  |\n",
      "|   10   | 0.07203302373581019 | 0.10548728017768264  |\n",
      "+--------+---------------------+----------------------+\n",
      "[10 rows x 3 columns]\n",
      "\n",
      "PROGRESS: Evaluate model 2. Item Similarity (Implicit, No Target)\n",
      "\n",
      "Precision and recall summary statistics by cutoff\n",
      "+--------+---------------------+---------------------+\n",
      "| cutoff |    mean_precision   |     mean_recall     |\n",
      "+--------+---------------------+---------------------+\n",
      "|   1    |  0.3756449948400412 |  0.0642116741187948 |\n",
      "|   2    | 0.31475748194014447 | 0.10426378460434185 |\n",
      "|   3    | 0.28414172686618516 | 0.14093826996303774 |\n",
      "|   4    | 0.25490196078431376 | 0.16818871989150627 |\n",
      "|   5    | 0.22992776057791534 | 0.18804314307410286 |\n",
      "|   6    | 0.21121431028551774 | 0.20654552705636287 |\n",
      "|   7    |  0.1978475600766623 | 0.22700133543786785 |\n",
      "|   8    | 0.18627450980392155 | 0.24326787476942263 |\n",
      "|   9    | 0.17681458548331608 |  0.261146770899093  |\n",
      "|   10   | 0.16821465428276575 |  0.2773481220075647 |\n",
      "+--------+---------------------+---------------------+\n",
      "[10 rows x 3 columns]\n",
      "\n",
      "PROGRESS: Evaluate model 3. Ranking Factorization (Implicit, No Target)\n"
     ]
    },
    {
     "name": "stderr",
     "output_type": "stream",
     "text": [
      "WARNING:root:Model trained without a target. Skipping RMSE computation.\n"
     ]
    },
    {
     "name": "stdout",
     "output_type": "stream",
     "text": [
      "\n",
      "Precision and recall summary statistics by cutoff\n",
      "+--------+---------------------+----------------------+\n",
      "| cutoff |    mean_precision   |     mean_recall      |\n",
      "+--------+---------------------+----------------------+\n",
      "|   1    | 0.12899896800825592 | 0.01881256571659047  |\n",
      "|   2    | 0.09855521155830753 | 0.02975409809775134  |\n",
      "|   3    | 0.08703130374957001 | 0.03912245019056167  |\n",
      "|   4    | 0.09287925696594426 | 0.056575370507259096 |\n",
      "|   5    | 0.08813209494324048 | 0.06666614259493515  |\n",
      "|   6    | 0.08290333677330586 | 0.07415061145711299  |\n",
      "|   7    |  0.0797582190771045 |  0.0824767080185037  |\n",
      "|   8    | 0.07752837977296183 | 0.09159641814440579  |\n",
      "|   9    | 0.07269808508198598 |  0.096878116150562   |\n",
      "|   10   | 0.07038183694530444 | 0.10332725696502788  |\n",
      "+--------+---------------------+----------------------+\n",
      "[10 rows x 3 columns]\n",
      "\n",
      "PROGRESS: Evaluate model 4. Popularity (Explicit, With Target)\n",
      "\n",
      "Precision and recall summary statistics by cutoff\n",
      "+--------+-----------------------+-----------------------+\n",
      "| cutoff |     mean_precision    |      mean_recall      |\n",
      "+--------+-----------------------+-----------------------+\n",
      "|   1    | 0.0030959752321981413 | 0.0005316321105794794 |\n",
      "|   2    | 0.0025799793601651196 | 0.0008182964839311583 |\n",
      "|   3    |  0.004815961472308219 | 0.0020939644004659467 |\n",
      "|   4    |  0.004901960784313723 | 0.0030039934838696444 |\n",
      "|   5    |  0.00412796697626419  | 0.0031759921078806518 |\n",
      "|   6    |  0.003611971104231166 | 0.0033234194998900887 |\n",
      "|   7    | 0.0035382574082264474 |  0.003658481754456986 |\n",
      "|   8    |  0.00348297213622291  |  0.004005345646212519 |\n",
      "|   9    | 0.0034399724802201596 |  0.004340742963033985 |\n",
      "|   10   |  0.003611971104231168 |   0.0053842012820341  |\n",
      "+--------+-----------------------+-----------------------+\n",
      "[10 rows x 3 columns]\n",
      "\n",
      "\n",
      "Overall RMSE: 0.0\n",
      "\n",
      "Per User RMSE (best)\n",
      "+--------+------+-------+\n",
      "| userID | rmse | count |\n",
      "+--------+------+-------+\n",
      "|  940   | 0.0  |   3   |\n",
      "+--------+------+-------+\n",
      "[1 rows x 3 columns]\n",
      "\n",
      "\n",
      "Per User RMSE (worst)\n",
      "+--------+------+-------+\n",
      "| userID | rmse | count |\n",
      "+--------+------+-------+\n",
      "|  526   | 0.0  |   1   |\n",
      "+--------+------+-------+\n",
      "[1 rows x 3 columns]\n",
      "\n",
      "\n",
      "Per Item RMSE (best)\n",
      "+--------------------+------+-------+\n",
      "|        name        | rmse | count |\n",
      "+--------------------+------+-------+\n",
      "| 30 Seconds to Mars | 0.0  |   30  |\n",
      "+--------------------+------+-------+\n",
      "[1 rows x 3 columns]\n",
      "\n",
      "\n",
      "Per Item RMSE (worst)\n",
      "+------+------+-------+\n",
      "| name | rmse | count |\n",
      "+------+------+-------+\n",
      "| INXS | 0.0  |   4   |\n",
      "+------+------+-------+\n",
      "[1 rows x 3 columns]\n",
      "\n",
      "PROGRESS: Evaluate model 5. Ranking Factorization (Explicit, With Target)\n",
      "\n",
      "Precision and recall summary statistics by cutoff\n",
      "+--------+---------------------+----------------------+\n",
      "| cutoff |    mean_precision   |     mean_recall      |\n",
      "+--------+---------------------+----------------------+\n",
      "|   1    |  0.1682146542827656 | 0.02481261142251854  |\n",
      "|   2    |  0.1269349845201239 | 0.03598869883699606  |\n",
      "|   3    | 0.10285517715858271 | 0.043024559433228166 |\n",
      "|   4    | 0.09262125902992777 | 0.05260535245055371  |\n",
      "|   5    | 0.08317853457172343 | 0.05917371242448649  |\n",
      "|   6    | 0.07911936704506366 | 0.06820052439247491  |\n",
      "|   7    | 0.07621996166887808 | 0.07837859881203538  |\n",
      "|   8    | 0.07211042311661509 | 0.08478242030873616  |\n",
      "|   9    | 0.06799678935901843 |  0.0910981576616252  |\n",
      "|   10   | 0.06563467492260053 | 0.09747030861581947  |\n",
      "+--------+---------------------+----------------------+\n",
      "[10 rows x 3 columns]\n",
      "\n",
      "\n",
      "Overall RMSE: 0.15968841650616755\n",
      "\n",
      "Per User RMSE (best)\n",
      "+--------+----------------------+-------+\n",
      "| userID |         rmse         | count |\n",
      "+--------+----------------------+-------+\n",
      "|  1035  | 0.031340510124226145 |   5   |\n",
      "+--------+----------------------+-------+\n",
      "[1 rows x 3 columns]\n",
      "\n",
      "\n",
      "Per User RMSE (worst)\n",
      "+--------+-------------------+-------+\n",
      "| userID |        rmse       | count |\n",
      "+--------+-------------------+-------+\n",
      "|  584   | 2.304554813817942 |   3   |\n",
      "+--------+-------------------+-------+\n",
      "[1 rows x 3 columns]\n",
      "\n",
      "\n",
      "Per Item RMSE (best)\n",
      "+------+----------------------+-------+\n",
      "| name |         rmse         | count |\n",
      "+------+----------------------+-------+\n",
      "| Mew  | 0.008496011567057815 |   1   |\n",
      "+------+----------------------+-------+\n",
      "[1 rows x 3 columns]\n",
      "\n",
      "\n",
      "Per Item RMSE (worst)\n",
      "+-----------------+--------------------+-------+\n",
      "|       name      |        rmse        | count |\n",
      "+-----------------+--------------------+-------+\n",
      "| Miranda Lambert | 2.8216786991965326 |   2   |\n",
      "+-----------------+--------------------+-------+\n",
      "[1 rows x 3 columns]\n",
      "\n",
      "PROGRESS: Evaluate model 6. Factorization (With Target)\n",
      "\n",
      "Precision and recall summary statistics by cutoff\n",
      "+--------+-----------------------+-----------------------+\n",
      "| cutoff |     mean_precision    |      mean_recall      |\n",
      "+--------+-----------------------+-----------------------+\n",
      "|   1    |  0.004127966976264188 | 0.0006191950464396284 |\n",
      "|   2    | 0.0025799793601651183 | 0.0007338607957803004 |\n",
      "|   3    |  0.002751977984176127 | 0.0015692826838337674 |\n",
      "|   4    |  0.003611971104231166 | 0.0027360066833751044 |\n",
      "|   5    | 0.0033023735810113536 |  0.004111995675463168 |\n",
      "|   6    |  0.003095975232198142 |  0.004447392992284632 |\n",
      "|   7    | 0.0030959752321981413 |  0.004803303564913474 |\n",
      "|   8    |  0.002837977296181631 |  0.005061301500929986 |\n",
      "|   9    | 0.0028666437335167993 |  0.005361517281021927 |\n",
      "|   10   |  0.002579979360165119 |  0.005361517281021925 |\n",
      "+--------+-----------------------+-----------------------+\n",
      "[10 rows x 3 columns]\n",
      "\n",
      "\n",
      "Overall RMSE: 1.0548565489157633e-05\n",
      "\n",
      "Per User RMSE (best)\n",
      "+--------+------------------------+-------+\n",
      "| userID |          rmse          | count |\n",
      "+--------+------------------------+-------+\n",
      "|  962   | 4.3833723414682206e-07 |   2   |\n",
      "+--------+------------------------+-------+\n",
      "[1 rows x 3 columns]\n",
      "\n",
      "\n",
      "Per User RMSE (worst)\n",
      "+--------+------------------------+-------+\n",
      "| userID |          rmse          | count |\n",
      "+--------+------------------------+-------+\n",
      "|  2100  | 0.00018984807864841358 |   1   |\n",
      "+--------+------------------------+-------+\n",
      "[1 rows x 3 columns]\n",
      "\n",
      "\n",
      "Per Item RMSE (best)\n",
      "+--------------+----------------------+-------+\n",
      "|     name     |         rmse         | count |\n",
      "+--------------+----------------------+-------+\n",
      "| Skinny Puppy | 8.29300851323822e-08 |   1   |\n",
      "+--------------+----------------------+-------+\n",
      "[1 rows x 3 columns]\n",
      "\n",
      "\n",
      "Per Item RMSE (worst)\n",
      "+-----------+------------------------+-------+\n",
      "|    name   |          rmse          | count |\n",
      "+-----------+------------------------+-------+\n",
      "| Eluveitie | 0.00018984807864841358 |   1   |\n",
      "+-----------+------------------------+-------+\n",
      "[1 rows x 3 columns]\n",
      "\n",
      "PROGRESS: Evaluate model 7. Default (Explicit, With Target)\n",
      "\n",
      "Precision and recall summary statistics by cutoff\n",
      "+--------+---------------------+----------------------+\n",
      "| cutoff |    mean_precision   |     mean_recall      |\n",
      "+--------+---------------------+----------------------+\n",
      "|   1    | 0.16099071207430346 | 0.02343371855755756  |\n",
      "|   2    | 0.11867905056759538 | 0.03384191774284653  |\n",
      "|   3    | 0.10044719642242865 | 0.042536001436930274 |\n",
      "|   4    | 0.08952528379772963 | 0.050779400624601886 |\n",
      "|   5    |  0.081733746130031  | 0.05846577742862578  |\n",
      "|   6    | 0.08049535603715166 | 0.07196619170303378  |\n",
      "|   7    | 0.07459826035677432 | 0.07762458559672179  |\n",
      "|   8    | 0.07056243550051602 | 0.08444861238978887  |\n",
      "|   9    | 0.06902878110308452 | 0.09199993333120267  |\n",
      "|   10   |  0.0671826625386997 |  0.0990494942507327  |\n",
      "+--------+---------------------+----------------------+\n",
      "[10 rows x 3 columns]\n",
      "\n",
      "\n",
      "Overall RMSE: 0.1442374673189318\n",
      "\n",
      "Per User RMSE (best)\n",
      "+--------+----------------------+-------+\n",
      "| userID |         rmse         | count |\n",
      "+--------+----------------------+-------+\n",
      "|  782   | 0.016055900014459557 |   1   |\n",
      "+--------+----------------------+-------+\n",
      "[1 rows x 3 columns]\n",
      "\n",
      "\n",
      "Per User RMSE (worst)\n",
      "+--------+-------------------+-------+\n",
      "| userID |        rmse       | count |\n",
      "+--------+-------------------+-------+\n",
      "|  1664  | 1.356983927960142 |   6   |\n",
      "+--------+-------------------+-------+\n",
      "[1 rows x 3 columns]\n",
      "\n",
      "\n",
      "Per Item RMSE (best)\n",
      "+---------------+----------------------+-------+\n",
      "|      name     |         rmse         | count |\n",
      "+---------------+----------------------+-------+\n",
      "| Missy Elliott | 0.042428147963684326 |   1   |\n",
      "+---------------+----------------------+-------+\n",
      "[1 rows x 3 columns]\n",
      "\n",
      "\n",
      "Per Item RMSE (worst)\n",
      "+---------+--------------------+-------+\n",
      "|   name  |        rmse        | count |\n",
      "+---------+--------------------+-------+\n",
      "| Erasure | 0.6538212010036862 |   8   |\n",
      "+---------+--------------------+-------+\n",
      "[1 rows x 3 columns]\n",
      "\n"
     ]
    }
   ],
   "source": [
    "# training our seven models with a binarized target (played or not played)\n",
    "model_list, name_list, results = train_models(train, \n",
    "                                              test,\n",
    "                                              user_id='userID',\n",
    "                                              item_id='name',\n",
    "                                              target='everPlayed')"
   ]
  },
  {
   "cell_type": "code",
   "execution_count": 52,
   "metadata": {},
   "outputs": [
    {
     "name": "stdout",
     "output_type": "stream",
     "text": [
      "User list consists of:\n",
      "Top Users: [757, 2000, 1418, 1642, 1094]\n",
      "Random Users: [527, 1170, 1798, 214, 2084]\n"
     ]
    }
   ],
   "source": [
    "# determine a user list for which to pull custom recommendations\n",
    "top_users = user_rank.index[:5]\n",
    "rand_users = seed.choice(sf['userID'],5)\n",
    "user_list = list(top_users) + list(rand_users)\n",
    "print(\"User list consists of:\\nTop Users: {}\\nRandom Users: {}\".format(list(top_users),list(rand_users)))"
   ]
  },
  {
   "cell_type": "code",
   "execution_count": 53,
   "metadata": {},
   "outputs": [],
   "source": [
    "def played_vs_rec(users,df,model_list,name_list,user_id,item_id,plays,target):\n",
    "    assert len(model_list)==len(name_list)\n",
    "    print(\"User List: {}\\n\".format(users))\n",
    "    df = df[[user_id,item_id,plays,target]]\n",
    "    for user in users:\n",
    "        print('USER {}\\n'.format(str(user)))\n",
    "        print('***TOP PLAYS***')\n",
    "        print(df[df[user_id]==user].sort(plays,ascending=False))\n",
    "        print('\\n')\n",
    "        print('***RECOMMENDATIONS***')\n",
    "        for i in range(len(model_list)):\n",
    "            print('***{}***'.format(name_list[i]))\n",
    "            results = model_list[i].recommend(users=[user],k=4)\n",
    "            print(results)\n",
    "        print('\\n')"
   ]
  },
  {
   "cell_type": "code",
   "execution_count": 54,
   "metadata": {},
   "outputs": [
    {
     "name": "stdout",
     "output_type": "stream",
     "text": [
      "User List: [757, 2000, 1418, 1642, 1094, 527, 1170, 1798, 214, 2084]\n",
      "\n",
      "USER 757\n",
      "\n",
      "***TOP PLAYS***\n",
      "+--------+------------------+-----------------+------------+\n",
      "| userID |       name       | userArtistPlays | everPlayed |\n",
      "+--------+------------------+-----------------+------------+\n",
      "|  757   |     Shakira      |      169596     |     1      |\n",
      "|  757   |     Beyoncé      |      60877      |     1      |\n",
      "|  757   |     Rihanna      |      31800      |     1      |\n",
      "|  757   |  Britney Spears  |      30230      |     1      |\n",
      "|  757   |      Eminem      |      26933      |     1      |\n",
      "|  757   | Black Eyed Peas  |      26767      |     1      |\n",
      "|  757   | Enrique Iglesias |      26723      |     1      |\n",
      "|  757   | Michael Jackson  |      26148      |     1      |\n",
      "|  757   |      Ke$ha       |      23277      |     1      |\n",
      "|  757   |   Miley Cyrus    |      20003      |     1      |\n",
      "+--------+------------------+-----------------+------------+\n",
      "[41 rows x 4 columns]\n",
      "Note: Only the head of the SFrame is printed.\n",
      "You can use print_rows(num_rows=m, num_columns=n) to print more rows and columns.\n",
      "\n",
      "\n",
      "***RECOMMENDATIONS***\n",
      "***1. Popularity (Implicit, No Target)***\n",
      "+--------+---------------+-------+------+\n",
      "| userID |      name     | score | rank |\n",
      "+--------+---------------+-------+------+\n",
      "|  757   |  The Beatles  | 423.0 |  1   |\n",
      "|  757   |    Madonna    | 374.0 |  2   |\n",
      "|  757   | Avril Lavigne | 358.0 |  3   |\n",
      "|  757   |      Muse     | 354.0 |  4   |\n",
      "+--------+---------------+-------+------+\n",
      "[4 rows x 4 columns]\n",
      "\n",
      "***2. Item Similarity (Implicit, No Target)***\n",
      "+--------+--------------------+---------------------+------+\n",
      "| userID |        name        |        score        | rank |\n",
      "+--------+--------------------+---------------------+------+\n",
      "|  757   |   Avril Lavigne    |  0.1704585784819068 |  1   |\n",
      "|  757   |   Jennifer Lopez   | 0.16550935768499608 |  2   |\n",
      "|  757   | The Pussycat Dolls | 0.16381366078446552 |  3   |\n",
      "|  757   |   Kylie Minogue    | 0.15743258522778023 |  4   |\n",
      "+--------+--------------------+---------------------+------+\n",
      "[4 rows x 4 columns]\n",
      "\n",
      "***3. Ranking Factorization (Implicit, No Target)***\n",
      "+--------+---------------+--------------------+------+\n",
      "| userID |      name     |       score        | rank |\n",
      "+--------+---------------+--------------------+------+\n",
      "|  757   |   Radiohead   | 0.5072012791723237 |  1   |\n",
      "|  757   |  The Beatles  | 0.5069670585295377 |  2   |\n",
      "|  757   |      Muse     | 0.506748481928683  |  3   |\n",
      "|  757   | Avril Lavigne | 0.5066457405601111 |  4   |\n",
      "+--------+---------------+--------------------+------+\n",
      "[4 rows x 4 columns]\n",
      "\n",
      "***4. Popularity (Explicit, With Target)***\n",
      "+--------+--------------+-------+------+\n",
      "| userID |     name     | score | rank |\n",
      "+--------+--------------+-------+------+\n",
      "|  757   |     Blur     |  1.0  |  1   |\n",
      "|  757   |      U2      |  1.0  |  2   |\n",
      "|  757   |    Thalía    |  1.0  |  3   |\n",
      "|  757   | Depeche Mode |  1.0  |  4   |\n",
      "+--------+--------------+-------+------+\n",
      "[4 rows x 4 columns]\n",
      "\n",
      "***5. Ranking Factorization (Explicit, With Target)***\n",
      "+--------+---------------+--------------------+------+\n",
      "| userID |      name     |       score        | rank |\n",
      "+--------+---------------+--------------------+------+\n",
      "|  757   |       U2      | 1.0205676215700805 |  1   |\n",
      "|  757   | Avril Lavigne | 0.9971573003567755 |  2   |\n",
      "|  757   |  Depeche Mode | 0.9942823811434209 |  3   |\n",
      "|  757   |   Glee Cast   | 0.9838772634975612 |  4   |\n",
      "+--------+---------------+--------------------+------+\n",
      "[4 rows x 4 columns]\n",
      "\n",
      "***6. Factorization (With Target)***\n",
      "+--------+--------------------------+--------------------+------+\n",
      "| userID |           name           |       score        | rank |\n",
      "+--------+--------------------------+--------------------+------+\n",
      "|  757   |        Faithless         | 1.0001519567416324 |  1   |\n",
      "|  757   | Forever the Sickest Kids | 1.000147238961432  |  2   |\n",
      "|  757   |       Brad Paisley       | 1.0001452742160382 |  3   |\n",
      "|  757   | Bob Marley & The Wailers | 1.0001416970489956 |  4   |\n",
      "+--------+--------------------------+--------------------+------+\n",
      "[4 rows x 4 columns]\n",
      "\n",
      "***7. Default (Explicit, With Target)***\n",
      "+--------+--------------+--------------------+------+\n",
      "| userID |     name     |       score        | rank |\n",
      "+--------+--------------+--------------------+------+\n",
      "|  757   | Depeche Mode | 0.9467280618846416 |  1   |\n",
      "|  757   |      U2      | 0.9380631968379021 |  2   |\n",
      "|  757   |  Radiohead   | 0.9346621101722121 |  3   |\n",
      "|  757   |     Muse     | 0.9246830679476261 |  4   |\n",
      "+--------+--------------+--------------------+------+\n",
      "[4 rows x 4 columns]\n",
      "\n",
      "\n",
      "\n",
      "USER 2000\n",
      "\n",
      "***TOP PLAYS***\n",
      "+--------+-------------------+-----------------+------------+\n",
      "| userID |        name       | userArtistPlays | everPlayed |\n",
      "+--------+-------------------+-----------------+------------+\n",
      "|  2000  |        Akon       |      50559      |     1      |\n",
      "|  2000  |       Eminem      |      47147      |     1      |\n",
      "|  2000  |     Lil' Wayne    |      33305      |     1      |\n",
      "|  2000  |     Kanye West    |      25901      |     1      |\n",
      "|  2000  |    Busta Rhymes   |      25763      |     1      |\n",
      "|  2000  |      Rihanna      |      24774      |     1      |\n",
      "|  2000  |      Flo Rida     |      18728      |     1      |\n",
      "|  2000  |      50 Cent      |      16027      |     1      |\n",
      "|  2000  | Justin Timberlake |      13128      |     1      |\n",
      "|  2000  |      Madonna      |      12782      |     1      |\n",
      "+--------+-------------------+-----------------+------------+\n",
      "[26 rows x 4 columns]\n",
      "Note: Only the head of the SFrame is printed.\n",
      "You can use print_rows(num_rows=m, num_columns=n) to print more rows and columns.\n",
      "\n",
      "\n",
      "***RECOMMENDATIONS***\n",
      "***1. Popularity (Implicit, No Target)***\n",
      "+--------+--------------------+-------+------+\n",
      "| userID |        name        | score | rank |\n",
      "+--------+--------------------+-------+------+\n",
      "|  2000  |     Lady Gaga      | 542.0 |  1   |\n",
      "|  2000  |    The Beatles     | 423.0 |  2   |\n",
      "|  2000  |     Katy Perry     | 410.0 |  3   |\n",
      "|  2000  | Christina Aguilera | 366.0 |  4   |\n",
      "+--------+--------------------+-------+------+\n",
      "[4 rows x 4 columns]\n",
      "\n",
      "***2. Item Similarity (Implicit, No Target)***\n",
      "+--------+--------------------+---------------------+------+\n",
      "| userID |        name        |        score        | rank |\n",
      "+--------+--------------------+---------------------+------+\n",
      "|  2000  |      Beyoncé       | 0.14274904819635245 |  1   |\n",
      "|  2000  | Christina Aguilera |  0.1360721794458536 |  2   |\n",
      "|  2000  |     Katy Perry     | 0.12149348625769982 |  3   |\n",
      "|  2000  |       Ke$ha        | 0.12026485571494469 |  4   |\n",
      "+--------+--------------------+---------------------+------+\n",
      "[4 rows x 4 columns]\n",
      "\n",
      "***3. Ranking Factorization (Implicit, No Target)***\n",
      "+--------+---------------+--------------------+------+\n",
      "| userID |      name     |       score        | rank |\n",
      "+--------+---------------+--------------------+------+\n",
      "|  2000  |   Katy Perry  | 0.5093609276873112 |  1   |\n",
      "|  2000  |   Lady Gaga   | 0.5082806727192232 |  2   |\n",
      "|  2000  |  The Beatles  | 0.5078923897638675 |  3   |\n",
      "|  2000  | Avril Lavigne | 0.5073741776831646 |  4   |\n",
      "+--------+---------------+--------------------+------+\n",
      "[4 rows x 4 columns]\n",
      "\n",
      "***4. Popularity (Explicit, With Target)***\n",
      "+--------+--------------+-------+------+\n",
      "| userID |     name     | score | rank |\n",
      "+--------+--------------+-------+------+\n",
      "|  2000  |     Blur     |  1.0  |  1   |\n",
      "|  2000  |      U2      |  1.0  |  2   |\n",
      "|  2000  |    Thalía    |  1.0  |  3   |\n",
      "|  2000  | Depeche Mode |  1.0  |  4   |\n",
      "+--------+--------------+-------+------+\n",
      "[4 rows x 4 columns]\n",
      "\n",
      "***5. Ranking Factorization (Explicit, With Target)***\n",
      "+--------+---------------+--------------------+------+\n",
      "| userID |      name     |       score        | rank |\n",
      "+--------+---------------+--------------------+------+\n",
      "|  2000  |   Lady Gaga   | 1.0620951922610402 |  1   |\n",
      "|  2000  |    Beyoncé    | 1.0600430555641651 |  2   |\n",
      "|  2000  |       U2      | 1.0544925890862942 |  3   |\n",
      "|  2000  | Avril Lavigne | 1.0491758873686194 |  4   |\n",
      "+--------+---------------+--------------------+------+\n",
      "[4 rows x 4 columns]\n",
      "\n",
      "***6. Factorization (With Target)***\n",
      "+--------+--------------------------+--------------------+------+\n",
      "| userID |           name           |       score        | rank |\n",
      "+--------+--------------------------+--------------------+------+\n",
      "|  2000  |        Faithless         | 1.0000669176141628 |  1   |\n",
      "|  2000  |       Brad Paisley       | 1.0000602387993922 |  2   |\n",
      "|  2000  | Forever the Sickest Kids | 1.0000601331427674 |  3   |\n",
      "|  2000  | Bob Marley & The Wailers | 1.0000557247814612 |  4   |\n",
      "+--------+--------------------------+--------------------+------+\n",
      "[4 rows x 4 columns]\n",
      "\n",
      "***7. Default (Explicit, With Target)***\n",
      "+--------+--------------+--------------------+------+\n",
      "| userID |     name     |       score        | rank |\n",
      "+--------+--------------+--------------------+------+\n",
      "|  2000  | Depeche Mode | 0.9184148274362087 |  1   |\n",
      "|  2000  |      U2      | 0.9123407565057278 |  2   |\n",
      "|  2000  |   Beyoncé    | 0.9066523863002658 |  3   |\n",
      "|  2000  |  Lady Gaga   | 0.9039805922657251 |  4   |\n",
      "+--------+--------------+--------------------+------+\n",
      "[4 rows x 4 columns]\n",
      "\n",
      "\n",
      "\n",
      "USER 1418\n",
      "\n",
      "***TOP PLAYS***\n"
     ]
    },
    {
     "name": "stdout",
     "output_type": "stream",
     "text": [
      "+--------+-----------------------+-----------------+------------+\n",
      "| userID |          name         | userArtistPlays | everPlayed |\n",
      "+--------+-----------------------+-----------------+------------+\n",
      "|  1418  |       Lady Gaga       |      75414      |     1      |\n",
      "|  1418  | The Devil Wears Prada |      39826      |     1      |\n",
      "|  1418  |        Paramore       |      31834      |     1      |\n",
      "|  1418  |       Hadouken!       |      30566      |     1      |\n",
      "|  1418  |     Good Charlotte    |      28859      |     1      |\n",
      "|  1418  |          Muse         |      27211      |     1      |\n",
      "|  1418  |     Avril Lavigne     |      25575      |     1      |\n",
      "|  1418  |     Enter Shikari     |      24663      |     1      |\n",
      "|  1418  |      Linkin Park      |      18012      |     1      |\n",
      "|  1418  |   Asking Alexandria   |      15147      |     1      |\n",
      "+--------+-----------------------+-----------------+------------+\n",
      "[28 rows x 4 columns]\n",
      "Note: Only the head of the SFrame is printed.\n",
      "You can use print_rows(num_rows=m, num_columns=n) to print more rows and columns.\n",
      "\n",
      "\n",
      "***RECOMMENDATIONS***\n",
      "***1. Popularity (Implicit, No Target)***\n",
      "+--------+----------------+-------+------+\n",
      "| userID |      name      | score | rank |\n",
      "+--------+----------------+-------+------+\n",
      "|  1418  | Britney Spears | 464.0 |  1   |\n",
      "|  1418  |  The Beatles   | 423.0 |  2   |\n",
      "|  1418  |    Rihanna     | 418.0 |  3   |\n",
      "|  1418  |   Katy Perry   | 410.0 |  4   |\n",
      "+--------+----------------+-------+------+\n",
      "[4 rows x 4 columns]\n",
      "\n",
      "***2. Item Similarity (Implicit, No Target)***\n",
      "+--------+----------------+---------------------+------+\n",
      "| userID |      name      |        score        | rank |\n",
      "+--------+----------------+---------------------+------+\n",
      "|  1418  |   Katy Perry   | 0.13967699025358474 |  1   |\n",
      "|  1418  | Britney Spears | 0.13293884694576263 |  2   |\n",
      "|  1418  |    Rihanna     |  0.1295152668442045 |  3   |\n",
      "|  1418  |    Beyoncé     | 0.11228637184415545 |  4   |\n",
      "+--------+----------------+---------------------+------+\n",
      "[4 rows x 4 columns]\n",
      "\n",
      "***3. Ranking Factorization (Implicit, No Target)***\n",
      "+--------+-------------+--------------------+------+\n",
      "| userID |     name    |       score        | rank |\n",
      "+--------+-------------+--------------------+------+\n",
      "|  1418  |  Katy Perry | 0.5077775997377953 |  1   |\n",
      "|  1418  |  Radiohead  | 0.5063878448754204 |  2   |\n",
      "|  1418  | The Beatles | 0.5061390823782262 |  3   |\n",
      "|  1418  |   Beyoncé   | 0.5055408442666827 |  4   |\n",
      "+--------+-------------+--------------------+------+\n",
      "[4 rows x 4 columns]\n",
      "\n",
      "***4. Popularity (Explicit, With Target)***\n",
      "+--------+--------------+-------+------+\n",
      "| userID |     name     | score | rank |\n",
      "+--------+--------------+-------+------+\n",
      "|  1418  |     Blur     |  1.0  |  1   |\n",
      "|  1418  |      U2      |  1.0  |  2   |\n",
      "|  1418  |    Thalía    |  1.0  |  3   |\n",
      "|  1418  | Depeche Mode |  1.0  |  4   |\n",
      "+--------+--------------+-------+------+\n",
      "[4 rows x 4 columns]\n",
      "\n",
      "***5. Ranking Factorization (Explicit, With Target)***\n",
      "+--------+--------------+--------------------+------+\n",
      "| userID |     name     |       score        | rank |\n",
      "+--------+--------------+--------------------+------+\n",
      "|  1418  |      U2      | 1.0239881658926606 |  1   |\n",
      "|  1418  |   Beyoncé    | 1.022711948491633  |  2   |\n",
      "|  1418  | Depeche Mode | 0.9981970796361566 |  3   |\n",
      "|  1418  |  Glee Cast   | 0.9904274353757501 |  4   |\n",
      "+--------+--------------+--------------------+------+\n",
      "[4 rows x 4 columns]\n",
      "\n",
      "***6. Factorization (With Target)***\n",
      "+--------+--------------------------+--------------------+------+\n",
      "| userID |           name           |       score        | rank |\n",
      "+--------+--------------------------+--------------------+------+\n",
      "|  1418  |        Faithless         | 1.0000319888367244 |  1   |\n",
      "|  1418  | Forever the Sickest Kids | 1.0000264087958186 |  2   |\n",
      "|  1418  |       Brad Paisley       | 1.000025488378128  |  3   |\n",
      "|  1418  | Bob Marley & The Wailers | 1.0000216186045776 |  4   |\n",
      "+--------+--------------------------+--------------------+------+\n",
      "[4 rows x 4 columns]\n",
      "\n",
      "***7. Default (Explicit, With Target)***\n",
      "+--------+--------------+--------------------+------+\n",
      "| userID |     name     |       score        | rank |\n",
      "+--------+--------------+--------------------+------+\n",
      "|  1418  |   Rihanna    | 0.9491108153015375 |  1   |\n",
      "|  1418  | Depeche Mode | 0.9478043746203184 |  2   |\n",
      "|  1418  |   Beyoncé    | 0.9418654246255755 |  3   |\n",
      "|  1418  |      U2      | 0.9395874105393887 |  4   |\n",
      "+--------+--------------+--------------------+------+\n",
      "[4 rows x 4 columns]\n",
      "\n",
      "\n",
      "\n",
      "USER 1642\n",
      "\n",
      "***TOP PLAYS***\n",
      "+--------+----------------+-----------------+------------+\n",
      "| userID |      name      | userArtistPlays | everPlayed |\n",
      "+--------+----------------+-----------------+------------+\n",
      "|  1642  |  Depeche Mode  |      352698     |     1      |\n",
      "|  1642  | Martin L. Gore |      10947      |     1      |\n",
      "|  1642  |       U2       |       318       |     1      |\n",
      "|  1642  |   Dave Gahan   |       294       |     1      |\n",
      "|  1642  |     Tiësto     |       207       |     1      |\n",
      "|  1642  |    The Cure    |       174       |     1      |\n",
      "|  1642  |   Camouflage   |       142       |     1      |\n",
      "|  1642  |   Talk Talk    |       120       |     1      |\n",
      "|  1642  |      a-ha      |       111       |     1      |\n",
      "|  1642  |   Daft Punk    |       107       |     1      |\n",
      "+--------+----------------+-----------------+------------+\n",
      "[10 rows x 4 columns]\n",
      "\n",
      "\n",
      "\n",
      "***RECOMMENDATIONS***\n",
      "***1. Popularity (Implicit, No Target)***\n",
      "+--------+----------------+-------+------+\n",
      "| userID |      name      | score | rank |\n",
      "+--------+----------------+-------+------+\n",
      "|  1642  |   Lady Gaga    | 542.0 |  1   |\n",
      "|  1642  | Britney Spears | 464.0 |  2   |\n",
      "|  1642  |  The Beatles   | 423.0 |  3   |\n",
      "|  1642  |    Rihanna     | 418.0 |  4   |\n",
      "+--------+----------------+-------+------+\n",
      "[4 rows x 4 columns]\n",
      "\n",
      "***2. Item Similarity (Implicit, No Target)***\n",
      "+--------+---------------+---------------------+------+\n",
      "| userID |      name     |        score        | rank |\n",
      "+--------+---------------+---------------------+------+\n",
      "|  1642  |  Duran Duran  |  0.133204385638237  |  1   |\n",
      "|  1642  | Pet Shop Boys | 0.12656785547733307 |  2   |\n",
      "|  1642  |   New Order   | 0.12264665216207504 |  3   |\n",
      "|  1642  |      INXS     | 0.11402035504579544 |  4   |\n",
      "+--------+---------------+---------------------+------+\n",
      "[4 rows x 4 columns]\n",
      "\n",
      "***3. Ranking Factorization (Implicit, No Target)***\n",
      "+--------+-------------+--------------------+------+\n",
      "| userID |     name    |       score        | rank |\n",
      "+--------+-------------+--------------------+------+\n",
      "|  1642  |  Lady Gaga  | 0.5127140604021647 |  1   |\n",
      "|  1642  |  Katy Perry | 0.5123014026350808 |  2   |\n",
      "|  1642  | The Beatles | 0.5112055023736358 |  3   |\n",
      "|  1642  |   Rihanna   | 0.5110036202553752 |  4   |\n",
      "+--------+-------------+--------------------+------+\n",
      "[4 rows x 4 columns]\n",
      "\n",
      "***4. Popularity (Explicit, With Target)***\n",
      "+--------+--------------------+-------+------+\n",
      "| userID |        name        | score | rank |\n",
      "+--------+--------------------+-------+------+\n",
      "|  1642  | Christina Aguilera |  1.0  |  1   |\n",
      "|  1642  |    Evanescence     |  1.0  |  2   |\n",
      "|  1642  |        Blur        |  1.0  |  3   |\n",
      "|  1642  |       Thalía       |  1.0  |  4   |\n",
      "+--------+--------------------+-------+------+\n",
      "[4 rows x 4 columns]\n",
      "\n",
      "***5. Ranking Factorization (Explicit, With Target)***\n",
      "+--------+--------------------+--------------------+------+\n",
      "| userID |        name        |       score        | rank |\n",
      "+--------+--------------------+--------------------+------+\n",
      "|  1642  |     Lady Gaga      | 1.0154790715314448 |  1   |\n",
      "|  1642  |      Beyoncé       | 0.9951188289560378 |  2   |\n",
      "|  1642  |   Avril Lavigne    | 0.9883256475441158 |  3   |\n",
      "|  1642  | Christina Aguilera | 0.9850105005316436 |  4   |\n",
      "+--------+--------------------+--------------------+------+\n",
      "[4 rows x 4 columns]\n",
      "\n",
      "***6. Factorization (With Target)***\n",
      "+--------+--------------------------+--------------------+------+\n",
      "| userID |           name           |       score        | rank |\n",
      "+--------+--------------------------+--------------------+------+\n",
      "|  1642  |        Faithless         | 1.000068236265065  |  1   |\n",
      "|  1642  | Forever the Sickest Kids | 1.0000646056712554 |  2   |\n",
      "|  1642  |       Brad Paisley       | 1.0000616868250063 |  3   |\n",
      "|  1642  | Bob Marley & The Wailers | 1.0000589827750872 |  4   |\n",
      "+--------+--------------------------+--------------------+------+\n",
      "[4 rows x 4 columns]\n",
      "\n",
      "***7. Default (Explicit, With Target)***\n",
      "+--------+--------------------+--------------------+------+\n",
      "| userID |        name        |       score        | rank |\n",
      "+--------+--------------------+--------------------+------+\n",
      "|  1642  |     Lady Gaga      | 0.9598510973155499 |  1   |\n",
      "|  1642  |      Rihanna       | 0.9488070588558912 |  2   |\n",
      "|  1642  |      Beyoncé       | 0.9373341714963317 |  3   |\n",
      "|  1642  | Christina Aguilera | 0.9287053318694234 |  4   |\n",
      "+--------+--------------------+--------------------+------+\n",
      "[4 rows x 4 columns]\n",
      "\n",
      "\n",
      "\n",
      "USER 1094\n",
      "\n",
      "***TOP PLAYS***\n",
      "+--------+-----------------+-----------------+------------+\n",
      "| userID |       name      | userArtistPlays | everPlayed |\n",
      "+--------+-----------------+-----------------+------------+\n",
      "|  1094  |        U2       |      320725     |     1      |\n",
      "|  1094  |      R.E.M.     |      11248      |     1      |\n",
      "|  1094  |     Interpol    |       3816      |     1      |\n",
      "|  1094  |      Keane      |       2534      |     1      |\n",
      "|  1094  |     Editors     |       2478      |     1      |\n",
      "|  1094  |    The Police   |       2085      |     1      |\n",
      "|  1094  | The Cranberries |       1569      |     1      |\n",
      "|  1094  |   The Beatles   |       792       |     1      |\n",
      "|  1094  |    Sigur Rós    |       788       |     1      |\n",
      "|  1094  |   Snow Patrol   |       749       |     1      |\n",
      "+--------+-----------------+-----------------+------------+\n",
      "[26 rows x 4 columns]\n",
      "Note: Only the head of the SFrame is printed.\n",
      "You can use print_rows(num_rows=m, num_columns=n) to print more rows and columns.\n",
      "\n",
      "\n",
      "***RECOMMENDATIONS***\n",
      "***1. Popularity (Implicit, No Target)***\n",
      "+--------+----------------+-------+------+\n",
      "| userID |      name      | score | rank |\n",
      "+--------+----------------+-------+------+\n",
      "|  1094  |   Lady Gaga    | 542.0 |  1   |\n",
      "|  1094  | Britney Spears | 464.0 |  2   |\n",
      "|  1094  |    Rihanna     | 418.0 |  3   |\n",
      "|  1094  |   Katy Perry   | 410.0 |  4   |\n",
      "+--------+----------------+-------+------+\n",
      "[4 rows x 4 columns]\n",
      "\n",
      "***2. Item Similarity (Implicit, No Target)***\n",
      "+--------+-----------------+---------------------+------+\n",
      "| userID |       name      |        score        | rank |\n",
      "+--------+-----------------+---------------------+------+\n",
      "|  1094  |      Oasis      | 0.09643120032090408 |  1   |\n",
      "|  1094  |   The Killers   | 0.09048057290223929 |  2   |\n",
      "|  1094  |   The Strokes   | 0.08235169603274418 |  3   |\n",
      "|  1094  | Franz Ferdinand | 0.08083128012143649 |  4   |\n",
      "+--------+-----------------+---------------------+------+\n",
      "[4 rows x 4 columns]\n",
      "\n",
      "***3. Ranking Factorization (Implicit, No Target)***\n",
      "+--------+---------------+--------------------+------+\n",
      "| userID |      name     |       score        | rank |\n",
      "+--------+---------------+--------------------+------+\n",
      "|  1094  |   Katy Perry  | 0.5110176077548994 |  1   |\n",
      "|  1094  |   Lady Gaga   | 0.5104539177655699 |  2   |\n",
      "|  1094  |    Rihanna    | 0.5092462548604042 |  3   |\n",
      "|  1094  | Avril Lavigne | 0.5090067503257055 |  4   |\n",
      "+--------+---------------+--------------------+------+\n",
      "[4 rows x 4 columns]\n",
      "\n",
      "***4. Popularity (Explicit, With Target)***\n",
      "+--------+--------------+-------+------+\n",
      "| userID |     name     | score | rank |\n",
      "+--------+--------------+-------+------+\n",
      "|  1094  | Evanescence  |  1.0  |  1   |\n",
      "|  1094  |     Blur     |  1.0  |  2   |\n",
      "|  1094  |    Thalía    |  1.0  |  3   |\n",
      "|  1094  | Depeche Mode |  1.0  |  4   |\n",
      "+--------+--------------+-------+------+\n",
      "[4 rows x 4 columns]\n",
      "\n",
      "***5. Ranking Factorization (Explicit, With Target)***\n",
      "+--------+---------------+--------------------+------+\n",
      "| userID |      name     |       score        | rank |\n",
      "+--------+---------------+--------------------+------+\n",
      "|  1094  |   Lady Gaga   | 0.9726266814395785 |  1   |\n",
      "|  1094  |    Beyoncé    | 0.9513879977166653 |  2   |\n",
      "|  1094  | Avril Lavigne | 0.9445899752900004 |  3   |\n",
      "|  1094  |    Shakira    | 0.9426893927156925 |  4   |\n",
      "+--------+---------------+--------------------+------+\n",
      "[4 rows x 4 columns]\n",
      "\n",
      "***6. Factorization (With Target)***\n",
      "+--------+--------------------------+--------------------+------+\n",
      "| userID |           name           |       score        | rank |\n",
      "+--------+--------------------------+--------------------+------+\n",
      "|  1094  |        Faithless         | 1.0001499362508355 |  1   |\n",
      "|  1094  | Forever the Sickest Kids | 1.0001443776553955 |  2   |\n",
      "|  1094  |       Brad Paisley       | 1.0001434286232893 |  3   |\n",
      "|  1094  | Bob Marley & The Wailers | 1.0001391832798632 |  4   |\n",
      "+--------+--------------------------+--------------------+------+\n",
      "[4 rows x 4 columns]\n",
      "\n",
      "***7. Default (Explicit, With Target)***\n",
      "+--------+--------------+--------------------+------+\n",
      "| userID |     name     |       score        | rank |\n",
      "+--------+--------------+--------------------+------+\n",
      "|  1094  |  Lady Gaga   | 0.9499113280326128 |  1   |\n",
      "|  1094  |   Rihanna    | 0.9425762984901667 |  2   |\n",
      "|  1094  |   Beyoncé    | 0.9333947813138366 |  3   |\n",
      "|  1094  | Depeche Mode | 0.9326667375862598 |  4   |\n",
      "+--------+--------------+--------------------+------+\n",
      "[4 rows x 4 columns]\n",
      "\n",
      "\n",
      "\n",
      "USER 527\n",
      "\n",
      "***TOP PLAYS***\n",
      "+--------+-----------------------+-----------------+------------+\n",
      "| userID |          name         | userArtistPlays | everPlayed |\n",
      "+--------+-----------------------+-----------------+------------+\n",
      "|  527   |       Lady Gaga       |      12679      |     1      |\n",
      "|  527   |         Lolene        |       7024      |     1      |\n",
      "|  527   |      Nicki Minaj      |       2376      |     1      |\n",
      "|  527   |        倖田來未       |       1645      |     1      |\n",
      "|  527   | Marina & the Diamonds |       1288      |     1      |\n",
      "|  527   |     Britney Spears    |       1113      |     1      |\n",
      "|  527   |     Natalia Kills     |       853       |     1      |\n",
      "|  527   |          BoA          |       834       |     1      |\n",
      "|  527   |        Rihanna        |       810       |     1      |\n",
      "|  527   |         Kelis         |       737       |     1      |\n",
      "+--------+-----------------------+-----------------+------------+\n",
      "[42 rows x 4 columns]\n",
      "Note: Only the head of the SFrame is printed.\n",
      "You can use print_rows(num_rows=m, num_columns=n) to print more rows and columns.\n",
      "\n",
      "\n",
      "***RECOMMENDATIONS***\n",
      "***1. Popularity (Implicit, No Target)***\n",
      "+--------+---------------+-------+------+\n",
      "| userID |      name     | score | rank |\n",
      "+--------+---------------+-------+------+\n",
      "|  527   |  The Beatles  | 423.0 |  1   |\n",
      "|  527   | Avril Lavigne | 358.0 |  2   |\n",
      "|  527   |      Muse     | 354.0 |  3   |\n",
      "|  527   |    Paramore   | 354.0 |  4   |\n",
      "+--------+---------------+-------+------+\n",
      "[4 rows x 4 columns]\n",
      "\n",
      "***2. Item Similarity (Implicit, No Target)***\n",
      "+--------+--------------------+---------------------+------+\n",
      "| userID |        name        |        score        | rank |\n",
      "+--------+--------------------+---------------------+------+\n",
      "|  527   |      Shakira       |  0.1542567184993199 |  1   |\n",
      "|  527   |   Avril Lavigne    | 0.13715840663228715 |  2   |\n",
      "|  527   | The Pussycat Dolls | 0.12488264696938652 |  3   |\n",
      "|  527   |  Black Eyed Peas   |   0.12437742238953  |  4   |\n",
      "+--------+--------------------+---------------------+------+\n",
      "[4 rows x 4 columns]\n",
      "\n",
      "***3. Ranking Factorization (Implicit, No Target)***\n",
      "+--------+---------------+--------------------+------+\n",
      "| userID |      name     |       score        | rank |\n",
      "+--------+---------------+--------------------+------+\n",
      "|  527   |  The Beatles  | 0.5155478479508023 |  1   |\n",
      "|  527   | Avril Lavigne | 0.5139991953276648 |  2   |\n",
      "|  527   |    Paramore   | 0.5135470322166498 |  3   |\n",
      "|  527   |      Muse     | 0.5124180400225885 |  4   |\n",
      "+--------+---------------+--------------------+------+\n",
      "[4 rows x 4 columns]\n",
      "\n",
      "***4. Popularity (Explicit, With Target)***\n",
      "+--------+--------------+-------+------+\n",
      "| userID |     name     | score | rank |\n",
      "+--------+--------------+-------+------+\n",
      "|  527   |     Blur     |  1.0  |  1   |\n",
      "|  527   |      U2      |  1.0  |  2   |\n",
      "|  527   |    Thalía    |  1.0  |  3   |\n",
      "|  527   | Depeche Mode |  1.0  |  4   |\n",
      "+--------+--------------+-------+------+\n",
      "[4 rows x 4 columns]\n",
      "\n",
      "***5. Ranking Factorization (Explicit, With Target)***\n",
      "+--------+---------------+--------------------+------+\n",
      "| userID |      name     |       score        | rank |\n",
      "+--------+---------------+--------------------+------+\n",
      "|  527   |  The Beatles  | 0.9174841733765788 |  1   |\n",
      "|  527   | Avril Lavigne | 0.9174599798279814 |  2   |\n",
      "|  527   |    Paramore   | 0.9127094858558849 |  3   |\n",
      "|  527   |      Muse     | 0.9019023932050914 |  4   |\n",
      "+--------+---------------+--------------------+------+\n",
      "[4 rows x 4 columns]\n",
      "\n",
      "***6. Factorization (With Target)***\n",
      "+--------+--------------------------+--------------------+------+\n",
      "| userID |           name           |       score        | rank |\n",
      "+--------+--------------------------+--------------------+------+\n",
      "|  527   |        Faithless         | 1.0000307594733044 |  1   |\n",
      "|  527   | Forever the Sickest Kids | 1.0000245117276343 |  2   |\n",
      "|  527   |       Brad Paisley       | 1.0000239948640797 |  3   |\n",
      "|  527   | Bob Marley & The Wailers | 1.0000195545293877 |  4   |\n",
      "+--------+--------------------------+--------------------+------+\n",
      "[4 rows x 4 columns]\n",
      "\n",
      "***7. Default (Explicit, With Target)***\n",
      "+--------+---------------+--------------------+------+\n",
      "| userID |      name     |       score        | rank |\n",
      "+--------+---------------+--------------------+------+\n",
      "|  527   |  The Beatles  | 0.9086852436885238 |  1   |\n",
      "|  527   | Avril Lavigne | 0.898397907614708  |  2   |\n",
      "|  527   |      Muse     | 0.8959459641482681 |  3   |\n",
      "|  527   |    Paramore   | 0.8910750518552959 |  4   |\n",
      "+--------+---------------+--------------------+------+\n",
      "[4 rows x 4 columns]\n",
      "\n",
      "\n",
      "\n",
      "USER 1170\n",
      "\n",
      "***TOP PLAYS***\n"
     ]
    },
    {
     "name": "stdout",
     "output_type": "stream",
     "text": [
      "+--------+--------------------------+-----------------+------------+\n",
      "| userID |           name           | userArtistPlays | everPlayed |\n",
      "+--------+--------------------------+-----------------+------------+\n",
      "|  1170  |         Paramore         |       3899      |     1      |\n",
      "|  1170  |      Arctic Monkeys      |       1270      |     1      |\n",
      "|  1170  |     Yeah Yeah Yeahs      |       870       |     1      |\n",
      "|  1170  |        The Kooks         |       828       |     1      |\n",
      "|  1170  |        Cat Power         |       751       |     1      |\n",
      "|  1170  | The All-American Rejects |       580       |     1      |\n",
      "|  1170  |        Lily Allen        |       570       |     1      |\n",
      "|  1170  |       The Beatles        |       452       |     1      |\n",
      "|  1170  |       Maxïmo Park        |       426       |     1      |\n",
      "|  1170  |    Cansei de Ser Sexy    |       403       |     1      |\n",
      "+--------+--------------------------+-----------------+------------+\n",
      "[36 rows x 4 columns]\n",
      "Note: Only the head of the SFrame is printed.\n",
      "You can use print_rows(num_rows=m, num_columns=n) to print more rows and columns.\n",
      "\n",
      "\n",
      "***RECOMMENDATIONS***\n",
      "***1. Popularity (Implicit, No Target)***\n",
      "+--------+--------------------+-------+------+\n",
      "| userID |        name        | score | rank |\n",
      "+--------+--------------------+-------+------+\n",
      "|  1170  |   Britney Spears   | 464.0 |  1   |\n",
      "|  1170  |      Rihanna       | 418.0 |  2   |\n",
      "|  1170  |      Madonna       | 374.0 |  3   |\n",
      "|  1170  | Christina Aguilera | 366.0 |  4   |\n",
      "+--------+--------------------+-------+------+\n",
      "[4 rows x 4 columns]\n",
      "\n",
      "***2. Item Similarity (Implicit, No Target)***\n",
      "+--------+----------------+---------------------+------+\n",
      "| userID |      name      |        score        | rank |\n",
      "+--------+----------------+---------------------+------+\n",
      "|  1170  |  The Killers   | 0.08581165870030721 |  1   |\n",
      "|  1170  |      MGMT      | 0.07170155843098959 |  2   |\n",
      "|  1170  |      Muse      | 0.06757517258326212 |  3   |\n",
      "|  1170  | Britney Spears | 0.06648971835772197 |  4   |\n",
      "+--------+----------------+---------------------+------+\n",
      "[4 rows x 4 columns]\n",
      "\n",
      "***3. Ranking Factorization (Implicit, No Target)***\n",
      "+--------+--------------------+--------------------+------+\n",
      "| userID |        name        |       score        | rank |\n",
      "+--------+--------------------+--------------------+------+\n",
      "|  1170  |      Rihanna       | 0.5166139994265784 |  1   |\n",
      "|  1170  |      Madonna       | 0.5150734106988801 |  2   |\n",
      "|  1170  |   Avril Lavigne    | 0.5145441150166099 |  3   |\n",
      "|  1170  | Christina Aguilera | 0.5140094354598914 |  4   |\n",
      "+--------+--------------------+--------------------+------+\n",
      "[4 rows x 4 columns]\n",
      "\n",
      "***4. Popularity (Explicit, With Target)***\n",
      "+--------+--------------+-------+------+\n",
      "| userID |     name     | score | rank |\n",
      "+--------+--------------+-------+------+\n",
      "|  1170  |     Blur     |  1.0  |  1   |\n",
      "|  1170  |      U2      |  1.0  |  2   |\n",
      "|  1170  |    Thalía    |  1.0  |  3   |\n",
      "|  1170  | Depeche Mode |  1.0  |  4   |\n",
      "+--------+--------------+-------+------+\n",
      "[4 rows x 4 columns]\n",
      "\n",
      "***5. Ranking Factorization (Explicit, With Target)***\n",
      "+--------+--------------------+--------------------+------+\n",
      "| userID |        name        |       score        | rank |\n",
      "+--------+--------------------+--------------------+------+\n",
      "|  1170  |   Britney Spears   | 0.9624075391329825 |  1   |\n",
      "|  1170  |      Rihanna       | 0.9502633613301441 |  2   |\n",
      "|  1170  | Christina Aguilera | 0.9412134051090106 |  3   |\n",
      "|  1170  |      Madonna       | 0.9362809158628806 |  4   |\n",
      "+--------+--------------------+--------------------+------+\n",
      "[4 rows x 4 columns]\n",
      "\n",
      "***6. Factorization (With Target)***\n",
      "+--------+--------------------------+--------------------+------+\n",
      "| userID |           name           |       score        | rank |\n",
      "+--------+--------------------------+--------------------+------+\n",
      "|  1170  |        Faithless         | 1.0000288975847411 |  1   |\n",
      "|  1170  | Forever the Sickest Kids | 1.0000228523456798 |  2   |\n",
      "|  1170  |       Brad Paisley       | 1.0000224393363055 |  3   |\n",
      "|  1170  | Bob Marley & The Wailers | 1.0000178733094884 |  4   |\n",
      "+--------+--------------------------+--------------------+------+\n",
      "[4 rows x 4 columns]\n",
      "\n",
      "***7. Default (Explicit, With Target)***\n",
      "+--------+--------------------+--------------------+------+\n",
      "| userID |        name        |       score        | rank |\n",
      "+--------+--------------------+--------------------+------+\n",
      "|  1170  |   Britney Spears   | 0.9749213680624962 |  1   |\n",
      "|  1170  |      Rihanna       | 0.9404406724497676 |  2   |\n",
      "|  1170  | Christina Aguilera | 0.9399992027319968 |  3   |\n",
      "|  1170  |      Madonna       | 0.9332416169345379 |  4   |\n",
      "+--------+--------------------+--------------------+------+\n",
      "[4 rows x 4 columns]\n",
      "\n",
      "\n",
      "\n",
      "USER 1798\n",
      "\n",
      "***TOP PLAYS***\n",
      "+--------+-----------------+-----------------+------------+\n",
      "| userID |       name      | userArtistPlays | everPlayed |\n",
      "+--------+-----------------+-----------------+------------+\n",
      "|  1798  |   Depeche Mode  |       1869      |     1      |\n",
      "|  1798  |  Massive Attack |       670       |     1      |\n",
      "|  1798  |     Placebo     |       409       |     1      |\n",
      "|  1798  | Michael Jackson |       354       |     1      |\n",
      "|  1798  |  Pet Shop Boys  |       269       |     1      |\n",
      "|  1798  |    Daft Punk    |       192       |     1      |\n",
      "|  1798  |       Muse      |       159       |     1      |\n",
      "|  1798  |     Kamelot     |       157       |     1      |\n",
      "|  1798  |    Dave Gahan   |       153       |     1      |\n",
      "|  1798  |   The Beatles   |       137       |     1      |\n",
      "+--------+-----------------+-----------------+------------+\n",
      "[40 rows x 4 columns]\n",
      "Note: Only the head of the SFrame is printed.\n",
      "You can use print_rows(num_rows=m, num_columns=n) to print more rows and columns.\n",
      "\n",
      "\n",
      "***RECOMMENDATIONS***\n",
      "***1. Popularity (Implicit, No Target)***\n",
      "+--------+----------------+-------+------+\n",
      "| userID |      name      | score | rank |\n",
      "+--------+----------------+-------+------+\n",
      "|  1798  |   Lady Gaga    | 542.0 |  1   |\n",
      "|  1798  | Britney Spears | 464.0 |  2   |\n",
      "|  1798  |    Rihanna     | 418.0 |  3   |\n",
      "|  1798  |   Katy Perry   | 410.0 |  4   |\n",
      "+--------+----------------+-------+------+\n",
      "[4 rows x 4 columns]\n",
      "\n",
      "***2. Item Similarity (Implicit, No Target)***\n",
      "+--------+--------------+---------------------+------+\n",
      "| userID |     name     |        score        | rank |\n",
      "+--------+--------------+---------------------+------+\n",
      "|  1798  | Depeche Mode | 0.07025288105010986 |  1   |\n",
      "|  1798  |    Oasis     | 0.06496736526489258 |  2   |\n",
      "|  1798  | The Killers  | 0.06210854768753052 |  3   |\n",
      "|  1798  |      U2      | 0.05641375064849854 |  4   |\n",
      "+--------+--------------+---------------------+------+\n",
      "[4 rows x 4 columns]\n",
      "\n",
      "***3. Ranking Factorization (Implicit, No Target)***\n",
      "+--------+------------+--------------------+------+\n",
      "| userID |    name    |       score        | rank |\n",
      "+--------+------------+--------------------+------+\n",
      "|  1798  | Lady Gaga  | 0.5194996266442112 |  1   |\n",
      "|  1798  | Katy Perry | 0.5167376358425021 |  2   |\n",
      "|  1798  |  Rihanna   | 0.5165785062168113 |  3   |\n",
      "|  1798  |  Madonna   | 0.5150569179198423 |  4   |\n",
      "+--------+------------+--------------------+------+\n",
      "[4 rows x 4 columns]\n",
      "\n",
      "***4. Popularity (Explicit, With Target)***\n",
      "+--------+--------------+-------+------+\n",
      "| userID |     name     | score | rank |\n",
      "+--------+--------------+-------+------+\n",
      "|  1798  |     Blur     |  1.0  |  1   |\n",
      "|  1798  |      U2      |  1.0  |  2   |\n",
      "|  1798  |    Thalía    |  1.0  |  3   |\n",
      "|  1798  | Depeche Mode |  1.0  |  4   |\n",
      "+--------+--------------+-------+------+\n",
      "[4 rows x 4 columns]\n",
      "\n",
      "***5. Ranking Factorization (Explicit, With Target)***\n",
      "+--------+----------------+--------------------+------+\n",
      "| userID |      name      |       score        | rank |\n",
      "+--------+----------------+--------------------+------+\n",
      "|  1798  |   Lady Gaga    | 0.9848015401512384 |  1   |\n",
      "|  1798  | Britney Spears | 0.9764926605857909 |  2   |\n",
      "|  1798  |    Rihanna     | 0.9600633196532726 |  3   |\n",
      "|  1798  |   Katy Perry   | 0.9507295535877347 |  4   |\n",
      "+--------+----------------+--------------------+------+\n",
      "[4 rows x 4 columns]\n",
      "\n",
      "***6. Factorization (With Target)***\n",
      "+--------+--------------------------+--------------------+------+\n",
      "| userID |           name           |       score        | rank |\n",
      "+--------+--------------------------+--------------------+------+\n",
      "|  1798  |        Faithless         | 1.0000227176775525 |  1   |\n",
      "|  1798  |       Brad Paisley       | 1.0000159253603442 |  2   |\n",
      "|  1798  | Forever the Sickest Kids |  1.00001543054384  |  3   |\n",
      "|  1798  | Bob Marley & The Wailers | 1.0000107443356683 |  4   |\n",
      "+--------+--------------------------+--------------------+------+\n",
      "[4 rows x 4 columns]\n",
      "\n",
      "***7. Default (Explicit, With Target)***\n",
      "+--------+----------------+--------------------+------+\n",
      "| userID |      name      |       score        | rank |\n",
      "+--------+----------------+--------------------+------+\n",
      "|  1798  |   Lady Gaga    | 0.9744038712233305 |  1   |\n",
      "|  1798  | Britney Spears | 0.9705582028254867 |  2   |\n",
      "|  1798  |   Katy Perry   | 0.939420728944242  |  3   |\n",
      "|  1798  |    Rihanna     | 0.9368800108786672 |  4   |\n",
      "+--------+----------------+--------------------+------+\n",
      "[4 rows x 4 columns]\n",
      "\n",
      "\n",
      "\n",
      "USER 214\n",
      "\n",
      "***TOP PLAYS***\n",
      "+--------+---------------------+-----------------+------------+\n",
      "| userID |         name        | userArtistPlays | everPlayed |\n",
      "+--------+---------------------+-----------------+------------+\n",
      "|  214   |   Michael Jackson   |       7462      |     1      |\n",
      "|  214   |       Madonna       |       5755      |     1      |\n",
      "|  214   |    Britney Spears   |       900       |     1      |\n",
      "|  214   | The Pretty Reckless |       750       |     1      |\n",
      "|  214   |        Prince       |       630       |     1      |\n",
      "|  214   |        AC/DC        |       628       |     1      |\n",
      "|  214   |    Janet Jackson    |       566       |     1      |\n",
      "|  214   |     The Runaways    |       469       |     1      |\n",
      "|  214   |  Christina Aguilera |       373       |     1      |\n",
      "|  214   |    Kylie Minogue    |       329       |     1      |\n",
      "+--------+---------------------+-----------------+------------+\n",
      "[39 rows x 4 columns]\n",
      "Note: Only the head of the SFrame is printed.\n",
      "You can use print_rows(num_rows=m, num_columns=n) to print more rows and columns.\n",
      "\n",
      "\n",
      "***RECOMMENDATIONS***\n",
      "***1. Popularity (Implicit, No Target)***\n",
      "+--------+---------------+-------+------+\n",
      "| userID |      name     | score | rank |\n",
      "+--------+---------------+-------+------+\n",
      "|  214   | Avril Lavigne | 358.0 |  1   |\n",
      "|  214   |      Muse     | 354.0 |  2   |\n",
      "|  214   |   Radiohead   | 337.0 |  3   |\n",
      "|  214   |    Coldplay   | 311.0 |  4   |\n",
      "+--------+---------------+-------+------+\n",
      "[4 rows x 4 columns]\n",
      "\n",
      "***2. Item Similarity (Implicit, No Target)***\n",
      "+--------+----------------+---------------------+------+\n",
      "| userID |      name      |        score        | rank |\n",
      "+--------+----------------+---------------------+------+\n",
      "|  214   | Avril Lavigne  |  0.1660974744038704 |  1   |\n",
      "|  214   | Kelly Clarkson | 0.14847536423267463 |  2   |\n",
      "|  214   | Jennifer Lopez |  0.1423954413487361 |  3   |\n",
      "|  214   | Ashley Tisdale | 0.12428680444375062 |  4   |\n",
      "+--------+----------------+---------------------+------+\n",
      "[4 rows x 4 columns]\n",
      "\n",
      "***3. Ranking Factorization (Implicit, No Target)***\n",
      "+--------+---------------+--------------------+------+\n",
      "| userID |      name     |       score        | rank |\n",
      "+--------+---------------+--------------------+------+\n",
      "|  214   | Avril Lavigne | 0.5146088144187653 |  1   |\n",
      "|  214   |      Muse     | 0.5125632995614263 |  2   |\n",
      "|  214   |   Radiohead   | 0.5106307633322362 |  3   |\n",
      "|  214   |  Depeche Mode | 0.5074246333129719 |  4   |\n",
      "+--------+---------------+--------------------+------+\n",
      "[4 rows x 4 columns]\n",
      "\n",
      "***4. Popularity (Explicit, With Target)***\n",
      "+--------+--------------+-------+------+\n",
      "| userID |     name     | score | rank |\n",
      "+--------+--------------+-------+------+\n",
      "|  214   |     Blur     |  1.0  |  1   |\n",
      "|  214   |      U2      |  1.0  |  2   |\n",
      "|  214   |    Thalía    |  1.0  |  3   |\n",
      "|  214   | Depeche Mode |  1.0  |  4   |\n",
      "+--------+--------------+-------+------+\n",
      "[4 rows x 4 columns]\n",
      "\n",
      "***5. Ranking Factorization (Explicit, With Target)***\n",
      "+--------+---------------+--------------------+------+\n",
      "| userID |      name     |       score        | rank |\n",
      "+--------+---------------+--------------------+------+\n",
      "|  214   | Avril Lavigne | 0.9108591983094811 |  1   |\n",
      "|  214   |      Muse     | 0.8963135802187026 |  2   |\n",
      "|  214   |  Depeche Mode | 0.8860459704883397 |  3   |\n",
      "|  214   |    Coldplay   | 0.8841070464113727 |  4   |\n",
      "+--------+---------------+--------------------+------+\n",
      "[4 rows x 4 columns]\n",
      "\n",
      "***6. Factorization (With Target)***\n",
      "+--------+--------------------------+--------------------+------+\n",
      "| userID |           name           |       score        | rank |\n",
      "+--------+--------------------------+--------------------+------+\n",
      "|  214   |        Faithless         | 1.000030251100668  |  1   |\n",
      "|  214   | Forever the Sickest Kids | 1.000024487142536  |  2   |\n",
      "|  214   |       Brad Paisley       | 1.0000236088531977 |  3   |\n",
      "|  214   | Bob Marley & The Wailers | 1.000019338063531  |  4   |\n",
      "+--------+--------------------------+--------------------+------+\n",
      "[4 rows x 4 columns]\n",
      "\n",
      "***7. Default (Explicit, With Target)***\n",
      "+--------+---------------+--------------------+------+\n",
      "| userID |      name     |       score        | rank |\n",
      "+--------+---------------+--------------------+------+\n",
      "|  214   | Avril Lavigne | 0.9095581583678722 |  1   |\n",
      "|  214   |      Muse     | 0.9041920946910977 |  2   |\n",
      "|  214   |   Radiohead   | 0.889724322129041  |  3   |\n",
      "|  214   |    Coldplay   | 0.8876792246010154 |  4   |\n",
      "+--------+---------------+--------------------+------+\n",
      "[4 rows x 4 columns]\n",
      "\n",
      "\n",
      "\n",
      "USER 2084\n",
      "\n",
      "***TOP PLAYS***\n",
      "+--------+-----------------+-----------------+------------+\n",
      "| userID |       name      | userArtistPlays | everPlayed |\n",
      "+--------+-----------------+-----------------+------------+\n",
      "|  2084  |  Arctic Monkeys |      12498      |     1      |\n",
      "|  2084  |   The Strokes   |       2751      |     1      |\n",
      "|  2084  |       Muse      |       2703      |     1      |\n",
      "|  2084  |     Interpol    |       2140      |     1      |\n",
      "|  2084  |      Moptop     |       2015      |     1      |\n",
      "|  2084  | Franz Ferdinand |       1519      |     1      |\n",
      "|  2084  |   Los Hermanos  |       1293      |     1      |\n",
      "|  2084  |   Babyshambles  |       1228      |     1      |\n",
      "|  2084  |  The Libertines |       1116      |     1      |\n",
      "|  2084  |  The Fratellis  |       976       |     1      |\n",
      "+--------+-----------------+-----------------+------------+\n",
      "[31 rows x 4 columns]\n",
      "Note: Only the head of the SFrame is printed.\n",
      "You can use print_rows(num_rows=m, num_columns=n) to print more rows and columns.\n",
      "\n",
      "\n",
      "***RECOMMENDATIONS***\n",
      "***1. Popularity (Implicit, No Target)***\n",
      "+--------+----------------+-------+------+\n",
      "| userID |      name      | score | rank |\n",
      "+--------+----------------+-------+------+\n",
      "|  2084  |   Lady Gaga    | 542.0 |  1   |\n",
      "|  2084  | Britney Spears | 464.0 |  2   |\n",
      "|  2084  |    Rihanna     | 418.0 |  3   |\n",
      "|  2084  |   Katy Perry   | 410.0 |  4   |\n",
      "+--------+----------------+-------+------+\n",
      "[4 rows x 4 columns]\n",
      "\n",
      "***2. Item Similarity (Implicit, No Target)***\n",
      "+--------+---------------------+---------------------+------+\n",
      "| userID |         name        |        score        | rank |\n",
      "+--------+---------------------+---------------------+------+\n",
      "|  2084  |  The White Stripes  |  0.0955064469768155 |  1   |\n",
      "|  2084  |         MGMT        |  0.0915395405984694 |  2   |\n",
      "|  2084  | Death Cab for Cutie | 0.08629909061616467 |  3   |\n",
      "|  2084  |       Nirvana       | 0.08265269956281109 |  4   |\n",
      "+--------+---------------------+---------------------+------+\n",
      "[4 rows x 4 columns]\n",
      "\n",
      "***3. Ranking Factorization (Implicit, No Target)***\n",
      "+--------+------------+--------------------+------+\n",
      "| userID |    name    |       score        | rank |\n",
      "+--------+------------+--------------------+------+\n",
      "|  2084  | Lady Gaga  | 0.5165213716336094 |  1   |\n",
      "|  2084  | Katy Perry | 0.5146986299319432 |  2   |\n",
      "|  2084  |  Rihanna   | 0.5140840121051019 |  3   |\n",
      "|  2084  |  Madonna   | 0.5127333788664242 |  4   |\n",
      "+--------+------------+--------------------+------+\n",
      "[4 rows x 4 columns]\n",
      "\n",
      "***4. Popularity (Explicit, With Target)***\n",
      "+--------+--------------+-------+------+\n",
      "| userID |     name     | score | rank |\n",
      "+--------+--------------+-------+------+\n",
      "|  2084  |     Blur     |  1.0  |  1   |\n",
      "|  2084  |      U2      |  1.0  |  2   |\n",
      "|  2084  |    Thalía    |  1.0  |  3   |\n",
      "|  2084  | Depeche Mode |  1.0  |  4   |\n",
      "+--------+--------------+-------+------+\n",
      "[4 rows x 4 columns]\n",
      "\n",
      "***5. Ranking Factorization (Explicit, With Target)***\n",
      "+--------+----------------+--------------------+------+\n",
      "| userID |      name      |       score        | rank |\n",
      "+--------+----------------+--------------------+------+\n",
      "|  2084  |   Lady Gaga    | 0.9614063174813055 |  1   |\n",
      "|  2084  | Britney Spears | 0.9349570409394801 |  2   |\n",
      "|  2084  |    Rihanna     | 0.9326098300516605 |  3   |\n",
      "|  2084  |   Katy Perry   | 0.9273400758975185 |  4   |\n",
      "+--------+----------------+--------------------+------+\n",
      "[4 rows x 4 columns]\n",
      "\n",
      "***6. Factorization (With Target)***\n",
      "+--------+--------------------------+--------------------+------+\n",
      "| userID |           name           |       score        | rank |\n",
      "+--------+--------------------------+--------------------+------+\n",
      "|  2084  |        Faithless         | 1.000036436020764  |  1   |\n",
      "|  2084  |       Brad Paisley       | 1.0000297112040926 |  2   |\n",
      "|  2084  | Forever the Sickest Kids | 1.0000291360629632 |  3   |\n",
      "|  2084  | Bob Marley & The Wailers | 1.0000244869063977 |  4   |\n",
      "+--------+--------------------------+--------------------+------+\n",
      "[4 rows x 4 columns]\n",
      "\n",
      "***7. Default (Explicit, With Target)***\n",
      "+--------+----------------+--------------------+------+\n",
      "| userID |      name      |       score        | rank |\n",
      "+--------+----------------+--------------------+------+\n",
      "|  2084  |   Lady Gaga    | 0.9589685923419893 |  1   |\n",
      "|  2084  | Britney Spears | 0.9453002603258938 |  2   |\n",
      "|  2084  |    Rihanna     | 0.9287167870206758 |  3   |\n",
      "|  2084  |   Katy Perry   | 0.9246575266588479 |  4   |\n",
      "+--------+----------------+--------------------+------+\n",
      "[4 rows x 4 columns]\n",
      "\n",
      "\n",
      "\n"
     ]
    }
   ],
   "source": [
    "# although score improves, results seem to worsen when target is used in the model\n",
    "played_vs_rec(user_list,\n",
    "              sf,\n",
    "              model_list,\n",
    "              name_list,\n",
    "              user_id='userID',\n",
    "              item_id='name',\n",
    "              plays='userArtistPlays',\n",
    "              target='everPlayed')"
   ]
  },
  {
   "cell_type": "code",
   "execution_count": 53,
   "metadata": {},
   "outputs": [
    {
     "ename": "NameError",
     "evalue": "name 'model_list' is not defined",
     "output_type": "error",
     "traceback": [
      "\u001b[0;31m---------------------------------------------------------------------------\u001b[0m",
      "\u001b[0;31mNameError\u001b[0m                                 Traceback (most recent call last)",
      "\u001b[0;32m<ipython-input-53-807b172e1c5c>\u001b[0m in \u001b[0;36m<module>\u001b[0;34m\u001b[0m\n\u001b[1;32m      3\u001b[0m played_vs_rec(user_list,\n\u001b[1;32m      4\u001b[0m               \u001b[0msf\u001b[0m\u001b[0;34m,\u001b[0m\u001b[0;34m\u001b[0m\u001b[0;34m\u001b[0m\u001b[0m\n\u001b[0;32m----> 5\u001b[0;31m               \u001b[0;34m[\u001b[0m\u001b[0mmodel_list\u001b[0m\u001b[0;34m[\u001b[0m\u001b[0;36m1\u001b[0m\u001b[0;34m]\u001b[0m\u001b[0;34m]\u001b[0m\u001b[0;34m,\u001b[0m\u001b[0;34m\u001b[0m\u001b[0;34m\u001b[0m\u001b[0m\n\u001b[0m\u001b[1;32m      6\u001b[0m               \u001b[0;34m[\u001b[0m\u001b[0mname_list\u001b[0m\u001b[0;34m[\u001b[0m\u001b[0;36m1\u001b[0m\u001b[0;34m]\u001b[0m\u001b[0;34m]\u001b[0m\u001b[0;34m,\u001b[0m\u001b[0;34m\u001b[0m\u001b[0;34m\u001b[0m\u001b[0m\n\u001b[1;32m      7\u001b[0m               \u001b[0muser_id\u001b[0m\u001b[0;34m=\u001b[0m\u001b[0;34m'userID'\u001b[0m\u001b[0;34m,\u001b[0m\u001b[0;34m\u001b[0m\u001b[0;34m\u001b[0m\u001b[0m\n",
      "\u001b[0;31mNameError\u001b[0m: name 'model_list' is not defined"
     ]
    }
   ],
   "source": [
    "# Using the item similarity recommender, lets compare top plays with recommendations\n",
    "# for our user list\n",
    "played_vs_rec(user_list,\n",
    "              sf,\n",
    "              [model_list[1]],\n",
    "              [name_list[1]],\n",
    "              user_id='userID',\n",
    "              item_id='name',\n",
    "              plays='userArtistPlays',\n",
    "              target='everPlayed')"
   ]
  },
  {
   "cell_type": "code",
   "execution_count": 58,
   "metadata": {},
   "outputs": [
    {
     "data": {
      "text/plain": [
       "['Britney Spears',\n",
       " 'Snoop Dogg',\n",
       " 'Eminem',\n",
       " 'Beatles',\n",
       " 'D Bowie',\n",
       " 'Tiesto',\n",
       " 'Basshunter',\n",
       " 'Akon',\n",
       " 'Ace of Base',\n",
       " 'Garth Brooks']"
      ]
     },
     "execution_count": 58,
     "metadata": {},
     "output_type": "execute_result"
    }
   ],
   "source": [
    "artist_list"
   ]
  },
  {
   "cell_type": "code",
   "execution_count": 59,
   "metadata": {},
   "outputs": [],
   "source": [
    "def find_similar(artist_list,model_list,data):\n",
    "    for artist in artist_list:\n",
    "        print(artist.upper())\n",
    "        fuzz = process.extract(artist,data,limit=2) # applying fuzzy matching\n",
    "        print(model_list[1].get_similar_items([fuzz[0][0]],k=5))     \n",
    "    return ''"
   ]
  },
  {
   "cell_type": "code",
   "execution_count": 60,
   "metadata": {},
   "outputs": [
    {
     "name": "stdout",
     "output_type": "stream",
     "text": [
      "BRITNEY SPEARS\n",
      "+----------------+--------------------+--------------------+------+\n",
      "|      name      |      similar       |       score        | rank |\n",
      "+----------------+--------------------+--------------------+------+\n",
      "| Britney Spears |      Rihanna       | 0.594936728477478  |  1   |\n",
      "| Britney Spears | Christina Aguilera | 0.5689980983734131 |  2   |\n",
      "| Britney Spears |     Katy Perry     | 0.5387324094772339 |  3   |\n",
      "| Britney Spears |     Lady Gaga      | 0.538226306438446  |  4   |\n",
      "| Britney Spears |      Beyoncé       | 0.5074626803398132 |  5   |\n",
      "+----------------+--------------------+--------------------+------+\n",
      "[5 rows x 4 columns]\n",
      "\n",
      "SNOOP DOGG\n",
      "+------------+--------------+---------------------+------+\n",
      "|    name    |   similar    |        score        | rank |\n",
      "+------------+--------------+---------------------+------+\n",
      "| Snoop Dogg |     2Pac     |         0.25        |  1   |\n",
      "| Snoop Dogg |     DMX      | 0.22727274894714355 |  2   |\n",
      "| Snoop Dogg |   Ice Cube   | 0.21739131212234497 |  3   |\n",
      "| Snoop Dogg | Busta Rhymes | 0.21739131212234497 |  4   |\n",
      "| Snoop Dogg | Cypress Hill |  0.1785714030265808 |  5   |\n",
      "+------------+--------------+---------------------+------+\n",
      "[5 rows x 4 columns]\n",
      "\n",
      "EMINEM\n",
      "+--------+-----------------+---------------------+------+\n",
      "|  name  |     similar     |        score        | rank |\n",
      "+--------+-----------------+---------------------+------+\n",
      "| Eminem |      Ke$ha      |  0.2053789496421814 |  1   |\n",
      "| Eminem | Black Eyed Peas | 0.17277485132217407 |  2   |\n",
      "| Eminem |    Kanye West   |       0.171875      |  3   |\n",
      "| Eminem |    Katy Perry   |  0.1702970266342163 |  4   |\n",
      "| Eminem |     Rihanna     |     0.169921875     |  5   |\n",
      "+--------+-----------------+---------------------+------+\n",
      "[5 rows x 4 columns]\n",
      "\n",
      "BEATLES\n",
      "+-------------+----------------+---------------------+------+\n",
      "|     name    |    similar     |        score        | rank |\n",
      "+-------------+----------------+---------------------+------+\n",
      "| The Beatles |   Radiohead    | 0.23980426788330078 |  1   |\n",
      "| The Beatles |   Pink Floyd   | 0.22284644842147827 |  2   |\n",
      "| The Beatles | Arctic Monkeys | 0.21647506952285767 |  3   |\n",
      "| The Beatles |      Muse      |  0.2159624695777893 |  4   |\n",
      "| The Beatles |  Led Zeppelin  | 0.20528453588485718 |  5   |\n",
      "+-------------+----------------+---------------------+------+\n",
      "[5 rows x 4 columns]\n",
      "\n",
      "D BOWIE\n",
      "+-------------+--------------+---------------------+------+\n",
      "|     name    |   similar    |        score        | rank |\n",
      "+-------------+--------------+---------------------+------+\n",
      "| David Bowie | The Beatles  | 0.20162934064865112 |  1   |\n",
      "| David Bowie |   The Cure   |  0.2006579041481018 |  2   |\n",
      "| David Bowie | Depeche Mode | 0.18103450536727905 |  3   |\n",
      "| David Bowie | Joy Division |  0.1788617968559265 |  4   |\n",
      "| David Bowie |  The Smiths  | 0.17307692766189575 |  5   |\n",
      "+-------------+--------------+---------------------+------+\n",
      "[5 rows x 4 columns]\n",
      "\n",
      "TIESTO\n",
      "+--------+------------------+---------------------+------+\n",
      "|  name  |     similar      |        score        | rank |\n",
      "+--------+------------------+---------------------+------+\n",
      "| Tiësto | Armin van Buuren |  0.2083333134651184 |  1   |\n",
      "| Tiësto |     deadmau5     |  0.1086956262588501 |  2   |\n",
      "| Tiësto |       ATB        |  0.0961538553237915 |  3   |\n",
      "| Tiësto |    Basshunter    | 0.08510637283325195 |  4   |\n",
      "| Tiësto |   David Guetta   | 0.07547169923782349 |  5   |\n",
      "+--------+------------------+---------------------+------+\n",
      "[5 rows x 4 columns]\n",
      "\n",
      "BASSHUNTER\n",
      "+------------+---------------+---------------------+------+\n",
      "|    name    |    similar    |        score        | rank |\n",
      "+------------+---------------+---------------------+------+\n",
      "| Basshunter |     Tiësto    | 0.08510637283325195 |  1   |\n",
      "| Basshunter |      Akon     | 0.06818181276321411 |  2   |\n",
      "| Basshunter |    Cascada    |        0.0625       |  3   |\n",
      "| Basshunter | L'Arc~en~Ciel |        0.0625       |  4   |\n",
      "| Basshunter |   Sandy Leah  | 0.06060606241226196 |  5   |\n",
      "+------------+---------------+---------------------+------+\n",
      "[5 rows x 4 columns]\n",
      "\n",
      "AKON\n",
      "+------+-------------+---------------------+------+\n",
      "| name |   similar   |        score        | rank |\n",
      "+------+-------------+---------------------+------+\n",
      "| Akon |   Jay Sean  |  0.1627907156944275 |  1   |\n",
      "| Akon | Chris Brown | 0.15662652254104614 |  2   |\n",
      "| Akon |   50 Cent   | 0.12962961196899414 |  3   |\n",
      "| Akon |    Ne-Yo    | 0.12857145071029663 |  4   |\n",
      "| Akon |     T.I.    |  0.1267605423927307 |  5   |\n",
      "+------+-------------+---------------------+------+\n",
      "[5 rows x 4 columns]\n",
      "\n",
      "ACE OF BASE\n",
      "+-------------+---------------+---------------------+------+\n",
      "|     name    |    similar    |        score        | rank |\n",
      "+-------------+---------------+---------------------+------+\n",
      "| Ace of Base |   Elton John  | 0.07692307233810425 |  1   |\n",
      "| Ace of Base |   Alphaville  |  0.0731707215309143 |  2   |\n",
      "| Ace of Base |    Westlife   |  0.0731707215309143 |  3   |\n",
      "| Ace of Base |   Billy Joel  |  0.0731707215309143 |  4   |\n",
      "| Ace of Base | Amy Macdonald | 0.06976741552352905 |  5   |\n",
      "+-------------+---------------+---------------------+------+\n",
      "[5 rows x 4 columns]\n",
      "\n",
      "GARTH BROOKS\n",
      "+--------------+-----------------+---------------------+------+\n",
      "|     name     |     similar     |        score        | rank |\n",
      "+--------------+-----------------+---------------------+------+\n",
      "| Garth Brooks |  George Strait  |         0.5         |  1   |\n",
      "| Garth Brooks |   Keith Urban   |        0.375        |  2   |\n",
      "| Garth Brooks | Miranda Lambert | 0.29411762952804565 |  3   |\n",
      "| Garth Brooks |   Brad Paisley  | 0.21739131212234497 |  4   |\n",
      "| Garth Brooks |  Rascal Flatts  | 0.19999998807907104 |  5   |\n",
      "+--------------+-----------------+---------------------+------+\n",
      "[5 rows x 4 columns]\n",
      "\n"
     ]
    },
    {
     "data": {
      "text/plain": [
       "''"
      ]
     },
     "execution_count": 60,
     "metadata": {},
     "output_type": "execute_result"
    }
   ],
   "source": [
    "find_similar(artist_list,model_list,sf['name'])"
   ]
  },
  {
   "cell_type": "code",
   "execution_count": null,
   "metadata": {},
   "outputs": [],
   "source": []
  }
 ],
 "metadata": {
  "kernelspec": {
   "display_name": "Python 3",
   "language": "python",
   "name": "python3"
  },
  "language_info": {
   "codemirror_mode": {
    "name": "ipython",
    "version": 3
   },
   "file_extension": ".py",
   "mimetype": "text/x-python",
   "name": "python",
   "nbconvert_exporter": "python",
   "pygments_lexer": "ipython3",
   "version": "3.6.8"
  }
 },
 "nbformat": 4,
 "nbformat_minor": 2
}
